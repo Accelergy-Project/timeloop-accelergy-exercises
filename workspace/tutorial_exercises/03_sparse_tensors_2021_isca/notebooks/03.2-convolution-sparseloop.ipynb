{
 "cells": [
  {
   "cell_type": "markdown",
   "metadata": {},
   "source": [
    "# Convolution\n"
   ]
  },
  {
   "cell_type": "markdown",
   "metadata": {},
   "source": [
    "## Exercise 03.2.1 1D Convolution\n",
    "\n",
    "$$ O_{q} = I_{(q+s)} \\times F_{s} $$\n",
    "\n",
    "<img align=\"center\" src=\"figures/03.2.1.conv1d_setup.png\" alt=\"conv1d_setup\" style=\"width:90%\">\n",
    "\n",
    "\n",
    "### Understanding the Inputs: Workload Specification\n"
   ]
  },
  {
   "cell_type": "code",
   "execution_count": null,
   "metadata": {},
   "outputs": [],
   "source": [
    "%set_env BASELINE_DIR=../../../example_designs\n",
    "%set_env DESIGNS_DIR=../../../example_designs/example_designs/sparseloop\n",
    "%set_env SCRIPTS_DIR=../scripts"
   ]
  },
  {
   "cell_type": "code",
   "execution_count": null,
   "metadata": {},
   "outputs": [],
   "source": [
    "%%bash\n",
    "cd $DESIGNS_DIR/03.2.1-conv1d/ && cat problem.yaml"
   ]
  },
  {
   "cell_type": "markdown",
   "metadata": {},
   "source": [
    "### Understanding Inputs: Architecture Specification"
   ]
  },
  {
   "cell_type": "code",
   "execution_count": null,
   "metadata": {},
   "outputs": [],
   "source": [
    "%%bash\n",
    "cd $DESIGNS_DIR/03.2.1-conv1d/ && cat arch.yaml"
   ]
  },
  {
   "cell_type": "markdown",
   "metadata": {},
   "source": [
    "### Understanding the Inputs: Mapping Specification"
   ]
  },
  {
   "cell_type": "code",
   "execution_count": null,
   "metadata": {
    "scrolled": false
   },
   "outputs": [],
   "source": [
    "%%bash\n",
    "cd $DESIGNS_DIR/03.2.1-conv1d/ && cat mapping.yaml"
   ]
  },
  {
   "cell_type": "markdown",
   "metadata": {},
   "source": [
    "### Understanding the Inputs: Sparse Optimziation Specification\n",
    "- Compressed representation format for Weights. Note we use run length encoding (RLE) this time.\n",
    "- Skip Inputs and Outputs based on Weights"
   ]
  },
  {
   "cell_type": "code",
   "execution_count": null,
   "metadata": {
    "scrolled": false
   },
   "outputs": [],
   "source": [
    "%%bash\n",
    "cd $DESIGNS_DIR/03.2.1-conv1d/ && cat arch.yaml"
   ]
  },
  {
   "cell_type": "markdown",
   "metadata": {},
   "source": [
    "### Run Example"
   ]
  },
  {
   "cell_type": "code",
   "execution_count": null,
   "metadata": {},
   "outputs": [],
   "source": [
    "%%bash\n",
    "cd $BASELINE_DIR\n",
    "python3 run_example_designs.py --architecture sparseloop/03.2.1-conv1d"
   ]
  },
  {
   "cell_type": "markdown",
   "metadata": {},
   "source": [
    "### Examine Important Stats\n",
    "- Only Weights data has associated metadata (and thus the savings and overhead brought by metadata).\n",
    "- Inputs and Outputs are skipped according to Weight's sparsity.\n",
    "- Reduced number of computes due to skipping at the `Buffer`.\n",
    "- Overall similar behaviors compared to what we saw for the similar dot product example."
   ]
  },
  {
   "cell_type": "code",
   "execution_count": null,
   "metadata": {},
   "outputs": [],
   "source": [
    "%set_env OUT_DIR=../../../example_designs/example_designs/sparseloop/03.2.1-conv1d/outputs/default_problem"
   ]
  },
  {
   "cell_type": "code",
   "execution_count": null,
   "metadata": {},
   "outputs": [],
   "source": [
    "%%bash\n",
    "export SCRIPT_PATH=$(realpath $SCRIPTS_DIR/03.2-conv-aggregated-stats.sh)\n",
    "chmod +x $SCRIPT_PATH && cd $OUT_DIR && $SCRIPT_PATH"
   ]
  },
  {
   "cell_type": "markdown",
   "metadata": {},
   "source": [
    "## Conv1D with Output Channels\n",
    "\n",
    "\n",
    "$$ O_{m,q} = I_{(q+s)} \\times F_{m,s} $$\n",
    "\n",
    "## Exercise 03.2.2 conv1D + Outputs Channels\n",
    "\n",
    "### Understanding the Inputs: Workload Specification"
   ]
  },
  {
   "cell_type": "code",
   "execution_count": null,
   "metadata": {},
   "outputs": [],
   "source": [
    "%%bash\n",
    "cd $DESIGNS_DIR/03.2.2-conv1d+oc/ && cat problem.yaml"
   ]
  },
  {
   "cell_type": "markdown",
   "metadata": {},
   "source": [
    "### Understanding the Inputs: Mapping Specification for New Workload\n"
   ]
  },
  {
   "cell_type": "code",
   "execution_count": null,
   "metadata": {},
   "outputs": [],
   "source": [
    "%%bash\n",
    "cd $DESIGNS_DIR/03.2.2-conv1d+oc/ && cat mapping.yaml"
   ]
  },
  {
   "cell_type": "markdown",
   "metadata": {},
   "source": [
    "### Understanding the Inputs: Sparse Optimization Specification\n",
    "The extra output channel dimension introduces an extra rank in data representation."
   ]
  },
  {
   "cell_type": "code",
   "execution_count": null,
   "metadata": {},
   "outputs": [],
   "source": [
    "%%bash\n",
    "cd $DESIGNS_DIR/03.2.2-conv1d+oc/ && cat arch.yaml"
   ]
  },
  {
   "cell_type": "markdown",
   "metadata": {},
   "source": [
    "### Run Example"
   ]
  },
  {
   "cell_type": "code",
   "execution_count": null,
   "metadata": {
    "scrolled": true
   },
   "outputs": [],
   "source": [
    "%%bash\n",
    "cd $BASELINE_DIR\n",
    "python3 run_example_designs.py --architecture sparseloop/03.2.2-conv1d+oc"
   ]
  },
  {
   "cell_type": "markdown",
   "metadata": {},
   "source": [
    "## Exercise 03.2.3 Conv1D + Output Channels- Spatial Tiling\n",
    "\n",
    "### Understanding the Inputs: Architecture Specification\n",
    "\n",
    "- Spatial fanout of the PEs for parallel processing\n",
    "- Reduced the per-PE buffer size\n",
    "\n",
    "<img align=\"center\" src=\"figures/03.2.3.spatial_arch.png\" alt=\"figures/03.2.3.spatial_arch.png\" style=\"width:60%\">"
   ]
  },
  {
   "cell_type": "code",
   "execution_count": null,
   "metadata": {},
   "outputs": [],
   "source": [
    "%%bash\n",
    "cd $DESIGNS_DIR/03.2.3-conv1d+oc-spatial/ && cat arch.yaml"
   ]
  },
  {
   "cell_type": "markdown",
   "metadata": {},
   "source": [
    "### Understanding the Inputs: Mapping Specification"
   ]
  },
  {
   "cell_type": "code",
   "execution_count": null,
   "metadata": {},
   "outputs": [],
   "source": [
    "%%bash\n",
    "cd $DESIGNS_DIR/03.2.3-conv1d+oc-spatial/ && cat mapping.yaml"
   ]
  },
  {
   "cell_type": "markdown",
   "metadata": {},
   "source": [
    "### Understanding the Inputs: Sparse Optimization Specification\n",
    "\n",
    "Because of the spatial tiling, we need to pretile the tensor before sending it out for processing. We now have more ranks for Filter."
   ]
  },
  {
   "cell_type": "code",
   "execution_count": null,
   "metadata": {},
   "outputs": [],
   "source": [
    "%%bash\n",
    "cd $DESIGNS_DIR/03.2.3-conv1d+oc-spatial/ && cat arch.yaml"
   ]
  },
  {
   "cell_type": "markdown",
   "metadata": {},
   "source": [
    "### Run Example"
   ]
  },
  {
   "cell_type": "code",
   "execution_count": null,
   "metadata": {},
   "outputs": [],
   "source": [
    "%%bash\n",
    "cd $BASELINE_DIR\n",
    "python3 run_example_designs.py --architecture sparseloop/03.2.3-conv1d+oc-spatial"
   ]
  },
  {
   "cell_type": "markdown",
   "metadata": {},
   "source": [
    "### Examine Important Stats\n",
    "- Pretiling overhead incurred by the temporal and spatial tiling.\n",
    "- Reduced tile size stored in `Buffer`.\n",
    "- Similar savings from explicit skipping as above."
   ]
  },
  {
   "cell_type": "code",
   "execution_count": null,
   "metadata": {},
   "outputs": [],
   "source": [
    "%set_env OUT_DIR=../../../example_designs/example_designs/sparseloop/03.2.3-conv1d+oc-spatial/outputs/default_problem"
   ]
  },
  {
   "cell_type": "code",
   "execution_count": null,
   "metadata": {},
   "outputs": [],
   "source": [
    "%%bash\n",
    "export SCRIPT_PATH=$(realpath $SCRIPTS_DIR/03.2-conv-aggregated-stats.sh)\n",
    "chmod +x $SCRIPT_PATH && cd $OUT_DIR && $SCRIPT_PATH"
   ]
  },
  {
   "cell_type": "markdown",
   "metadata": {},
   "source": [
    "### Compare Untiled Example and  Tiled Example\n",
    "\n",
    "- Untiled exampled consumes more energy and has a slower processing speed\n",
    "- Spatially tiled example consumes more area but has lower energy consumption and faster processing speed"
   ]
  },
  {
   "cell_type": "code",
   "execution_count": null,
   "metadata": {},
   "outputs": [],
   "source": [
    "%%bash\n",
    "export OUT_DIR_1=$(realpath ../../../example_designs/example_designs/sparseloop/03.2.2-conv1d+oc/outputs/default_problem)\n",
    "export OUT_DIR_2=$(realpath ../../../example_designs/example_designs/sparseloop/03.2.3-conv1d+oc-spatial/outputs/default_problem)\n",
    "export SCRIPT_PATH=$(realpath $SCRIPTS_DIR/03.2-conv-summary-stats.sh)\n",
    "\n",
    "echo \"========================================\"\n",
    "echo \"             Untiled Example            \"\n",
    "echo \"========================================\"\n",
    "chmod +x $SCRIPT_PATH && cd $OUT_DIR_1 && $SCRIPT_PATH\n",
    "\n",
    "echo \"========================================\"\n",
    "echo \"         Tiled Example        \"\n",
    "echo \"========================================\"\n",
    "chmod +x $SCRIPT_PATH && cd $OUT_DIR_2 && $SCRIPT_PATH\n"
   ]
  },
  {
   "cell_type": "code",
   "execution_count": null,
   "metadata": {},
   "outputs": [],
   "source": []
  }
 ],
 "metadata": {
  "kernelspec": {
   "display_name": "Python 3",
   "language": "python",
   "name": "python3"
  },
  "language_info": {
   "codemirror_mode": {
    "name": "ipython",
    "version": 3
   },
   "file_extension": ".py",
   "mimetype": "text/x-python",
   "name": "python",
   "nbconvert_exporter": "python",
   "pygments_lexer": "ipython3",
   "version": "3.12.1"
  },
  "pycharm": {
   "stem_cell": {
    "cell_type": "raw",
    "metadata": {
     "collapsed": false
    },
    "source": []
   }
  }
 },
 "nbformat": 4,
 "nbformat_minor": 2
}
