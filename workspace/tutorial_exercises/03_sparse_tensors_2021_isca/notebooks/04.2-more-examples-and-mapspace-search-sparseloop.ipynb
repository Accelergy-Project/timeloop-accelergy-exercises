{
 "cells": [
  {
   "cell_type": "markdown",
   "metadata": {},
   "source": [
    "# More examples with larger hardware setups and problems"
   ]
  },
  {
   "cell_type": "markdown",
   "metadata": {},
   "source": [
    "\n",
    "## We provide more examples on realisitic DNN layers and hardware setups\n",
    "\n",
    "## Exercise 04.2.1 Eyeriss like design\n",
    "We include Eyeriss architecture with offchip compression and onchip gating based on input activation's sparsity\n",
    "\n",
    "### Examine Sparse Optimization\n",
    "We introduce a new specification key  called `flattened_rankIDs`, whcih specifies which dimension can be flattened together and indexed with one specific type of metadata. Each list in the `flattened_rankIDs` specification indicates the set of dimensions that can be flattened together. For example, `RLE` can be applied to a large tile of multidimensional data that's falttened into a single diemension."
   ]
  },
  {
   "cell_type": "code",
   "execution_count": null,
   "metadata": {},
   "outputs": [],
   "source": [
    "%set_env BASELINE_DIR=../../../example_designs\n",
    "%set_env DESIGNS_DIR=../../../example_designs/example_designs/sparseloop\n",
    "%set_env SCRIPTS_DIR=../scripts"
   ]
  },
  {
   "cell_type": "code",
   "execution_count": null,
   "metadata": {},
   "outputs": [],
   "source": [
    "%%bash\n",
    "cd $DESIGNS_DIR/04.2.1-eyeriss-like-gating/ && cat arch.yaml"
   ]
  },
  {
   "cell_type": "code",
   "execution_count": null,
   "metadata": {},
   "outputs": [],
   "source": [
    "%%bash\n",
    "cd $BASELINE_DIR\n",
    "python3 run_example_designs.py --architecture sparseloop/04.2.1-eyeriss-like-gating"
   ]
  },
  {
   "cell_type": "markdown",
   "metadata": {},
   "source": [
    "### Exercise 04.2.2 Eyeriss like design with mapspace seach\n",
    "We furthur illustrate the potential of mapspace search for a sparse design and a sparse problem with `timeloop-mapper`\n",
    "The search might take a while (<5min), and we recommend using the terminal to run the example, since the progress prints do not show in jupyter notebook cells"
   ]
  },
  {
   "cell_type": "code",
   "execution_count": null,
   "metadata": {},
   "outputs": [],
   "source": [
    "%%bash\n",
    "cd $BASELINE_DIR\n",
    "python3 run_example_designs.py --architecture sparseloop/04.2.2-eyeriss-like-gating-mapspace-search"
   ]
  },
  {
   "cell_type": "markdown",
   "metadata": {},
   "source": [
    "### Exercise 04.2.3 Eyeriss like design with onchip compression\n",
    "We furthur enhance the design to allow onchip compression of input activations and skipping\n",
    "The search might take a while (<5min), and we recommend using the terminal to run the example, since the progress prints do not show in jupyter notebook cells\n",
    "\n",
    "Note that, with skipping, we can enhance the utilization of the design."
   ]
  },
  {
   "cell_type": "code",
   "execution_count": null,
   "metadata": {
    "scrolled": false
   },
   "outputs": [],
   "source": [
    "%%bash\n",
    "cd $BASELINE_DIR\n",
    "python3 run_example_designs.py --architecture sparseloop/04.2.3-eyeriss-like-onchip-compression"
   ]
  }
 ],
 "metadata": {
  "kernelspec": {
   "display_name": "Python 3 (ipykernel)",
   "language": "python",
   "name": "python3"
  },
  "language_info": {
   "codemirror_mode": {
    "name": "ipython",
    "version": 3
   },
   "file_extension": ".py",
   "mimetype": "text/x-python",
   "name": "python",
   "nbconvert_exporter": "python",
   "pygments_lexer": "ipython3",
   "version": "3.12.1"
  },
  "pycharm": {
   "stem_cell": {
    "cell_type": "raw",
    "metadata": {
     "collapsed": false
    },
    "source": []
   }
  }
 },
 "nbformat": 4,
 "nbformat_minor": 2
}
