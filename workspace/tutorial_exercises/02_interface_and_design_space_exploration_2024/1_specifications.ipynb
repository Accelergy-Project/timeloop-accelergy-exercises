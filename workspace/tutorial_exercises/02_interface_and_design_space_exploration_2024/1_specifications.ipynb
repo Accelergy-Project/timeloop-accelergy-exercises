{
 "cells": [
  {
   "cell_type": "markdown",
   "metadata": {},
   "source": [
    "# Overview\n",
    "This tutorial demonstrates how to use the Timeloop Front End (TimeloopFE) to run\n",
    "Timeloop & Accelergy. TimeloopFE is a Python front-end interface for Timeloop\n",
    "that lets users gather YAML inputs, edit them, and run Timeloop & Accelergy.\n",
    "\n",
    "## Prerequisites\n",
    "We recommend that you first complete the Timeloop & Accelergy tutorials and\n",
    "familiarize yourself with the Timeloop & Accelergy APIs. There are cheatsheets\n",
    "available in the cheatsheets directory to provide a quick reference for each\n",
    "of the files.\n",
    "\n",
    "We'll start by importing TimeloopFE and setting up the paths to the YAML files."
   ]
  },
  {
   "cell_type": "code",
   "execution_count": 1,
   "metadata": {},
   "outputs": [],
   "source": [
    "# Set up imports\n",
    "import os\n",
    "import timeloopfe.v4 as tl\n",
    "\n",
    "# Define relative paths\n",
    "ARCH_PATH = f\"{os.curdir}/inputs/arch.yaml\"\n",
    "COMPONENTS_PATH = f\"{os.curdir}/inputs/components.yaml\"\n",
    "PROBLEM_PATH = f\"{os.curdir}/inputs/problem.yaml\"\n",
    "MAPPER_PATH = f\"{os.curdir}/inputs/mapper.yaml\"\n",
    "VARIABLES_PATH = f\"{os.curdir}/inputs/variables.yaml\"\n",
    "TOP_PATH = f\"{os.curdir}/top.yaml.jinja\""
   ]
  },
  {
   "cell_type": "markdown",
   "metadata": {},
   "source": [
    "# Setting up a TimeloopFE Specification \n",
    "\n",
    "TimeloopFE top-level objects are called `Specification`s. A `Specification`\n",
    "collects all the inputs needed to run Timeloop+Accelergy and exposes them to\n",
    "Python for editing and processing.\n",
    "\n",
    "## Gathering YAML Inputs & Running Timeloop\n",
    "We will crate a `Specification` object by gathering the following YAML files: \n",
    "\n",
    "- `ARCH_PATH` describes the hardware architecture, including storage,\n",
    "  computation, and networks. It also describes any mapping restrictions that the\n",
    "  architecture imposes.\n",
    "- `COMPONENTS_PATH` describes compound components that may be used in the\n",
    "  architecture file. A compound component is a collection of components that are\n",
    "  grouped together into a single component (*e.g.,* a buffer and adder grouped\n",
    "  together as a smartbuffer).\n",
    "- `PROBLEM_PATH` describes the problem being mapped to the architecture as an\n",
    "  extended Einsum expression.\n",
    "- `MAPPER_PATH`: describes how the Timeloop mapper should search, and includes\n",
    "  parameters such as the search algorithm, timeouts, and number of threads.\n",
    "- `VARIABLES_PATH` defines global variables that can be referenced in the\n",
    "  architecture, problem, and component(s) files.\n",
    "  \n",
    "Let's initalize a `Specification` object with these files and run the Timeloop\n",
    "mapper. We'll run the mapper in the outputs/ directory, then print out the\n",
    "summary output from the Timeloop output stats file."
   ]
  },
  {
   "cell_type": "code",
   "execution_count": 2,
   "metadata": {},
   "outputs": [
    {
     "name": "stdout",
     "output_type": "stream",
     "text": [
      "Summary Stats\n",
      "-------------\n",
      "GFLOPs (@1GHz): 15.94\n",
      "Utilization: 100.00%\n",
      "Cycles: 1073741824\n",
      "Energy: 56245.75 uJ\n",
      "EDP(J*cycle): 6.04e+07\n",
      "Area: 0.00 mm^2\n",
      "\n",
      "Computes = 8589934592\n",
      "fJ/Compute\n",
      "    mac                          = 3275.00\n",
      "    buffer                       = 710.37\n",
      "    DRAM                         = 2562.50\n",
      "    Total                        = 6547.87\n",
      "\n",
      "\n"
     ]
    }
   ],
   "source": [
    "spec = tl.Specification.from_yaml_files(\n",
    "    ARCH_PATH,\n",
    "    COMPONENTS_PATH,\n",
    "    MAPPER_PATH,\n",
    "    PROBLEM_PATH,\n",
    "    VARIABLES_PATH,\n",
    ")  # Gather YAML files into a Python object\n",
    "tl.call_mapper(spec, output_dir=f\"{os.curdir}/outputs\")  # Run the Timeloop mapper\n",
    "stats = open(\"outputs/timeloop-mapper.stats.txt\").read()\n",
    "print(stats[stats.index(\"Summary Stats\") :])\n",
    "\n"
   ]
  },
  {
   "cell_type": "markdown",
   "metadata": {},
   "source": [
    "## Timeloop Output Files\n",
    "\n",
    "The outputs directory has many useful files with information on the simulation. Some important files include the mapping file, logs & per-component energy/area estimation tables from Accelergy, and detailed XML descriptions of all access counts.\n",
    "\n",
    "Let's explore some of the outputs that are in the outputs/ directory.\n"
   ]
  },
  {
   "cell_type": "code",
   "execution_count": 3,
   "metadata": {},
   "outputs": [
    {
     "name": "stdout",
     "output_type": "stream",
     "text": [
      "Mapping:\n",
      "\tDRAM [ Weights:16384 (16384) Inputs:67108864 (67108864) Outputs:67108864 (67108864) ] \n",
      "\t-------------------------------------------------------------------------------------\n",
      "\t| for Q in [0:64)\n",
      "\t|   for N in [0:8)\n",
      "\t|     for M in [0:4)\n",
      "\t|       for P in [0:128)\n",
      "\t\n",
      "\tbuffer [ Weights:4096 (4096) Inputs:1024 (1024) Outputs:256 (256) ] \n",
      "\t-------------------------------------------------------------------\n",
      "\t|         for M in [0:4)\n",
      "\t|           for N in [0:4)\n",
      "\t|             for Q in [0:2)\n",
      "\t|               for C in [0:128)\n",
      "\t\n",
      "\tinter_PE_spatial [ ] \n",
      "\t--------------------\n",
      "\t|                 for M in [0:8) (Spatial-X)\n",
      "\t\n",
      "\treg [ Weights:1 (1) Inputs:1 (1) Outputs:1 (1) ] \n",
      "\t------------------------------------------------\n",
      "\t|                   << Compute >>\n",
      "\t\n"
     ]
    }
   ],
   "source": [
    "def read_and_indent(path, n_lines=30, start_at: str = None, end_at: str = None):\n",
    "    content = open(path).read()\n",
    "    if start_at is not None:\n",
    "        content = content[content.index(start_at) :]\n",
    "    if end_at is not None:\n",
    "        content = content[: content.index(end_at) + len(end_at)]\n",
    "    content = content.split(\"\\n\")\n",
    "    content = content[:n_lines] if n_lines > 0 else content[n_lines:]\n",
    "    return \"\\t\" + \"\\n\\t\".join(content)\n",
    "\n",
    "\n",
    "print(f\"Mapping:\")\n",
    "print(read_and_indent(\"outputs/timeloop-mapper.map.txt\"))"
   ]
  },
  {
   "cell_type": "code",
   "execution_count": 4,
   "metadata": {},
   "outputs": [
    {
     "name": "stdout",
     "output_type": "stream",
     "text": [
      "Accelergy log:\n",
      "\t2024-03-28 10:44:25 INFO        | CACTI output will be written to /home/tanner/research/cimloop/venv/share/accelergy/estimation_plug_ins/accelergy-cacti-plug-in/cacti_inputs_outputs/tmpd9lcnois\n",
      "\t2024-03-28 10:44:25 INFO        | CACTI executable not found at /home/tanner/research/cimloop/venv/share/accelergy/estimation_plug_ins/accelergy-cacti-plug-in/cacti/cacti\n",
      "\t2024-03-28 10:44:25 INFO        | Calling: cd /home/tanner/research/cimloop/venv/share/accelergy/estimation_plug_ins/accelergy-cacti-plug-in ; ./cacti -infile /home/tanner/research/cimloop/venv/share/accelergy/estimation_plug_ins/accelergy-cacti-plug-in/cacti_inputs_outputs/tmpo3h57vl2 >> /home/tanner/research/cimloop/venv/share/accelergy/estimation_plug_ins/accelergy-cacti-plug-in/cacti_inputs_outputs/tmpd9lcnois 2>&1\n",
      "\t2024-03-28 10:44:25 INFO        | Cache bandwidth: 32.0 bits/cycle\n",
      "\t2024-03-28 10:44:25 INFO        | Cache bandwidth: 331.75576555234744 bits/second\n",
      "\t2024-03-28 10:44:25 INFO        \n",
      "\t2024-03-28 10:44:25 INFO        AREA ESTIMATION for dummy_storage(width=1, depth=1, datawidth=1, technology=-1, has_power_gating=False, n_banks=2, cluster_size=1, reduction_supported=True, multiple_buffering=1, min_utilization=0, allow_overbooking=False, meshX=1, meshY=1, power_gated_at=inter_PE_spatial, version=0.4, global_cycle_seconds=1e-09, DATAWIDTH=8, action_latency_cycles=1, cycle_seconds=1e-09, n_instances=1)\n",
      "\t2024-03-28 10:44:25 INFO        dummy_table estimated 1u^2 with accuracy 100%. \n",
      "\t2024-03-28 10:44:25 INFO        \n",
      "\t2024-03-28 10:44:25 INFO        AREA ESTIMATION for aladdin_adder(width=16, global_cycle_seconds=1e-09, action_latency_cycles=1, cycle_seconds=1e-09, technology=45nm, n_instances=1)\n",
      "\t2024-03-28 10:44:25 INFO        Library estimated 139.0u^2 with accuracy 90%. Messages:\n",
      "\t2024-03-28 10:44:25 INFO        | Found 5 entries for aladdin_adder.\n",
      "\t2024-03-28 10:44:25 INFO        | Checking entry \"{'technology': '45nm', 'global_cycle_seconds': '1e-9', 'width|datawidth': '32', 'energy': '0.21', 'area': '2.78E+02', 'action': 'add', 'name': 'aladdin_adder', 'area_scale': 1, 'energy_scale': 1, 'n_instances': 1}\n",
      "\t2024-03-28 10:44:25 INFO        | value=278.0, matching_attrs=3, log=['Scaling width from 32 to 16', 'Scaling global_cycle_seconds from 1e-9 to 1e-09', 'Scaled aladdin_adder.width from 32.0 to 16.0: 0.5x area', 'Scaled aladdin_adder.global_cycle_seconds from 1e-09 to 1e-09: 1x area', 'aladdin_adder area has been scaled 0.5x']\n",
      "\t2024-03-28 10:44:25 INFO        | Checking entry \"{'technology': '45nm', 'global_cycle_seconds': '1e-9', 'width|datawidth': '32', 'energy': '0.21', 'area': '2.78E+02', 'action': 'read', 'name': 'aladdin_adder', 'area_scale': 1, 'energy_scale': 1, 'n_instances': 1}\n",
      "\t2024-03-28 10:44:25 INFO        | value=278.0, matching_attrs=3, log=['Scaling width from 32 to 16', 'Scaling global_cycle_seconds from 1e-9 to 1e-09', 'Scaled aladdin_adder.width from 32.0 to 16.0: 0.5x area', 'Scaled aladdin_adder.global_cycle_seconds from 1e-09 to 1e-09: 1x area', 'aladdin_adder area has been scaled 0.5x']\n",
      "\t2024-03-28 10:44:25 INFO        | Checking entry \"{'technology': '45nm', 'global_cycle_seconds': '1e-9', 'width|datawidth': '32', 'energy': '0.0024', 'area': '2.78E+02', 'action': 'leak', 'name': 'aladdin_adder', 'area_scale': 1, 'energy_scale': 1, 'n_instances': 1}\n",
      "\t2024-03-28 10:44:25 INFO        | value=278.0, matching_attrs=3, log=['Scaling width from 32 to 16', 'Scaling global_cycle_seconds from 1e-9 to 1e-09', 'Scaled aladdin_adder.width from 32.0 to 16.0: 0.5x area', 'Scaled aladdin_adder.global_cycle_seconds from 1e-09 to 1e-09: 1x area', 'aladdin_adder area has been scaled 0.5x']\n",
      "\t2024-03-28 10:44:25 INFO        | Checking entry \"{'technology': '45nm', 'global_cycle_seconds': '1e-9', 'width|datawidth': '32', 'energy': '0', 'area': '2.78E+02', 'action': 'update', 'name': 'aladdin_adder', 'area_scale': 1, 'energy_scale': 1, 'n_instances': 1}\n",
      "\t2024-03-28 10:44:25 INFO        | value=278.0, matching_attrs=3, log=['Scaling width from 32 to 16', 'Scaling global_cycle_seconds from 1e-9 to 1e-09', 'Scaled aladdin_adder.width from 32.0 to 16.0: 0.5x area', 'Scaled aladdin_adder.global_cycle_seconds from 1e-09 to 1e-09: 1x area', 'aladdin_adder area has been scaled 0.5x']\n",
      "\t2024-03-28 10:44:25 INFO        | Checking entry \"{'technology': '45nm', 'global_cycle_seconds': '1e-9', 'width|datawidth': '32', 'energy': '0', 'area': '2.78E+02', 'action': 'write', 'name': 'aladdin_adder', 'area_scale': 1, 'energy_scale': 1, 'n_instances': 1}\n",
      "\t2024-03-28 10:44:25 INFO        | value=278.0, matching_attrs=3, log=['Scaling width from 32 to 16', 'Scaling global_cycle_seconds from 1e-9 to 1e-09', 'Scaled aladdin_adder.width from 32.0 to 16.0: 0.5x area', 'Scaled aladdin_adder.global_cycle_seconds from 1e-09 to 1e-09: 1x area', 'aladdin_adder area has been scaled 0.5x']\n",
      "\t2024-03-28 10:44:25 INFO        | Best-matching entry: {'technology': '45nm', 'global_cycle_seconds': '1e-9', 'width|datawidth': '32', 'energy': '0.21', 'area': '2.78E+02', 'action': 'add', 'name': 'aladdin_adder', 'area_scale': 1, 'energy_scale': 1, 'n_instances': 1}\n",
      "\t2024-03-28 10:44:25 INFO        | Scaling width from 32 to 16\n",
      "\t2024-03-28 10:44:25 INFO        | Scaling global_cycle_seconds from 1e-9 to 1e-09\n",
      "\t2024-03-28 10:44:25 INFO        | Scaled aladdin_adder.width from 32.0 to 16.0: 0.5x area\n",
      "\t2024-03-28 10:44:25 INFO        | Scaled aladdin_adder.global_cycle_seconds from 1e-09 to 1e-09: 1x area\n",
      "\t2024-03-28 10:44:25 INFO        | aladdin_adder area has been scaled 0.5x\n",
      "\t2024-03-28 10:44:25 INFO        \n",
      "\t2024-03-28 10:44:25 INFO        AREA ESTIMATION for aladdin_multiplier(width=8, global_cycle_seconds=1e-09, action_latency_cycles=1, cycle_seconds=1e-09, technology=45nm, n_instances=1)\n",
      "\t2024-03-28 10:44:25 INFO        Library estimated 1587.5u^2 with accuracy 90%. Messages:\n",
      "\t2024-03-28 10:44:25 INFO        | Found 5 entries for aladdin_multiplier.\n",
      "\t2024-03-28 10:44:25 INFO        | Checking entry \"{'technology': '45nm', 'global_cycle_seconds': '1e-9', 'width|datawidth': '32', 'width_a|datawidth_a': '32', 'width_b|datawidth_b': '32', 'energy(pJ)': '12.68', 'area(um^2)': '6350', 'action': 'multiply', 'name': 'aladdin_multiplier', 'area_scale': 1, 'energy_scale': 1, 'n_instances': 1}\n",
      "\t2024-03-28 10:44:25 INFO        | value=6350.0, matching_attrs=3, log=['Scaling width from 32 to 8', 'Scaling global_cycle_seconds from 1e-9 to 1e-09', 'Scaled aladdin_multiplier.width from 32.0 to 8.0: 0.25x area', 'Scaled aladdin_multiplier.global_cycle_seconds from 1e-09 to 1e-09: 1x area', 'aladdin_multiplier area has been scaled 0.25x']\n",
      "\t2024-03-28 10:44:25 INFO        | Checking entry \"{'technology': '45nm', 'global_cycle_seconds': '1e-9', 'width|datawidth': '32', 'width_a|datawidth_a': '32', 'width_b|datawidth_b': '32', 'energy(pJ)': '12.68', 'area(um^2)': '6350', 'action': 'read', 'name': 'aladdin_multiplier', 'area_scale': 1, 'energy_scale': 1, 'n_instances': 1}\n",
      "\t2024-03-28 10:44:25 INFO        | value=6350.0, matching_attrs=3, log=['Scaling width from 32 to 8', 'Scaling global_cycle_seconds from 1e-9 to 1e-09', 'Scaled aladdin_multiplier.width from 32.0 to 8.0: 0.25x area', 'Scaled aladdin_multiplier.global_cycle_seconds from 1e-09 to 1e-09: 1x area', 'aladdin_multiplier area has been scaled 0.25x']\n",
      "\t2024-03-28 10:44:25 INFO        | Checking entry \"{'technology': '45nm', 'global_cycle_seconds': '1e-9', 'width|datawidth': '32', 'width_a|datawidth_a': '32', 'width_b|datawidth_b': '32', 'energy(pJ)': '0.08', 'area(um^2)': '6350', 'action': 'leak', 'name': 'aladdin_multiplier', 'area_scale': 1, 'energy_scale': 1, 'n_instances': 1}\n",
      "\t2024-03-28 10:44:25 INFO        | value=6350.0, matching_attrs=3, log=['Scaling width from 32 to 8', 'Scaling global_cycle_seconds from 1e-9 to 1e-09', 'Scaled aladdin_multiplier.width from 32.0 to 8.0: 0.25x area', 'Scaled aladdin_multiplier.global_cycle_seconds from 1e-09 to 1e-09: 1x area', 'aladdin_multiplier area has been scaled 0.25x']\n",
      "\t2024-03-28 10:44:25 INFO        | Checking entry \"{'technology': '45nm', 'global_cycle_seconds': '1e-9', 'width|datawidth': '32', 'width_a|datawidth_a': '32', 'width_b|datawidth_b': '32', 'energy(pJ)': '0', 'area(um^2)': '6350', 'action': 'update', 'name': 'aladdin_multiplier', 'area_scale': 1, 'energy_scale': 1, 'n_instances': 1}\n",
      "\t2024-03-28 10:44:25 INFO        | value=6350.0, matching_attrs=3, log=['Scaling width from 32 to 8', 'Scaling global_cycle_seconds from 1e-9 to 1e-09', 'Scaled aladdin_multiplier.width from 32.0 to 8.0: 0.25x area', 'Scaled aladdin_multiplier.global_cycle_seconds from 1e-09 to 1e-09: 1x area', 'aladdin_multiplier area has been scaled 0.25x']\n",
      "\t2024-03-28 10:44:25 INFO        | Checking entry \"{'technology': '45nm', 'global_cycle_seconds': '1e-9', 'width|datawidth': '32', 'width_a|datawidth_a': '32', 'width_b|datawidth_b': '32', 'energy(pJ)': '0', 'area(um^2)': '6350', 'action': 'write', 'name': 'aladdin_multiplier', 'area_scale': 1, 'energy_scale': 1, 'n_instances': 1}\n",
      "\t2024-03-28 10:44:25 INFO        | value=6350.0, matching_attrs=3, log=['Scaling width from 32 to 8', 'Scaling global_cycle_seconds from 1e-9 to 1e-09', 'Scaled aladdin_multiplier.width from 32.0 to 8.0: 0.25x area', 'Scaled aladdin_multiplier.global_cycle_seconds from 1e-09 to 1e-09: 1x area', 'aladdin_multiplier area has been scaled 0.25x']\n",
      "\t2024-03-28 10:44:25 INFO        | Best-matching entry: {'technology': '45nm', 'global_cycle_seconds': '1e-9', 'width|datawidth': '32', 'width_a|datawidth_a': '32', 'width_b|datawidth_b': '32', 'energy(pJ)': '12.68', 'area(um^2)': '6350', 'action': 'multiply', 'name': 'aladdin_multiplier', 'area_scale': 1, 'energy_scale': 1, 'n_instances': 1}\n",
      "\t2024-03-28 10:44:25 INFO        | Scaling width from 32 to 8\n",
      "\t2024-03-28 10:44:25 INFO        | Scaling global_cycle_seconds from 1e-9 to 1e-09\n",
      "\t2024-03-28 10:44:25 INFO        | Scaled aladdin_multiplier.width from 32.0 to 8.0: 0.25x area\n",
      "\t2024-03-28 10:44:25 INFO        | Scaled aladdin_multiplier.global_cycle_seconds from 1e-09 to 1e-09: 1x area\n",
      "\t2024-03-28 10:44:25 INFO        | aladdin_multiplier area has been scaled 0.25x\n",
      "\t2024-03-28 10:44:25 INFO        flattened architecture is saved to:\n",
      "\t2024-03-28 10:44:25 INFO        ./timeloop-mapper.flattened_architecture.yaml\n",
      "\t2024-03-28 10:44:25 INFO        energy reference table is saved to:\n",
      "\t2024-03-28 10:44:25 INFO        ./timeloop-mapper.ERT.yaml\n",
      "\t2024-03-28 10:44:25 INFO        energy reference table summary is saved to:\n",
      "\t2024-03-28 10:44:25 INFO        ./timeloop-mapper.ERT_summary.yaml\n",
      "\t2024-03-28 10:44:25 WARNING     no runtime energy estimations are generated... not generating energy_estimation.yaml\n",
      "\t2024-03-28 10:44:25 INFO        area reference table is saved to:\n",
      "\t2024-03-28 10:44:25 INFO        ./timeloop-mapper.ART.yaml\n",
      "\t2024-03-28 10:44:25 INFO        area reference table summary is saved to:\n",
      "\t2024-03-28 10:44:25 INFO        ./timeloop-mapper.ART_summary.yaml\n",
      "\t\n"
     ]
    }
   ],
   "source": [
    "print(f\"Accelergy log:\")\n",
    "print(read_and_indent(\"outputs/timeloop-mapper.accelergy.log\", -60))\n"
   ]
  },
  {
   "cell_type": "code",
   "execution_count": 5,
   "metadata": {},
   "outputs": [
    {
     "name": "stdout",
     "output_type": "stream",
     "text": [
      "Energy reference table:\n",
      "\tERT:\n",
      "\t    version: '0.4'\n",
      "\t    tables:\n",
      "\t      - name: system_top_level.DRAM[1..1]\n",
      "\t        actions:\n",
      "\t          - name: update\n",
      "\t            arguments:\n",
      "\t                global_cycle_seconds: 1e-09\n",
      "\t                action_latency_cycles: 1\n",
      "\t            energy: 512.0\n",
      "\t          - name: read\n",
      "\t            arguments:\n",
      "\t                global_cycle_seconds: 1e-09\n",
      "\t                action_latency_cycles: 1\n",
      "\t            energy: 512.0\n",
      "\t          - name: write\n",
      "\t            arguments:\n",
      "\t                global_cycle_seconds: 1e-09\n",
      "\t                action_latency_cycles: 1\n",
      "\t            energy: 512.0\n",
      "\t          - name: leak\n",
      "\t            arguments:\n",
      "\t                global_cycle_seconds: 1e-09\n",
      "\t                action_latency_cycles: 1\n",
      "\t            energy: 0.0\n",
      "\t      - name: system_top_level.buffer[1..1]\n",
      "\t        actions:\n",
      "\t          - name: update\n",
      "\t            arguments:\n",
      "\t                global_cycle_seconds: 1e-09\n"
     ]
    }
   ],
   "source": [
    "print(f\"Energy reference table:\")\n",
    "print(read_and_indent(\"outputs/timeloop-mapper.ERT.yaml\"))\n"
   ]
  },
  {
   "cell_type": "code",
   "execution_count": 6,
   "metadata": {},
   "outputs": [
    {
     "name": "stdout",
     "output_type": "stream",
     "text": [
      "Area reference table:\n",
      "\tART:\n",
      "\t    version: '0.4'\n",
      "\t    tables:\n",
      "\t      - name: system_top_level.DRAM[1..1]\n",
      "\t        area: 0.0\n",
      "\t      - name: system_top_level.buffer[1..1]\n",
      "\t        area: 43608.4\n",
      "\t      - name: system_top_level.inter_PE_spatial[1..1]\n",
      "\t        area: 1.0\n",
      "\t      - name: system_top_level.reg[1..8]\n",
      "\t        area: 0\n",
      "\t      - name: system_top_level.mac[1..8]\n",
      "\t        area: 1726.5\n",
      "\t\n"
     ]
    }
   ],
   "source": [
    "print(f\"Area reference table:\")\n",
    "print(read_and_indent(\"outputs/timeloop-mapper.ART.yaml\"))\n"
   ]
  },
  {
   "cell_type": "markdown",
   "metadata": {},
   "source": [
    "We can get more detailed logs and energy/area estimation information by\n",
    "running tl.call_accelergy_verbose."
   ]
  },
  {
   "cell_type": "code",
   "execution_count": 7,
   "metadata": {},
   "outputs": [
    {
     "name": "stdout",
     "output_type": "stream",
     "text": [
      "Verbose Accelergy log:\n",
      "\t2024-03-28 10:44:26 DEBUG       |  | ADC Plug-In does not support aladdin_multiplier.None. Supported classes: ['adc', 'pim_adc', 'sar_adc', 'array_adc', 'pim_array_adc', 'cim_array_adc', 'cim_adc'].\n",
      "\t2024-03-28 10:44:26 DEBUG       | DigitalAnalogConverterX2XLadder with accuracy 0% estimating accuracy:\n",
      "\t2024-03-28 10:44:26 DEBUG       |  | Accuracy is 0%. Not supported.\n",
      "\t2024-03-28 10:44:26 DEBUG       |  | Class name aladdin_multiplier is not supported. Supported class names: ['dac_x2x_ladder']\n",
      "\t2024-03-28 10:44:26 DEBUG       | DigitalAnalogConverter_C2C with accuracy 0% estimating accuracy:\n",
      "\t2024-03-28 10:44:26 DEBUG       |  | Accuracy is 0%. Not supported.\n",
      "\t2024-03-28 10:44:26 DEBUG       |  | Class name aladdin_multiplier is not supported. Supported class names: ['dac_c2c_ladder']\n",
      "\t2024-03-28 10:44:26 DEBUG       | DigitalAnalogConverter_R2R with accuracy 0% estimating accuracy:\n",
      "\t2024-03-28 10:44:26 DEBUG       |  | Accuracy is 0%. Not supported.\n",
      "\t2024-03-28 10:44:26 DEBUG       |  | Class name aladdin_multiplier is not supported. Supported class names: ['dac_r2r_ladder']\n",
      "\t2024-03-28 10:44:26 DEBUG       | Capacitor with accuracy 0% estimating accuracy:\n",
      "\t2024-03-28 10:44:26 DEBUG       |  | Accuracy is 0%. Not supported.\n",
      "\t2024-03-28 10:44:26 DEBUG       |  | Class name aladdin_multiplier is not supported. Supported class names: ['capacitor']\n",
      "\t2024-03-28 10:44:26 DEBUG       | ExampleRRAM with accuracy 0% estimating accuracy:\n",
      "\t2024-03-28 10:44:26 DEBUG       |  | Accuracy is 0%. Not supported.\n",
      "\t2024-03-28 10:44:26 DEBUG       |  | Class name aladdin_multiplier is not supported. Supported class names: ['ExampleRRAM']\n",
      "\t2024-03-28 10:44:26 DEBUG       | PassGate with accuracy 0% estimating accuracy:\n",
      "\t2024-03-28 10:44:26 DEBUG       |  | Accuracy is 0%. Not supported.\n",
      "\t2024-03-28 10:44:26 DEBUG       |  | Class name aladdin_multiplier is not supported. Supported class names: ['pass_gate']\n",
      "\t2024-03-28 10:44:26 DEBUG       | Wire with accuracy 0% estimating accuracy:\n",
      "\t2024-03-28 10:44:26 DEBUG       |  | Accuracy is 0%. Not supported.\n",
      "\t2024-03-28 10:44:26 DEBUG       |  | Class name aladdin_multiplier is not supported. Supported class names: ['wire']\n",
      "\t2024-03-28 10:44:26 DEBUG       | CactiCache with accuracy 0% estimating accuracy:\n",
      "\t2024-03-28 10:44:26 DEBUG       |  | Accuracy is 0%. Not supported.\n",
      "\t2024-03-28 10:44:26 DEBUG       |  | Class name aladdin_multiplier is not supported. Supported class names: ['cache']\n",
      "\t2024-03-28 10:44:26 DEBUG       | CactiDRAM with accuracy 0% estimating accuracy:\n",
      "\t2024-03-28 10:44:26 DEBUG       |  | Accuracy is 0%. Not supported.\n",
      "\t2024-03-28 10:44:26 DEBUG       |  | Class name aladdin_multiplier is not supported. Supported class names: ['DRAM']\n",
      "\t2024-03-28 10:44:26 DEBUG       | CactiSRAM with accuracy 0% estimating accuracy:\n",
      "\t2024-03-28 10:44:26 DEBUG       |  | Accuracy is 0%. Not supported.\n",
      "\t2024-03-28 10:44:26 DEBUG       |  | Class name aladdin_multiplier is not supported. Supported class names: ['SRAM']\n",
      "\t2024-03-28 10:44:26 DEBUG       Why plug-ins did not estimate:\n",
      "\t2024-03-28 10:44:26 DEBUG       | Library with accuracy 90% estimating accuracy: value=6350.0, matching_attrs=3, log=['Scaling width from 32 to 8', 'Scaling global_cycle_seconds from 1e-9 to 1e-09']\n",
      "\t2024-03-28 10:44:26 DEBUG       | table-based-plug-ins with accuracy 0% estimating accuracy: Accuracy is 0%. Not supported.\n",
      "\t2024-03-28 10:44:26 DEBUG       | Aladdin_table with accuracy 0% estimating accuracy: Accuracy is 0%. Not supported.\n",
      "\t2024-03-28 10:44:26 DEBUG       | dummy_table with accuracy 0% estimating accuracy: Set attribute \"technology\" to -1 to use the dummy table\n",
      "\t2024-03-28 10:44:26 DEBUG       | Neurosim Plug-In with accuracy 0% estimating accuracy: ERROR: NeuroSim estimator does not support aladdin_multiplier. Supported primitives are: ['array_row_drivers', 'array_col_drivers', 'array_adc', 'memory_cell', 'shift_add', 'intadder', 'intadder_tree', 'max_pool', 'mux', 'flip_flop', 'not_gate', 'nand_gate', 'nor_gate']\n",
      "\t2024-03-28 10:44:26 DEBUG       | ADC Plug-In with accuracy 0% estimating accuracy: ADC Plug-In does not support aladdin_multiplier.None. Supported classes: ['adc', 'pim_adc', 'sar_adc', 'array_adc', 'pim_array_adc', 'cim_array_adc', 'cim_adc'].\n",
      "\t2024-03-28 10:44:26 DEBUG       | DigitalAnalogConverterX2XLadder with accuracy 0% estimating accuracy: Class name aladdin_multiplier is not supported. Supported class names: ['dac_x2x_ladder']\n",
      "\t2024-03-28 10:44:26 DEBUG       | DigitalAnalogConverter_C2C with accuracy 0% estimating accuracy: Class name aladdin_multiplier is not supported. Supported class names: ['dac_c2c_ladder']\n",
      "\t2024-03-28 10:44:26 DEBUG       | DigitalAnalogConverter_R2R with accuracy 0% estimating accuracy: Class name aladdin_multiplier is not supported. Supported class names: ['dac_r2r_ladder']\n",
      "\t2024-03-28 10:44:26 DEBUG       | Capacitor with accuracy 0% estimating accuracy: Class name aladdin_multiplier is not supported. Supported class names: ['capacitor']\n",
      "\t2024-03-28 10:44:26 DEBUG       | ExampleRRAM with accuracy 0% estimating accuracy: Class name aladdin_multiplier is not supported. Supported class names: ['ExampleRRAM']\n",
      "\t2024-03-28 10:44:26 DEBUG       | PassGate with accuracy 0% estimating accuracy: Class name aladdin_multiplier is not supported. Supported class names: ['pass_gate']\n",
      "\t2024-03-28 10:44:26 DEBUG       | Wire with accuracy 0% estimating accuracy: Class name aladdin_multiplier is not supported. Supported class names: ['wire']\n",
      "\t2024-03-28 10:44:26 DEBUG       | CactiCache with accuracy 0% estimating accuracy: Class name aladdin_multiplier is not supported. Supported class names: ['cache']\n",
      "\t2024-03-28 10:44:26 DEBUG       | CactiDRAM with accuracy 0% estimating accuracy: Class name aladdin_multiplier is not supported. Supported class names: ['DRAM']\n",
      "\t2024-03-28 10:44:26 DEBUG       | CactiSRAM with accuracy 0% estimating accuracy: Class name aladdin_multiplier is not supported. Supported class names: ['SRAM']\n",
      "\t2024-03-28 10:44:26 INFO        verbose flattened architecture is saved to:\n",
      "\t2024-03-28 10:44:26 INFO        ./flattened_architecture_verbose.yaml\n",
      "\t2024-03-28 10:44:26 INFO        energy reference table is saved to:\n",
      "\t2024-03-28 10:44:26 INFO        ./ERT.yaml\n",
      "\t2024-03-28 10:44:26 INFO        verbose energy reference table summary is saved to:\n",
      "\t2024-03-28 10:44:26 INFO        ./ERT_summary_verbose.yaml\n",
      "\t2024-03-28 10:44:26 WARNING     no runtime energy estimations are generated... not generating energy_estimation.yaml\n",
      "\t2024-03-28 10:44:26 INFO        area reference table is saved to:\n",
      "\t2024-03-28 10:44:26 INFO        ./ART.yaml\n",
      "\t2024-03-28 10:44:26 INFO        verbose area reference table summary is saved to:\n",
      "\t2024-03-28 10:44:26 INFO        ./ART_summary_verbose.yaml\n",
      "\t\n"
     ]
    }
   ],
   "source": [
    "tl.call_accelergy_verbose(\n",
    "    spec,\n",
    "    output_dir=f\"{os.curdir}/outputs\",\n",
    "    log_to=f\"{os.curdir}/outputs/accelergy_verbose.log\",\n",
    ")\n",
    "print(f\"Verbose Accelergy log:\")\n",
    "print(read_and_indent(\"outputs/accelergy_verbose.log\", -60))\n"
   ]
  },
  {
   "cell_type": "code",
   "execution_count": 8,
   "metadata": {},
   "outputs": [
    {
     "name": "stdout",
     "output_type": "stream",
     "text": [
      "Verbose energy reference table:\n",
      "\tERT:\n",
      "\t    version: '0.4'\n",
      "\t    tables:\n",
      "\t      - name: system_top_level.DRAM[1..1]\n",
      "\t        actions:\n",
      "\t          - name: update\n",
      "\t            arguments:\n",
      "\t                global_cycle_seconds: 1e-09\n",
      "\t                action_latency_cycles: 1\n",
      "\t            energy: 512.0\n",
      "\t          - name: read\n",
      "\t            arguments:\n",
      "\t                global_cycle_seconds: 1e-09\n",
      "\t                action_latency_cycles: 1\n",
      "\t            energy: 512.0\n",
      "\t          - name: write\n",
      "\t            arguments:\n",
      "\t                global_cycle_seconds: 1e-09\n",
      "\t                action_latency_cycles: 1\n",
      "\t            energy: 512.0\n",
      "\t          - name: leak\n",
      "\t            arguments:\n",
      "\t                global_cycle_seconds: 1e-09\n",
      "\t                action_latency_cycles: 1\n",
      "\t            energy: 0.0\n",
      "\t      - name: system_top_level.buffer[1..1]\n",
      "\t        actions:\n",
      "\t          - name: update\n",
      "\t            arguments:\n",
      "\t                global_cycle_seconds: 1e-09\n"
     ]
    }
   ],
   "source": [
    "print(f\"Verbose energy reference table:\")\n",
    "print(read_and_indent(\"outputs/ERT.yaml\"))\n"
   ]
  },
  {
   "cell_type": "code",
   "execution_count": 9,
   "metadata": {},
   "outputs": [
    {
     "name": "stdout",
     "output_type": "stream",
     "text": [
      "Verbose area reference table:\n",
      "\tART:\n",
      "\t    version: '0.4'\n",
      "\t    tables:\n",
      "\t      - name: system_top_level.DRAM[1..1]\n",
      "\t        area: 0.0\n",
      "\t      - name: system_top_level.buffer[1..1]\n",
      "\t        area: 43608.4\n",
      "\t      - name: system_top_level.inter_PE_spatial[1..1]\n",
      "\t        area: 1.0\n",
      "\t      - name: system_top_level.reg[1..8]\n",
      "\t        area: 0\n",
      "\t      - name: system_top_level.mac[1..8]\n",
      "\t        area: 1726.5\n",
      "\t\n"
     ]
    }
   ],
   "source": [
    "print(f\"Verbose area reference table:\")\n",
    "print(read_and_indent(\"outputs/ART.yaml\"))\n"
   ]
  },
  {
   "cell_type": "markdown",
   "metadata": {},
   "source": [
    "## Jinja2 + YAML Input\n",
    "\n",
    "The front-end supports Jinja2[https://jinja.palletsprojects.com/en/3.1.x/]\n",
    "templating that may be used to automate some aspects of YAML file writing.\n",
    "We will use a Jinja template to gather the top files so we don't have to list\n",
    "each of them in Python.\n"
   ]
  },
  {
   "cell_type": "code",
   "execution_count": 10,
   "metadata": {},
   "outputs": [
    {
     "name": "stdout",
     "output_type": "stream",
     "text": [
      "Top path contents:\n",
      "\t# This file will be converted into a YAML file by Jinja2 templating.\n",
      "\t{{add_to_path(cwd() ~ '/inputs')}}\n",
      "\t\n",
      "\t# Grab the necessary top keys from each file and put them here\n",
      "\tarchitecture: {{include('arch.yaml', 'architecture')}}\n",
      "\tcomponents:   {{include('components.yaml', 'components')}}\n",
      "\tvariables:    {{include('variables.yaml', 'variables')}}\n",
      "\tmapper:       {{include('mapper.yaml', 'mapper')}}\n",
      "\tproblem:      {{include(problem|default('problem.yaml'), 'problem')}}\n",
      "\t\n"
     ]
    }
   ],
   "source": [
    "print(f\"Top path contents:\")\n",
    "print(read_and_indent(\"top.yaml.jinja\", 99999))\n",
    "spec = tl.Specification.from_yaml_files(TOP_PATH)"
   ]
  },
  {
   "cell_type": "markdown",
   "metadata": {},
   "source": [
    "The top-level file gathered each of the YAML inputs, letting us specify just one\n",
    "path in Python. Top level files can perform more advanced functions, such as\n",
    "defining variables, importing scripts, or setting environment variables. Any\n",
    "input file can use Jinja2 templating, and we can mix-and-match Jinja2 files with\n",
    "standard YAML.\n",
    "\n",
    "We call the Timeloop mapper using the Jinja2-templated architecture below, yielding the\n",
    "same output as the previous call."
   ]
  },
  {
   "cell_type": "code",
   "execution_count": 11,
   "metadata": {},
   "outputs": [
    {
     "name": "stdout",
     "output_type": "stream",
     "text": [
      "Summary Stats\n",
      "-------------\n",
      "GFLOPs (@1GHz): 15.94\n",
      "Utilization: 100.00%\n",
      "Cycles: 1073741824\n",
      "Energy: 56245.75 uJ\n",
      "EDP(J*cycle): 6.04e+07\n",
      "Area: 0.00 mm^2\n",
      "\n",
      "Computes = 8589934592\n",
      "fJ/Compute\n",
      "    mac                          = 3275.00\n",
      "    buffer                       = 710.37\n",
      "    DRAM                         = 2562.50\n",
      "    Total                        = 6547.87\n",
      "\n",
      "\n"
     ]
    }
   ],
   "source": [
    "tl.call_mapper(spec, output_dir=f\"{os.curdir}/outputs\")  # Run the Timeloop mapper\n",
    "print(stats[stats.index(\"Summary Stats\") :])"
   ]
  },
  {
   "cell_type": "markdown",
   "metadata": {},
   "source": [
    "# Editing the Specification\n",
    "TimeloopFE lets users edit the specification in Python. This is useful for\n",
    "automating design space exploration, making small changes, or editing\n",
    "the problem programmatically. Let's take a look at some of the ways we can edit\n",
    "the specification."
   ]
  },
  {
   "cell_type": "markdown",
   "metadata": {},
   "source": [
    "## Modifying Mapper Parameters\n",
    "Let's see if we can find a better mapping by changing the mapper parameters. We'll start by printing out the mapper parameters defined in the `MAPPER_PATH` file."
   ]
  },
  {
   "cell_type": "code",
   "execution_count": 12,
   "metadata": {},
   "outputs": [
    {
     "name": "stdout",
     "output_type": "stream",
     "text": [
      "mapper:\n",
      "  version: 0.4\n",
      "  optimization_metrics: [ edp ]\n",
      "  live_status: False\n",
      "  num_threads: 4\n",
      "  search_size:       100    # Max valid mappings per-thread\n",
      "  victory_condition: 10000  # Exit once a mapping is better than this number of\n",
      "                            # valid mappings in a row\n",
      "  timeout: 10000            # Max invalid mappings in a row\n",
      "  max_permutations_per_if_visit: 4 # We fix permutations with the Greedy Mapper\n",
      "  algorithm: random_pruned # linear_pruned\n",
      "  max_temporal_loops_in_a_mapping: 9\n",
      "\n"
     ]
    }
   ],
   "source": [
    "print(open(MAPPER_PATH).read())"
   ]
  },
  {
   "cell_type": "markdown",
   "metadata": {},
   "source": [
    "It looks like the YAML file set search_size to only 100... let's see if we can\n",
    "get a better mapping by searching 1000 mappings. We'll initialize a\n",
    "specification, then edit the search_size parameter. \n",
    "\n",
    "We can access any piece of the specification by indexing relative to the\n",
    "top-level object. For example, we can access the mapper with `spec.mapper`, the\n",
    "architecture with `spec.architecture`, and the problem with `spec.problem`.\n",
    "Within each, we can further index into the Specification using the keys that\n",
    "correspond to the YAML objects in the input files. The organization of the\n",
    "Python objects is the same as that of the YAML objects, so any indexing that\n",
    "would work on the input YAML files will also work in Python.\n"
   ]
  },
  {
   "cell_type": "code",
   "execution_count": 13,
   "metadata": {},
   "outputs": [
    {
     "name": "stdout",
     "output_type": "stream",
     "text": [
      "Summary Stats\n",
      "-------------\n",
      "GFLOPs (@1GHz): 15.94\n",
      "Utilization: 100.00%\n",
      "Cycles: 1073741824\n",
      "Energy: 55710.75 uJ\n",
      "EDP(J*cycle): 5.98e+07\n",
      "Area: 0.00 mm^2\n",
      "\n",
      "Computes = 8589934592\n",
      "fJ/Compute\n",
      "    mac                          = 3275.00\n",
      "    buffer                       = 709.61\n",
      "    DRAM                         = 2500.98\n",
      "    Total                        = 6485.58\n",
      "\n",
      "\n"
     ]
    }
   ],
   "source": [
    "spec = tl.Specification.from_yaml_files(TOP_PATH)\n",
    "spec.mapper.search_size = 1000\n",
    "tl.call_mapper(spec, output_dir=f\"{os.curdir}/outputs\")  # Run the Timeloop mapper\n",
    "stats = open(\"outputs/timeloop-mapper.stats.txt\").read()\n",
    "print(stats[stats.index(\"Summary Stats\") :])"
   ]
  },
  {
   "cell_type": "markdown",
   "metadata": {},
   "source": [
    "We found a lower overall energy by searching more mappings!"
   ]
  },
  {
   "cell_type": "markdown",
   "metadata": {},
   "source": [
    "## Modifying the Architecture and Problem\n",
    "\n",
    "The architecture & problem can be edited in a similar way to the mapper. Let's\n",
    "change the architecture to work on bigger problems. We'll double the number of\n",
    "PEs, double the global buffer size, and double the batch size (dimension N) in the problem.\n",
    "\n",
    "Like before, we'll initialize a specification. We then index into the problem and architecture to edit our components.\n",
    "\n",
    "The architecture includes a `find` function that lets us find components by name."
   ]
  },
  {
   "cell_type": "code",
   "execution_count": 14,
   "metadata": {},
   "outputs": [
    {
     "name": "stdout",
     "output_type": "stream",
     "text": [
      "Summary Stats\n",
      "-------------\n",
      "GFLOPs (@1GHz): 31.88\n",
      "Utilization: 100.00%\n",
      "Cycles: 1073741824\n",
      "Energy: 99983.28 uJ\n",
      "EDP(J*cycle): 1.07e+08\n",
      "Area: 0.00 mm^2\n",
      "\n",
      "Computes = 17179869184\n",
      "fJ/Compute\n",
      "    mac                          = 3275.00\n",
      "    buffer                       = 1044.73\n",
      "    DRAM                         = 1500.06\n",
      "    Total                        = 5819.79\n",
      "\n",
      "\n"
     ]
    }
   ],
   "source": [
    "spec = tl.Specification.from_yaml_files(TOP_PATH)\n",
    "spec.problem.instance[\"N\"] *= 2\n",
    "spec.architecture.find(\"buffer\").attributes[\"depth\"] *= 2\n",
    "spec.architecture.find(\"PE\").spatial.meshX *= 2\n",
    "spec.mapper.search_size = 1000\n",
    "tl.call_mapper(spec, output_dir=f\"{os.curdir}/outputs\")  # Run the Timeloop mapper\n",
    "stats = open(\"outputs/timeloop-mapper.stats.txt\").read()\n",
    "print(stats[stats.index(\"Summary Stats\") :])"
   ]
  },
  {
   "cell_type": "markdown",
   "metadata": {},
   "source": [
    "## The `get_nodes_of_type` and `find` Functions\n",
    "`get_nodes_of_type` and `find` functions can be used to find nodes in the\n",
    "specification. The `get_nodes_of_type` function returns a list of all nodes of a\n",
    "given type, starting from a given node. The `find` function is is only for the\n",
    "architecture, returning the architecture component or container that matches a\n",
    "given name. We can use these function to traverse the specification and search\n",
    "for particular nodes."
   ]
  },
  {
   "cell_type": "code",
   "execution_count": 15,
   "metadata": {},
   "outputs": [
    {
     "name": "stdout",
     "output_type": "stream",
     "text": [
      "Found dataspace constraint: dataspace constraint(target=) Specification[architecture].Architecture[nodes].ArchNodes[0].Container(system)[constraints].ConstraintGroup[dataspace].Dataspace\n",
      "Found dataspace constraint: dataspace constraint(target=) Specification[architecture].Architecture[nodes].ArchNodes[1].Storage(DRAM)[constraints].ConstraintGroup[dataspace].Dataspace\n",
      "Found dataspace constraint: dataspace constraint(target=) Specification[architecture].Architecture[nodes].ArchNodes[2].Storage(buffer)[constraints].ConstraintGroup[dataspace].Dataspace\n",
      "Found dataspace constraint: dataspace constraint(target=) Specification[architecture].Architecture[nodes].ArchNodes[3].Container(PE)[constraints].ConstraintGroup[dataspace].Dataspace\n",
      "Found dataspace constraint: dataspace constraint(target=) Specification[architecture].Architecture[nodes].ArchNodes[4].Storage(reg)[constraints].ConstraintGroup[dataspace].Dataspace\n",
      "Found dataspace constraint: dataspace constraint(target=) Specification[architecture].Architecture[nodes].ArchNodes[5].Compute(mac)[constraints].ConstraintGroup[dataspace].Dataspace\n",
      "DRAM: Specification[architecture].Architecture[nodes].ArchNodes[1].Storage(DRAM)\n",
      "DRAM Attributes: Specification[architecture].Architecture[nodes].ArchNodes[1].Storage(DRAM)[attributes].StorageAttributes\n"
     ]
    }
   ],
   "source": [
    "spec = tl.Specification.from_yaml_files(TOP_PATH)\n",
    "\n",
    "# List all dataspace constraintas\n",
    "for ds_constraint in spec.get_nodes_of_type(tl.constraints.Dataspace):\n",
    "    print(f'Found dataspace constraint: {ds_constraint}')\n",
    "    \n",
    "# Print DRAM from the architecture\n",
    "print(f'DRAM: {spec.architecture.find(\"DRAM\")}')\n",
    "print(f'DRAM Attributes: {spec.architecture.find(\"DRAM\").attributes}')"
   ]
  },
  {
   "cell_type": "markdown",
   "metadata": {},
   "source": [
    "## Modifying Specifications with Jinja2 Templating\n",
    "Jinja2 expressions can be used to automate the specification. For example, we\n",
    "have defined the DATAWIDTH variable in Jinja2 in the variables file. This\n",
    "variable is used in the architecture file to set the datawidth of the buffers.\n",
    "\n",
    "Of course, the variables file can be edited in Python as well."
   ]
  },
  {
   "cell_type": "code",
   "execution_count": 16,
   "metadata": {},
   "outputs": [
    {
     "name": "stdout",
     "output_type": "stream",
     "text": [
      "Variables file:\n",
      "\t\tDATAWIDTH: {{datawidth_jinja|default(8)}} # 8 bits is the default\n",
      "Setting variable with Jinja2\n",
      "Summary Stats\n",
      "-------------\n",
      "GFLOPs (@1GHz): 15.94\n",
      "Utilization: 100.00%\n",
      "Cycles: 1073741824\n",
      "Energy: 129148.55 uJ\n",
      "EDP(J*cycle): 1.39e+08\n",
      "Area: 0.00 mm^2\n",
      "\n",
      "Computes = 8589934592\n",
      "fJ/Compute\n",
      "    mac                          = 6550.00\n",
      "    buffer                       = 1453.62\n",
      "    DRAM                         = 7031.25\n",
      "    Total                        = 15034.87\n",
      "\n",
      "\n"
     ]
    }
   ],
   "source": [
    "print(f\"Variables file:\")\n",
    "print(f'\\t{read_and_indent(VARIABLES_PATH, start_at=\"DATAWIDTH\")}')\n",
    "print(f\"Setting variable with Jinja2\")\n",
    "\n",
    "spec = tl.Specification.from_yaml_files(TOP_PATH, jinja_parse_data={\"datawidth_jinja\": 16})\n",
    "\n",
    "tl.call_mapper(spec, output_dir=f\"{os.curdir}/outputs\")  # Run the Timeloop mapper\n",
    "stats = open(\"outputs/timeloop-mapper.stats.txt\").read()\n",
    "print(stats[stats.index(\"Summary Stats\") :])\n",
    "\n",
    "# OR edit the variables file directly\n",
    "spec.variables[\"DATAWIDTH\"] = 32"
   ]
  },
  {
   "cell_type": "markdown",
   "metadata": {},
   "source": [
    "Jinja2 can be used to enable/disable components in the architecture file. Let's\n",
    "see how this can be done with the architecture file. We have a register that is\n",
    "set to be disabled by default. We can enable it by setting a Jinja2 variable.\n",
    "\n",
    "Of course, the architecture file can be edited in Python as well."
   ]
  },
  {
   "cell_type": "code",
   "execution_count": 17,
   "metadata": {},
   "outputs": [
    {
     "name": "stdout",
     "output_type": "stream",
     "text": [
      "Architecture file:\n",
      "\t{% if reg_enabled|default(True) %}\n",
      "\t  - !Component # Global buffer for inputs & outputs\n",
      "\t    name: reg\n",
      "\t    class: SRAM\n",
      "\t    subclass: register\n",
      "\t    attributes: \n",
      "\t      datawidth: DATAWIDTH\n",
      "\t      depth: 1\n",
      "\t      width: datawidth * 3\n",
      "\t    constraints:\n",
      "\t      dataspace: {keep: [Inputs, Outputs, Weights]}\n",
      "\t      temporal: {factors_only: []}\n",
      "\t    {% endif %}\n",
      "Summary Stats\n",
      "-------------\n",
      "GFLOPs (@1GHz): 15.94\n",
      "Utilization: 100.00%\n",
      "Cycles: 1073741824\n",
      "Energy: 67000.06 uJ\n",
      "EDP(J*cycle): 7.19e+07\n",
      "Area: 0.00 mm^2\n",
      "\n",
      "Computes = 8589934592\n",
      "fJ/Compute\n",
      "    mac                          = 3275.00\n",
      "    buffer                       = 2024.83\n",
      "    DRAM                         = 2500.00\n",
      "    Total                        = 7799.83\n",
      "\n",
      "\n"
     ]
    }
   ],
   "source": [
    "print(f\"Architecture file:\")\n",
    "print(f'{read_and_indent(ARCH_PATH, start_at=\"{%\", end_at=\"{% endif %}\")}')\n",
    "spec = tl.Specification.from_yaml_files(TOP_PATH, jinja_parse_data={\"reg_enabled\": False})\n",
    "spec.mapper.search_size = 1000\n",
    "tl.call_mapper(spec, output_dir=f\"{os.curdir}/outputs\")  # Run the Timeloop mapper\n",
    "stats = open(\"outputs/timeloop-mapper.stats.txt\").read()\n",
    "print(stats[stats.index(\"Summary Stats\") :])\n",
    "\n",
    "# OR edit the architecture file directly\n",
    "spec = tl.Specification.from_yaml_files(TOP_PATH)\n",
    "spec.architecture.find(\"reg\").enabled = False\n"
   ]
  },
  {
   "cell_type": "markdown",
   "metadata": {},
   "source": [
    "# What can be edited with Python?\n",
    "\n",
    "TimeloopFE can edit any piece of the specification that is exposed in Python. To\n",
    "see what can be edited, we can use the `get_property_tree` and\n",
    "`get_property_table` functions. These functions show all the properties that can\n",
    "be edited, as well as any required types, default values, and other information.\n",
    "\n",
    "To see a list of every property that can be edited in Python, we can use\n",
    "`get_property_tree` or `get_property_table` with no arguments.\n"
   ]
  },
  {
   "cell_type": "code",
   "execution_count": 18,
   "metadata": {},
   "outputs": [
    {
     "name": "stdout",
     "output_type": "stream",
     "text": [
      "[KEY_OR_TAG]: [EXPECTED_TYPE] [REQUIRED or = DEFAULT_VALUE]\n",
      "├─ SUBNODES (If applicable)\n",
      "\n",
      "CompoundComponent\n",
      "├─ '*ignore*': None Optional\n",
      "├─ 'name': str REQUIRED\n",
      "├─ 'attributes': ComponentAttributes = '{}'\n",
      "│  ├─ '*ignore*': None Optional\n",
      "│  └─ '**': None Optional\n",
      "├─ 'subcomponents': SubcomponentList = '[]'\n",
      "│  ├─ 'ignore': None \n",
      "│  └─ '': Subcomponent \n",
      "│     ├─ '*ignore*': None Optional\n",
      "│     ├─ 'name': str REQUIRED\n",
      "│     ├─ 'attributes': ComponentAttributes = '{}'\n",
      "│     │  ├─ '*ignore*': None Optional\n",
      "│     │  └─ '**': None Optional\n",
      "│     └─ 'area_share': Number/str = '1'\n",
      "└─ 'actions': ActionsList = '[]'\n",
      "   ├─ 'ignore': None \n",
      "   └─ '': Action \n",
      "      ├─ '*ignore*': None Optional\n",
      "      ├─ 'name': str REQUIRED\n",
      "      ├─ 'arguments': DictNode = '{}'\n",
      "      │  └─ '*ignore*': None Optional\n",
      "      └─ 'subcomponents': ActionSubcomponentsList = '[]'\n",
      "         ├─ 'ignore': None \n",
      "         └─ '': SubcomponentActionGroup \n",
      "            ├─ '*ignore*': None Optional\n",
      "            ├─ 'name': str REQUIRED\n",
      "            └─ 'actions': SubcomponentActionList = '[]'\n",
      "               ├─ 'ignore': None \n",
      "               └─ '': SubcomponentAction \n",
      "                  ├─ '*ignore*': None Optional\n",
      "                  ├─ 'name': str REQUIRED\n",
      "                  ├─ 'arguments': DictNode = '{}'\n",
      "                  │  └─ '*ignore*': None Optional\n",
      "                  └─ 'action_share': str/float = '1'\n"
     ]
    }
   ],
   "source": [
    "# Get a recursive list of all the properties that can be edited in Python\n",
    "print(tl.get_property_tree(tl.components.CompoundComponent))\n"
   ]
  },
  {
   "cell_type": "code",
   "execution_count": 19,
   "metadata": {},
   "outputs": [
    {
     "name": "stdout",
     "output_type": "stream",
     "text": [
      "\n",
      "\n",
      "=================================================  timeloopfe.v4.components  ================================================\n",
      "\n",
      "==== CompoundComponent ====\n",
      "  KEY                      ,REQUIRED_TYPE            ,DEFAULT                  ,CALLFUNC                 ,SET_FROM                 \n",
      "  ignore                   ,None                     ,None                     ,None                     ,None                     \n",
      "  name                     ,str                      ,REQUIRED                 ,None                     ,None                     \n",
      "  attributes               ,ComponentAttributes      ,{}                       ,ComponentAttributes      ,None                     \n",
      "  subcomponents            ,SubcomponentList         ,[]                       ,SubcomponentList         ,None                     \n",
      "  actions                  ,ActionsList              ,[]                       ,ActionsList              ,None                     \n"
     ]
    }
   ],
   "source": [
    "# Get a table of all the properties that can be edited in Python for this element\n",
    "print(tl.get_property_table(tl.components.CompoundComponent))\n",
    "\n",
    "# print(tl.doc.get_property_tree())   # These print every property for every class\n",
    "# print(tl.doc.get_property_table())  # in the specification. This is a lot of text!"
   ]
  }
 ],
 "metadata": {
  "kernelspec": {
   "display_name": "venv",
   "language": "python",
   "name": "python3"
  },
  "language_info": {
   "codemirror_mode": {
    "name": "ipython",
    "version": 3
   },
   "file_extension": ".py",
   "mimetype": "text/x-python",
   "name": "python",
   "nbconvert_exporter": "python",
   "pygments_lexer": "ipython3",
   "version": "3.12.1"
  }
 },
 "nbformat": 4,
 "nbformat_minor": 2
}
