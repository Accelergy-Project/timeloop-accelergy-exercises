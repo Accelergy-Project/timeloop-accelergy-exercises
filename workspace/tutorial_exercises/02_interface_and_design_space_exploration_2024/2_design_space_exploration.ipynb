{
 "cells": [
  {
   "cell_type": "markdown",
   "metadata": {},
   "source": [
    "# Exploring the Design Space\n",
    "Here, we will demonstrate how to use TimeloopFE to conduct design space explorations\n",
    "with Timeloop & Accelergy. We will use TimeloopFE to launch Timeloop+Accelergy jobs,\n",
    "then gather the results from each.\n",
    "\n",
    "In this design space exploration, we will use a simple architecture with a DRAM, a\n",
    "global buffer, and an array of PEs which each have a register and a compute unit. We\n",
    "will vary the number of PEs and the global buffer size.\n",
    "\n",
    "We start by defining a `run_test` function that takes in a scale factor for the\n",
    "global buffer size and a scale factor for the number of PEs. The function will\n",
    "run the Timeloop mapper and return the global buffer size, number of PEs, and\n",
    "energy in pJ/MAC.\n"
   ]
  },
  {
   "cell_type": "code",
   "execution_count": 1,
   "metadata": {},
   "outputs": [],
   "source": [
    "import timeloopfe.v4 as tl\n",
    "import os\n",
    "TOP_PATH = f\"{os.curdir}/top.yaml.jinja\"\n",
    "\n",
    "def run_test(global_buffer_size_scale: float, pe_scale: float, brief_print: bool=False):\n",
    "    if brief_print:\n",
    "        print('.', end='')\n",
    "    # Set up the specification\n",
    "    spec = tl.Specification.from_yaml_files(TOP_PATH)\n",
    "    buf = spec.architecture.find(\"buffer\")\n",
    "    buf.attributes[\"depth\"] = round(buf.attributes[\"depth\"] * global_buffer_size_scale)\n",
    "    pe = spec.architecture.find(\"PE\")\n",
    "    pe.spatial.meshX = round(pe.spatial.meshX * pe_scale)\n",
    "    spec.mapper.search_size = 2000\n",
    "\n",
    "    # Give each run a unique ID and run the mapper\n",
    "    proc_id = f\"glb_scale={global_buffer_size_scale},pe_scale={pe_scale}\"\n",
    "    if brief_print:\n",
    "        print('.', end='')\n",
    "    else:\n",
    "        print(f\"Starting {proc_id}\")\n",
    "    out_dir = f\"{os.curdir}/outputs/{proc_id}\"\n",
    "\n",
    "    return (\n",
    "        spec.architecture.find(\"buffer\").attributes[\"depth\"],\n",
    "        spec.architecture.find(\"PE\").spatial.meshX,\n",
    "        tl.call_mapper(spec, output_dir=out_dir, log_to=f\"{out_dir}/output.log\"),\n",
    "    )\n"
   ]
  },
  {
   "cell_type": "markdown",
   "metadata": {},
   "source": [
    "Rather than run each test sequentially in a `for` loop, we can use the joblib library\n",
    "to multiprocess our calls and speed up design space exploration.\n"
   ]
  },
  {
   "cell_type": "code",
   "execution_count": 2,
   "metadata": {},
   "outputs": [
    {
     "name": "stdout",
     "output_type": "stream",
     "text": [
      "Starting glb_scale=0.5,pe_scale=0.5\n",
      "Starting glb_scale=0.5,pe_scale=1\n",
      "Starting glb_scale=0.5,pe_scale=2\n",
      "Starting glb_scale=1,pe_scale=0.5\n",
      "Starting glb_scale=1,pe_scale=1\n",
      "Starting glb_scale=1,pe_scale=2\n",
      "Starting glb_scale=2,pe_scale=0.5\n",
      "Starting glb_scale=2,pe_scale=1\n",
      "Starting glb_scale=2,pe_scale=2\n"
     ]
    }
   ],
   "source": [
    "args = []\n",
    "results = []\n",
    "for global_buffer_size_scale in [0.5, 1, 2]:\n",
    "    for n_pes in [0.5, 1, 2]:\n",
    "        arg = (global_buffer_size_scale, n_pes)\n",
    "        args.append(arg)\n",
    "\n",
    "# Slow non-multi-processed implementation\n",
    "# for arg in args:\n",
    "#   results.append(run_test(*arg))\n",
    "\n",
    "# Fast multiprocessed implementation\n",
    "import joblib\n",
    "\n",
    "results = joblib.Parallel(n_jobs=None)(\n",
    "    joblib.delayed(run_test)(*arg) for arg in args\n",
    ")"
   ]
  },
  {
   "cell_type": "code",
   "execution_count": 3,
   "metadata": {},
   "outputs": [
    {
     "name": "stdout",
     "output_type": "stream",
     "text": [
      "Global buffer depth: 256, # PEs: 4, pJ/MAC: 7.42111\n",
      "Global buffer depth: 256, # PEs: 8, pJ/MAC: 7.36187\n",
      "Global buffer depth: 256, # PEs: 16, pJ/MAC: 7.329479999999999\n",
      "Global buffer depth: 512, # PEs: 4, pJ/MAC: 6.56017\n",
      "Global buffer depth: 512, # PEs: 8, pJ/MAC: 6.48472\n",
      "Global buffer depth: 512, # PEs: 16, pJ/MAC: 6.44699\n",
      "Global buffer depth: 1024, # PEs: 4, pJ/MAC: 5.99992\n",
      "Global buffer depth: 1024, # PEs: 8, pJ/MAC: 5.87987\n",
      "Global buffer depth: 1024, # PEs: 16, pJ/MAC: 5.81985\n"
     ]
    }
   ],
   "source": [
    "for global_buffer_depth, n_pes, result in results:\n",
    "    print(\n",
    "        f\"Global buffer depth: {global_buffer_depth}, # PEs: {n_pes}, pJ/MAC: {result.per_compute(\"energy\")*1e12}\"\n",
    "    )\n"
   ]
  },
  {
   "cell_type": "markdown",
   "metadata": {},
   "source": [
    "Let's run a bigger test. We'll try out 20 different buffer sizes and plot the\n",
    "Energy/MAC for each buffer size. Using this test, we can decide on the\n",
    "lowest-energy buffer size for this system and workload. NOTE that the curve may\n",
    "not be smooth; this is due to suboptimal mappings, and we could smooth the curve\n",
    "better by running the mapper for much longer."
   ]
  },
  {
   "cell_type": "code",
   "execution_count": 4,
   "metadata": {},
   "outputs": [
    {
     "name": "stdout",
     "output_type": "stream",
     "text": [
      "................................................................................"
     ]
    },
    {
     "data": {
      "image/png": "[encoded data removed]",
      "text/plain": [
       "<Figure size 640x480 with 1 Axes>"
      ]
     },
     "metadata": {},
     "output_type": "display_data"
    }
   ],
   "source": [
    "import shutil\n",
    "import matplotlib.pyplot as plt\n",
    "\n",
    "args = []\n",
    "for step in range(1, 41):\n",
    "    global_buffer_size_scale = step / 10\n",
    "    args.append((global_buffer_size_scale, 1, True))\n",
    "\n",
    "results = joblib.Parallel(n_jobs=None)(\n",
    "    joblib.delayed(run_test)(*arg) for arg in args\n",
    ")\n",
    "\n",
    "buffer_depths = [r[0] for r in results]\n",
    "energies = [r[2].per_compute(\"energy\") * 1e12 for r in results]\n",
    "\n",
    "plt.plot(buffer_depths, energies)\n",
    "plt.xlabel('Buffer Depth (Words)')\n",
    "plt.ylabel('Energy (pJ/MAC)')\n",
    "plt.title('Energy vs Buffer Depth')\n",
    "plt.show()\n",
    "\n",
    "shutil.rmtree(f\"{os.curdir}/outputs\")"
   ]
  }
 ],
 "metadata": {
  "kernelspec": {
   "display_name": "venv",
   "language": "python",
   "name": "python3"
  },
  "language_info": {
   "codemirror_mode": {
    "name": "ipython",
    "version": 3
   },
   "file_extension": ".py",
   "mimetype": "text/x-python",
   "name": "python",
   "nbconvert_exporter": "python",
   "pygments_lexer": "ipython3",
   "version": "3.12.1"
  }
 },
 "nbformat": 4,
 "nbformat_minor": 2
}
