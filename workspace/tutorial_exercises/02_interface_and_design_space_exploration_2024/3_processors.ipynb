{
 "cells": [
  {
   "cell_type": "markdown",
   "metadata": {},
   "source": [
    "# TimeloopFE Processors Overview\n",
    "\n",
    "TimeloopFE lets users define processors to automate parts of the modeling flow.\n",
    "This tutorial provides an overview of processors and how they can be used to\n",
    "introduce new automations."
   ]
  },
  {
   "cell_type": "markdown",
   "metadata": {},
   "source": [
    "# The Basic Processor\n",
    "TimeloopFE processors have two main functions: `declare_attrs` and `process`.\n",
    "- `declare_attrs` is called once when the processor is initialized. This function\n",
    "  should declare any attributes that the processor will add to the specification.\n",
    "  If a processor declares attributes, it should also remove them in the `process`\n",
    "  function.\n",
    "- `process` is called once in the Specification's `process` function. The `process`\n",
    "  function should edit the specification and must remove any attributes that the\n",
    "  processor has declared.\n",
    "\n",
    "An example processor is shown below. The processor declares an attribute,\n",
    "\"simple_processor_attr\", in the Problem. In the process function, it deletes\n",
    "this attribute."
   ]
  },
  {
   "cell_type": "code",
   "execution_count": 1,
   "metadata": {},
   "outputs": [],
   "source": [
    "import timeloopfe.v4 as tl\n",
    "import os\n",
    "TOP_PATH = f\"{os.curdir}/top.yaml.jinja\"\n",
    "\n",
    "class MyProcessor(tl.Processor):\n",
    "    \"\"\"!@brief An example simple processor.\"\"\"\n",
    "\n",
    "    def __init__(self, *args, **kwargs):\n",
    "        super().__init__(*args, **kwargs)\n",
    "        self.logger.info(\"Initializing SimpleProcessor\")\n",
    "\n",
    "    def init_elems(self):\n",
    "        \"\"\"!@brief Initialize the attributes that the processor handles.\"\"\"\n",
    "        super().init_elem(tl.Problem, \"simple_processor_attr\", str, \"\")\n",
    "\n",
    "    def process(self, spec: tl.Specification):\n",
    "        \"\"\"!@brief Process the specification. Remove attributes that this\n",
    "        processor is responsible for.\"\"\"\n",
    "        if \"simple_processor_attr\" in spec.problem:\n",
    "            del spec.problem[\"simple_processor_attr\"]\n",
    "            self.logger.info('Deleted \"simple_processor_attr\"')\n"
   ]
  },
  {
   "cell_type": "markdown",
   "metadata": {},
   "source": [
    "## Processor Usage Example\n",
    "Let's create a proccessor that expands buffers in the architecture. \n",
    "\n",
    "In the `declare_attrs` function, this processor defines an `expansion_factor`\n",
    "attribute that determines by how much it will expand a given buffer. In the\n",
    "`process` function, it modifies the depth/width of architecture components and\n",
    "deletes these expansion factors.\n",
    "\n",
    "In the architecture YAML, we can define `expansion_factor` attributes to be\n",
    "parsed by this processor."
   ]
  },
  {
   "cell_type": "code",
   "execution_count": 2,
   "metadata": {},
   "outputs": [],
   "source": [
    "DELETE_EXPANSION_FACTOR = True\n",
    "\n",
    "class BufferExpansionProcessor(tl.Processor):\n",
    "    \"\"\"!@brief Expands buffers in the architecture.\"\"\"\n",
    "\n",
    "    def __init__(self, *args, **kwargs):\n",
    "        super().__init__(*args, **kwargs)\n",
    "        # Each processor\n",
    "        self.logger.info(\"Initializing BufferExpansionProcessor\")\n",
    "\n",
    "    def declare_attrs(self):\n",
    "        \"\"\"!@brief Initialize the attributes that the processor handles.\"\"\"\n",
    "        # Initialize for the Component class, name \"expansion_factor\", type int,\n",
    "        # default value 1\n",
    "        super().add_attr(tl.arch.Component, \"expansion_factor\", int, 1)\n",
    "\n",
    "    def process(self, spec: tl.Specification):\n",
    "        for component in spec.architecture.get_nodes_of_type(tl.arch.Component):\n",
    "            print(f'Looking at {component}')\n",
    "            expansion_factor = component.expansion_factor\n",
    "            if DELETE_EXPANSION_FACTOR:\n",
    "                component.pop('expansion_factor')\n",
    "\n",
    "            self.logger.warning(\n",
    "                f\"Expanding buffer {component.name} by {expansion_factor}x\"\n",
    "            )\n",
    "            if component.attributes.get(\"width\", None):\n",
    "                component.attributes[\"width\"] *= expansion_factor\n",
    "                self.logger.info(\n",
    "                    f\"Expanded buffer {component.name} by {expansion_factor}x\"\n",
    "                )\n",
    "            if component.attributes.get(\"depth\", None):\n",
    "                component.attributes[\"depth\"] *= expansion_factor\n",
    "                self.logger.info(\n",
    "                    f\"Expanded buffer {component.name} by {expansion_factor}x\"\n",
    "                )\n"
   ]
  },
  {
   "cell_type": "markdown",
   "metadata": {},
   "source": [
    "The `declare_attrs` function adds the `expansion_factor` attribute to the\n",
    "`Component` class. The `process` function expands each buffer in the\n",
    "architecture by the expansion factor and then deletes the expansion factor\n",
    "attribute. The `must_run_after` function ensures that the MathProcessor runs\n",
    "before the BufferExpansionProcessor so that all math expressions are resolved\n",
    "before the expansion factor is used.\n",
    "\n",
    "Let's try running the processor on a simple architecture. We set an expansion\n",
    "factor of 3 for the DRAM and 5 for the buffer. We can see that the processor\n",
    "expands both the DRAM and the buffer by the correct amount. Other architecture\n",
    "components are expanded by 1x because the default expansion factor is 1. Below,\n",
    "we print the width of the DRAM and buffer before and after processing with the\n",
    "BufferExpansionProcessor.\n",
    "\n",
    "If processors are provided, then process() must be called before any invocation\n",
    "of tl.call_mapper, tl.call_model, or tl.call_accelerg_verbose with the\n",
    "specification."
   ]
  },
  {
   "cell_type": "code",
   "execution_count": null,
   "metadata": {},
   "outputs": [],
   "source": []
  },
  {
   "cell_type": "code",
   "execution_count": 3,
   "metadata": {},
   "outputs": [
    {
     "name": "stderr",
     "output_type": "stream",
     "text": [
      "WARNING:BufferExpansionProcessor:Expanding buffer DRAM by 3x\n",
      "WARNING:BufferExpansionProcessor:Expanding buffer buffer by 5x\n",
      "WARNING:BufferExpansionProcessor:Expanding buffer reg by 1x\n",
      "WARNING:BufferExpansionProcessor:Expanding buffer mac by 1x\n"
     ]
    },
    {
     "name": "stdout",
     "output_type": "stream",
     "text": [
      "\n",
      "\n",
      "====================================================  timeloopfe.v4.arch  ===================================================\n",
      "\n",
      "==== Component ====\n",
      "  KEY                      ,REQUIRED_TYPE            ,DEFAULT                  ,CALLFUNC                 ,SET_FROM                 \n",
      "  ignore                   ,None                     ,None                     ,None                     ,None                     \n",
      "  name                     ,str                      ,REQUIRED                 ,None                     ,None                     \n",
      "  attributes               ,Attributes               ,{}                       ,Attributes               ,None                     \n",
      "  spatial                  ,Spatial                  ,{}                       ,Spatial                  ,None                     \n",
      "  constraints              ,ConstraintGroup          ,{}                       ,ConstraintGroup          ,None                     \n",
      "  sparse_optimizations     ,SparseOptimizationGroup  ,{}                       ,SparseOptimizationGroup  ,None                     \n",
      "  class                    ,str                      ,REQUIRED                 ,None                     ,None                     \n",
      "  subclass                 ,str                      ,None                     ,None                     ,None                     \n",
      "  required_actions         ,list                     ,[]                       ,None                     ,None                     \n",
      "  area_share               ,Number                   ,None                     ,None                     ,None                     \n",
      "  enabled                  ,bool                     ,True                     ,None                     ,None                     \n",
      "  expansion_factor         ,int                      ,1                        ,None                     ,<__main__.BufferExpansionProcessor object at 0x7effe44af110>\n",
      "DRAM width before:  64\n",
      "Buffer width before:  128\n",
      "Looking at Specification[architecture].Architecture[nodes].ArchNodes[1].Storage(DRAM)\n",
      "Looking at Specification[architecture].Architecture[nodes].ArchNodes[2].Storage(buffer)\n",
      "Looking at Specification[architecture].Architecture[nodes].ArchNodes[4].Storage(reg)\n",
      "Looking at Specification[architecture].Architecture[nodes].ArchNodes[5].Compute(mac)\n",
      "DRAM width after:  192\n",
      "Buffer width after:  640\n"
     ]
    }
   ],
   "source": [
    "spec = tl.Specification.from_yaml_files(\n",
    "    TOP_PATH, processors=[BufferExpansionProcessor]\n",
    ")\n",
    "print(tl.get_property_table(tl.arch.Component))\n",
    "spec.architecture.find(\"DRAM\").expansion_factor = 3\n",
    "spec.architecture.find(\"buffer\").expansion_factor = 5\n",
    "print(f\"DRAM width before: \", spec.architecture.find(\"DRAM\").attributes[\"width\"])\n",
    "print(f\"Buffer width before: \", spec.architecture.find(\"buffer\").attributes[\"width\"])\n",
    "spec.process()\n",
    "print(f\"DRAM width after: \", spec.architecture.find(\"DRAM\").attributes[\"width\"])\n",
    "print(f\"Buffer width after: \", spec.architecture.find(\"buffer\").attributes[\"width\"])"
   ]
  },
  {
   "cell_type": "markdown",
   "metadata": {},
   "source": [
    "### Processor Exceptions\n",
    "\n",
    "Processors can raise exceptions if they encounter invalid inputs. For example,\n",
    "the `must_run_after` function raises an exception if the processor that it\n",
    "depends on is not found in the list of processors. Here, we try to run the\n",
    "BufferExpansionProcessor first, but it depends on the MathProcessor in the\n",
    "standard suite.\n"
   ]
  },
  {
   "cell_type": "code",
   "execution_count": 4,
   "metadata": {},
   "outputs": [
    {
     "name": "stderr",
     "output_type": "stream",
     "text": [
      "WARNING:BufferExpansionProcessor:Expanding buffer DRAM by 1x\n",
      "WARNING:BufferExpansionProcessor:Expanding buffer buffer by 1x\n",
      "WARNING:BufferExpansionProcessor:Expanding buffer reg by 1x\n",
      "WARNING:BufferExpansionProcessor:Expanding buffer mac by 1x\n"
     ]
    },
    {
     "name": "stdout",
     "output_type": "stream",
     "text": [
      "Looking at Specification[architecture].Architecture[nodes].ArchNodes[1].Storage(DRAM)\n",
      "Looking at Specification[architecture].Architecture[nodes].ArchNodes[2].Storage(buffer)\n",
      "Looking at Specification[architecture].Architecture[nodes].ArchNodes[4].Storage(reg)\n",
      "Looking at Specification[architecture].Architecture[nodes].ArchNodes[5].Compute(mac)\n"
     ]
    }
   ],
   "source": [
    "spec = tl.Specification.from_yaml_files(\n",
    "    TOP_PATH, processors=[BufferExpansionProcessor]\n",
    ")\n",
    "try:\n",
    "    spec.process()\n",
    "except tl.ProcessorError as e:\n",
    "    print(e)"
   ]
  },
  {
   "cell_type": "markdown",
   "metadata": {},
   "source": [
    "TimeloopFE also raises an exception if a processor does not remove the attributes\n",
    "that it declares."
   ]
  },
  {
   "cell_type": "code",
   "execution_count": 5,
   "metadata": {},
   "outputs": [
    {
     "name": "stderr",
     "output_type": "stream",
     "text": [
      "WARNING:BufferExpansionProcessor:Expanding buffer DRAM by 1x\n",
      "WARNING:BufferExpansionProcessor:Expanding buffer buffer by 1x\n",
      "WARNING:BufferExpansionProcessor:Expanding buffer reg by 1x\n",
      "WARNING:BufferExpansionProcessor:Expanding buffer mac by 1x\n"
     ]
    },
    {
     "name": "stdout",
     "output_type": "stream",
     "text": [
      "Looking at Specification[architecture].Architecture[nodes].ArchNodes[1].Storage(DRAM)\n",
      "Looking at Specification[architecture].Architecture[nodes].ArchNodes[2].Storage(buffer)\n",
      "Looking at Specification[architecture].Architecture[nodes].ArchNodes[4].Storage(reg)\n",
      "Looking at Specification[architecture].Architecture[nodes].ArchNodes[5].Compute(mac)\n"
     ]
    }
   ],
   "source": [
    "spec = tl.Specification.from_yaml_files(\n",
    "    TOP_PATH, processors=[BufferExpansionProcessor]\n",
    ")\n",
    "try:\n",
    "    DELETE_EXPANSION_FACTOR = False\n",
    "    spec.process()\n",
    "except tl.ProcessorError as e:\n",
    "    print(e)\n"
   ]
  },
  {
   "cell_type": "markdown",
   "metadata": {},
   "source": [
    "# Editing The Specification and `process()`\n",
    "The process() function transforms the specification at many points. Users may also edit the specification, and there is an important choice as to whether to edit specifications before or after calling `process()`. TimeloopFE also supports calling `process()` with a list of processors, allowing users to `process()`, edit the specification, `process()` with a different set of processors, and so on."
   ]
  },
  {
   "cell_type": "markdown",
   "metadata": {},
   "source": [
    "## Edit Before Process\n",
    "Generally, we recommend editing the specification *before* calling `process()`.\n",
    "This is for two reasons. First, Before calling `process()`, we can look at the\n",
    "YAML files and use them as a reference to know what we're editing. After\n",
    "`process()`, we can still dump the specification or use print/log statements\n",
    "to see the specification, but it is more difficult.\n",
    "\n",
    "Furthermore, formulas defined in the YAML files are resolved during processing.\n",
    "Editing the calculated results after they have been processed may result in\n",
    "unexpected behavior. As an example, the variables are propagated from the\n",
    "variables file during processing. Below, we edit an architecture where the\n",
    "datawidth of a buffer is set from a DATAWIDTH variable. If we change the\n",
    "DATWIDTH variable before processing, the new value is propagated to the rest of\n",
    "the specification. If we incorrectly change the DATWIDTH variable after\n",
    "processing, the new value is not propagated."
   ]
  },
  {
   "cell_type": "code",
   "execution_count": 6,
   "metadata": {},
   "outputs": [
    {
     "name": "stdout",
     "output_type": "stream",
     "text": [
      "Buffer datawidth is set to DATAWIDTH\n",
      "Setting variables DATAWIDTH to 32 BEFORE processing\n",
      "\n",
      "Calling process()\n",
      "\n",
      "After processing, buffer datawaidth is DATAWIDTH\n",
      "INCORRECT: Setting variables DATAWIDTH to 64 AFTER processing\n",
      "Buffer datawaidth is DATAWIDTH; NOT UPDATED.\n"
     ]
    }
   ],
   "source": [
    "\n",
    "spec = tl.Specification.from_yaml_files(TOP_PATH)\n",
    "\n",
    "\n",
    "print(f\"Buffer datawidth is set to {spec.architecture.find('buffer').attributes['datawidth']}\")\n",
    "\n",
    "print(f\"Setting variables DATAWIDTH to 32 BEFORE processing\")\n",
    "spec.variables[\"DATAWIDTH\"] = 32\n",
    "\n",
    "print(f'\\nCalling process()\\n')\n",
    "spec.process()\n",
    "\n",
    "print(f\"After processing, buffer datawaidth is {spec.architecture.find('buffer').attributes['datawidth']}\")\n",
    "print(f\"INCORRECT: Setting variables DATAWIDTH to 64 AFTER processing\")\n",
    "spec.variables[\"DATAWIDTH\"] = 64\n",
    "print(f\"Buffer datawaidth is {spec.architecture.find('buffer').attributes['datawidth']}; NOT UPDATED.\")\n"
   ]
  },
  {
   "cell_type": "markdown",
   "metadata": {},
   "source": [
    "## Editing Python Expressions\n",
    "Python expressions can be used to define variables in the `variables`,\n",
    "`problem`, architecture `attributes`, among other locations. When editing these\n",
    "expressions, care should be taken to avoid performing arithmetic directly on the\n",
    "string.\n",
    "\n",
    "To edit expressions, you may parentheses-wrapping them then add additional\n",
    "arithmetic to the beginning or end of the expression. The below example shows a\n",
    "number and expression both being multiplied by four in Python. When the\n",
    "expression, which is a string, is multiplied by four directly, the string is\n",
    "copied four times to produce an incorrect result. Instead, we can get a correct\n",
    "result by parentheses-wrapping the expression and adding a \" * 4\" to the end.\n"
   ]
  },
  {
   "cell_type": "code",
   "execution_count": 7,
   "metadata": {},
   "outputs": [
    {
     "name": "stdout",
     "output_type": "stream",
     "text": [
      "Variables before processing: \n",
      "  number                   : 13\n",
      "  formula                  : 8 + 5\n",
      "  'number * 4'             : 52\n",
      "  '(number) * 4'           : (13) * 4\n",
      "  INCORRECT 'formula * 4'  : 8 + 58 + 58 + 58 + 5\n",
      "  CORRECT '(formula) * 4'  : (8 + 5) * 4\n",
      "\n",
      "Variables after processing: \n",
      "  number                   : 13\n",
      "  formula                  : 8 + 5\n",
      "  'number * 4'             : 52\n",
      "  '(number) * 4'           : (13) * 4\n",
      "  INCORRECT 'formula * 4'  : 8 + 58 + 58 + 58 + 5\n",
      "  CORRECT '(formula) * 4'  : (8 + 5) * 4\n"
     ]
    }
   ],
   "source": [
    "spec = tl.Specification.from_yaml_files(TOP_PATH)\n",
    "variables = spec.variables = spec.variables\n",
    "variables[\"number\"] = 13\n",
    "variables[\"formula\"] = \"8 + 5\"\n",
    "\n",
    "\n",
    "variables[\"'number * 4'\"] = variables[\"number\"] * 4\n",
    "variables[\"'(number) * 4'\"] = f'({variables[\"number\"]}) * 4'\n",
    "\n",
    "# INCORRECT: Multiply the string by 4\n",
    "variables[\"INCORRECT 'formula * 4'\"] = variables[\"formula\"] * 4\n",
    "# Correct: Parentheses-wrap the string and add a \"*4\" to create\n",
    "# a new string containing\"(formula) * 4\"\n",
    "variables[\"CORRECT '(formula) * 4'\"] = f'({variables[\"formula\"]}) * 4'\n",
    "\n",
    "print(f'Variables before processing: ')\n",
    "for k, v in variables.items():\n",
    "    if \"number\" in k or \"formula\" in k:\n",
    "        print(f'  {k:25s}: {v}')\n",
    "\n",
    "spec.process()\n",
    "\n",
    "print(f'\\nVariables after processing: ')\n",
    "for k, v in variables.items():\n",
    "    if \"number\" in k or \"formula\" in k:\n",
    "        print(f'  {k:25s}: {v}')"
   ]
  }
 ],
 "metadata": {
  "kernelspec": {
   "display_name": "venv",
   "language": "python",
   "name": "python3"
  },
  "language_info": {
   "codemirror_mode": {
    "name": "ipython",
    "version": 3
   },
   "file_extension": ".py",
   "mimetype": "text/x-python",
   "name": "python",
   "nbconvert_exporter": "python",
   "pygments_lexer": "ipython3",
   "version": "3.12.1"
  }
 },
 "nbformat": 4,
 "nbformat_minor": 2
}
