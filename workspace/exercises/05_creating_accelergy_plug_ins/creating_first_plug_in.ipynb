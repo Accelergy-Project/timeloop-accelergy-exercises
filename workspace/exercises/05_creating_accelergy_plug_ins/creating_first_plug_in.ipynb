{
 "cells": [
  {
   "cell_type": "markdown",
   "metadata": {},
   "source": [
    "# **Creating your First Plug-In**\n",
    "This notebook guides you through the process of creating your first Accelergy\n",
    "plug-in."
   ]
  },
  {
   "cell_type": "code",
   "execution_count": 1,
   "metadata": {},
   "outputs": [],
   "source": [
    "from creating_first_plug_in.helper_functions import *\n",
    "import os\n",
    "CURRENT_DIR = os.path.dirname(os.path.realpath('__file__'))\n",
    "PLUG_IN_SCRIPT = 'my_plugin.py'\n",
    "LOGFILE = 'accelergy.log'"
   ]
  },
  {
   "cell_type": "markdown",
   "metadata": {},
   "source": [
    "## **Introducing the Ternary MAC Plug-In**\n",
    "We'd like to build a custom MAC unit for ternary neural nets. Ternary neural\n",
    "    nets restrict input activations and weight values to [-1, 0, 1]. This\n",
    "    allows them to compute MACs with extremely simple hardware. Each\n",
    "    $Input\\times Weight$ value is also in [-1, 0, 1], so a MAC can be computed\n",
    "    with a single increment/decrement of the psum. Suppose that, based on\n",
    "    simulations, we have the following formulas for the energy and area of the\n",
    "    ternary MAC unit: $$MAC\\ Energy (pJ) = 0.002\\times(Accum.\\ Datawidth +\n",
    "    0.25) \\times (Tech\\ Node)^{1.1} $$ $$Area\\ (um^2) = 2\\times(Accum.\\\n",
    "    Datawidth + 0.3) \\times (Tech\\ Node)^{1.3} $$\n",
    "\n",
    "We also set a few restrictions on our model: $$ 4\\le Accum.\\ Datawidth \\le 8 $$\n",
    "    $$ 16\\le Tech\\ Node \\le 130 $$\n",
    "\n",
    "\n",
    "Let's build an Accelergy plug-in to implement our new MAC unit. The plug-in\n",
    "below is commented to explain each part. All \"REQUIRED\" pieces must be included\n",
    "for the plug-in to work."
   ]
  },
  {
   "cell_type": "code",
   "execution_count": 2,
   "metadata": {},
   "outputs": [
    {
     "name": "stderr",
     "output_type": "stream",
     "text": [
      "2024-02-03 10:09:20 INFO        Located config file at /home/tanner/.config/accelergy/accelergy_config.yaml.\n",
      "2024-02-03 10:09:20 INFO        Located config file at /home/tanner/.config/accelergy/accelergy_config.yaml.\n",
      "2024-02-03 10:09:20 INFO        Added path /home/tanner/research/cimloop/infrastructure/timeloop-accelergy-exercises/workspace/exercises/04_creating_accelergy_plug_ins/my_plugin.py to the list of python paths.\n"
     ]
    },
    {
     "name": "stdout",
     "output_type": "stream",
     "text": [
      "Writing TernaryMAC. View the script at /home/tanner/research/cimloop/infrastructure/timeloop-accelergy-exercises/workspace/exercises/04_creating_accelergy_plug_ins/my_plugin.py\n"
     ]
    }
   ],
   "source": [
    "from accelergy.plug_in_interface.estimator import (\n",
    "    Estimator, actionDynamicEnergy, add_estimator_path, remove_estimator_path\n",
    ")\n",
    "\n",
    "# REQUIRED: Declare a new Accelergy Estimator\n",
    "class TernaryMAC(Estimator):\n",
    "    # REQUIRED: Tell Accelergy the name of this Estimator\n",
    "    name = 'ternary_mac'\n",
    "    # REQUIRED: Tell Accelergy the accuracy of this Estimator\n",
    "    percent_accuracy_0_to_100 = 80\n",
    "\n",
    "    def __init__(self, accum_datawidth: int, tech_node: int):\n",
    "        self.accum_datawidth = accum_datawidth\n",
    "        self.tech_node = tech_node\n",
    "        # Raising an error tells Accelergy that this plug-in can't estimate,\n",
    "        # and Accelergy should query other plug-ins instead. Good error\n",
    "        # messages are essential for users debugging Accelergy designs.\n",
    "        assert 4 <= accum_datawidth <= 8, \\\n",
    "            f'Accumulation datawidth {accum_datawidth} outside supported ' \\\n",
    "            f'range [4-8]!'\n",
    "        assert 16 <= tech_node <= 130, \\\n",
    "            f'Technology node {tech_node} outside supported range [16, 130]!'\n",
    "\n",
    "    # The actionDynamicEnergy decorator tells Accelergy that this function should be\n",
    "    # made visible as an action. The function should return an energy in\n",
    "    # Joules.\n",
    "    @actionDynamicEnergy\n",
    "    def mac_random(self) -> float:\n",
    "        self.logger.info(f'TernaryMAC Estimator is estimating '\n",
    "                         f'energy for mac_random.')\n",
    "        return 0.002e-12 * (self.accum_datawidth + 0.25) * self.tech_node**1.1\n",
    "\n",
    "    # REQUIRED: The get_area function returns the area of this component. It is\n",
    "    # required in all plug-ins. The function should return an area in m$^2$.\n",
    "    def get_area(self) -> float:\n",
    "        self.logger.info(f'TernaryMAC Estimator is estimating area.')\n",
    "        return 2 * (self.accum_datawidth + 0.3) * self.tech_node ** 1.3 * 1e-12\n",
    "    \n",
    "    # REQUIRED: The get_latency function returns the latency of this component.\n",
    "    def leak(self, global_cycle_seconds: float) -> float:\n",
    "        \"\"\" Returns the leakage energy per global cycle or an Estimation object \n",
    "        with the leakage energy and units. \"\"\"\n",
    "        return 1e-3 * global_cycle_seconds # 1mW\n",
    "\n",
    "# Ignore the next line. Moves the plug-in to a script because we're in a\n",
    "# Jupyter notebook.\n",
    "plugin_notebook2script(TernaryMAC, PLUG_IN_SCRIPT) \n",
    "add_estimator_path(PLUG_IN_SCRIPT) # Install plug-in so Accelergy can find it."
   ]
  },
  {
   "cell_type": "markdown",
   "metadata": {},
   "source": [
    "## **Plug-In Essential Pieces**\n",
    "\n",
    "Accelergy plug-ins are identified by inheriting the Estimator class from\n",
    "accelergy.plug_in_interface.estimator. All Estimator classes defined in a\n",
    "module are automatically imported by Accelergy and made available to Accelergy.\n",
    "\n",
    "**The following are the essential pieces for an Accelergy Estimator class:**\n",
    "- The class must inherit from Estimator\n",
    "- The class must have a `name` attribute. `name` can either be a string or a\n",
    "  list of strings. If the `name` attribute matches the `class` of an Accelergy\n",
    "  design component, the plug-in may be used to estimate the area/energy of that\n",
    "  component.\n",
    "- The class must have a `percent_accuracy_0_to_100` attribute. This is a number\n",
    "  between 0 and 100 that tells Accelergy how accurate the plug-in is. It\n",
    "  determines a plug-in's priority when multiple plug-ins are available for a\n",
    "  component.\n",
    "- The class must have a get_area function. This function should return the area\n",
    "  of the component in m$^2$. This function should not have any arguments.\n",
    "- Any number of functions may be decorated with `@actionDynamicEnergy`. These\n",
    "  functions are named the name of an action, and they return the energy of that\n",
    "  action in Joules. These functions may have any number of arguments.\n",
    "\n",
    "Modules with plug-ins can be installed with the add_estimator_path function,\n",
    "which adds a path for Accelergy to search. The remove_estimator_path can remove\n",
    "paths.\n",
    "\n",
    "### Let's see our plug-in estimate the area and energy of the ternary MAC unit"
   ]
  },
  {
   "cell_type": "code",
   "execution_count": null,
   "metadata": {},
   "outputs": [],
   "source": []
  },
  {
   "cell_type": "code",
   "execution_count": 3,
   "metadata": {},
   "outputs": [
    {
     "name": "stdout",
     "output_type": "stream",
     "text": [
      "YAML file to query our new plug-in:\n",
      "\tversion: 0.4\n",
      "\tclasses:\n",
      "\t  - name: custom_mac\n",
      "\t    attributes: {}\n",
      "\t    subcomponents:\n",
      "\t      - name: mac\n",
      "\t        class: ternary_mac\n",
      "\t        attributes:\n",
      "\t            tech_node: 45\n",
      "\t            accum_datawidth: 5\n",
      "\t    actions:\n",
      "\t      - name: mac_random\n",
      "\t        subcomponents:\n",
      "\t          - name: mac\n",
      "\t            actions:\n",
      "\t              - name: mac_random\n",
      "\n",
      "Running Accelergy...\n",
      "\n",
      "Accelergy log from TernaryMAC plug-in:\n",
      "\n"
     ]
    }
   ],
   "source": [
    "TARGET_YAML = os.path.join(CURRENT_DIR, 'creating_first_plug_in/design0.yaml')\n",
    "# Check the YAML file we'll be using to query our new plug-in\n",
    "print('YAML file to query our new plug-in:')\n",
    "print(yaml_section(TARGET_YAML, ['compound_components']))\n",
    "\n",
    "# Run Accelergy to generate the output directory\n",
    "print(f'\\nRunning Accelergy...')\n",
    "!accelergy {TARGET_YAML} -o out_dir > accelergy.log 2>&1\n",
    "\n",
    "# Check the output of Accelergy\n",
    "READ_LOGGED = 'ternary_mac(tech_node=45, accum_datawidth=5)'\n",
    "print(f'\\nAccelergy log from TernaryMAC plug-in:')\n",
    "print(get_log_lines(LOGFILE, READ_LOGGED))"
   ]
  },
  {
   "cell_type": "markdown",
   "metadata": {},
   "source": [
    "## **Area/Energy Estimations**\n",
    "Accelergy will output an Area Reference Table (ART) and Energy Reference Table\n",
    "(ERT) with area/energy breakdowns of the architecture. The estimations from our\n",
    "plug-in, alongside those of other plug-ins, will be used to fill this table.\n",
    "\n",
    "#### **Estimating Area of a Component**\n",
    "The `get_area` function is called on the Estimator instance to get the area of\n",
    "the component. This function should not take any arguments. If the Estimator\n",
    "class can not estimate the area, it should raise an error. This will cause\n",
    "Accelergy to look for another Estimator. Accelergy will report the error if no\n",
    "other Estimator is found.\n",
    "\n",
    "#### **Estimating Energy of an Action**\n",
    "If an Estimator has been instantiated for a component, Accelergy will search for\n",
    "functions decorated with `@actionDynamicEnergy`. If the name of the function\n",
    "matches the name of an action, the function will be used to estimate energy.\n",
    "\n",
    "If the Accelergy design specifies arguments for an action, the arguments will\n",
    "be passed to the function. Extra arguments are ignored, but missing arguments\n",
    "will cause a failed match. If an argument has a default value, the default\n",
    "value will be used if the argument is not specified in the Accelergy design.\n",
    "\n",
    "If the function can not estimate the area, it should raise an error. This will\n",
    "cause Accelergy to look for another Estimator. Accelergy will report the error\n",
    "if no other Estimator is found.\n"
   ]
  },
  {
   "cell_type": "code",
   "execution_count": 4,
   "metadata": {},
   "outputs": [
    {
     "name": "stdout",
     "output_type": "stream",
     "text": [
      "\n",
      "Accelergy ERT with TernaryMAC estimations. Reported numbers in pJ:\n"
     ]
    },
    {
     "ename": "ValueError",
     "evalue": "Error loading YAML file /home/tanner/research/cimloop/infrastructure/timeloop-accelergy-exercises/workspace/exercises/04_creating_accelergy_plug_ins/out_dir/ERT.yaml",
     "output_type": "error",
     "traceback": [
      "\u001b[0;31m---------------------------------------------------------------------------\u001b[0m",
      "\u001b[0;31mFileNotFoundError\u001b[0m                         Traceback (most recent call last)",
      "File \u001b[0;32m~/research/cimloop/venv/lib/python3.12/site-packages/accelergy/utils/yaml.py:354\u001b[0m, in \u001b[0;36mload_yaml\u001b[0;34m(path, data, include_dirs)\u001b[0m\n\u001b[1;32m    353\u001b[0m \u001b[38;5;28;01mtry\u001b[39;00m:\n\u001b[0;32m--> 354\u001b[0m     parsed, data, include_dirs \u001b[38;5;241m=\u001b[39m \u001b[43mload_file_and_includes\u001b[49m\u001b[43m(\u001b[49m\n\u001b[1;32m    355\u001b[0m \u001b[43m        \u001b[49m\u001b[43mpath\u001b[49m\u001b[43m,\u001b[49m\u001b[43m \u001b[49m\u001b[43mdata\u001b[49m\u001b[43m,\u001b[49m\u001b[43m \u001b[49m\u001b[43minclude_dirs\u001b[49m\n\u001b[1;32m    356\u001b[0m \u001b[43m    \u001b[49m\u001b[43m)\u001b[49m\n\u001b[1;32m    357\u001b[0m \u001b[38;5;28;01mexcept\u001b[39;00m \u001b[38;5;167;01mException\u001b[39;00m \u001b[38;5;28;01mas\u001b[39;00m e:\n",
      "File \u001b[0;32m~/research/cimloop/venv/lib/python3.12/site-packages/accelergy/utils/yaml.py:208\u001b[0m, in \u001b[0;36mload_file_and_includes\u001b[0;34m(path, data, include_dirs)\u001b[0m\n\u001b[1;32m    207\u001b[0m \u001b[38;5;28;01mif\u001b[39;00m \u001b[38;5;129;01mnot\u001b[39;00m os\u001b[38;5;241m.\u001b[39mpath\u001b[38;5;241m.\u001b[39mexists(path):\n\u001b[0;32m--> 208\u001b[0m     \u001b[38;5;28;01mraise\u001b[39;00m \u001b[38;5;167;01mFileNotFoundError\u001b[39;00m(\u001b[38;5;124mf\u001b[39m\u001b[38;5;124m\"\u001b[39m\u001b[38;5;124mCould not find file \u001b[39m\u001b[38;5;132;01m{\u001b[39;00mpath\u001b[38;5;132;01m}\u001b[39;00m\u001b[38;5;124m\"\u001b[39m)\n\u001b[1;32m    210\u001b[0m data \u001b[38;5;241m=\u001b[39m data \u001b[38;5;129;01mor\u001b[39;00m {}\n",
      "\u001b[0;31mFileNotFoundError\u001b[0m: Could not find file /home/tanner/research/cimloop/infrastructure/timeloop-accelergy-exercises/workspace/exercises/04_creating_accelergy_plug_ins/out_dir/ERT.yaml",
      "\nThe above exception was the direct cause of the following exception:\n",
      "\u001b[0;31mValueError\u001b[0m                                Traceback (most recent call last)",
      "Cell \u001b[0;32mIn[4], line 3\u001b[0m\n\u001b[1;32m      1\u001b[0m \u001b[38;5;66;03m# Find the estimations in the output ERT\u001b[39;00m\n\u001b[1;32m      2\u001b[0m \u001b[38;5;28mprint\u001b[39m(\u001b[38;5;124mf\u001b[39m\u001b[38;5;124m'\u001b[39m\u001b[38;5;130;01m\\n\u001b[39;00m\u001b[38;5;124mAccelergy ERT with TernaryMAC estimations. Reported numbers in pJ:\u001b[39m\u001b[38;5;124m'\u001b[39m)\n\u001b[0;32m----> 3\u001b[0m \u001b[38;5;28mprint\u001b[39m(\u001b[43myaml_section\u001b[49m\u001b[43m(\u001b[49m\u001b[38;5;124;43m'\u001b[39;49m\u001b[38;5;124;43m./out_dir/ERT.yaml\u001b[39;49m\u001b[38;5;124;43m'\u001b[39;49m\u001b[43m,\u001b[49m\u001b[43m \u001b[49m\u001b[43m[\u001b[49m\u001b[38;5;124;43m'\u001b[39;49m\u001b[38;5;124;43mERT\u001b[39;49m\u001b[38;5;124;43m'\u001b[39;49m\u001b[43m,\u001b[49m\u001b[43m \u001b[49m\u001b[38;5;124;43m'\u001b[39;49m\u001b[38;5;124;43mtables\u001b[39;49m\u001b[38;5;124;43m'\u001b[39;49m\u001b[43m,\u001b[49m\u001b[43m \u001b[49m\u001b[38;5;241;43m-\u001b[39;49m\u001b[38;5;241;43m1\u001b[39;49m\u001b[43m]\u001b[49m\u001b[43m)\u001b[49m)\n\u001b[1;32m      4\u001b[0m \u001b[38;5;28mprint\u001b[39m(\u001b[38;5;124mf\u001b[39m\u001b[38;5;124m'\u001b[39m\u001b[38;5;130;01m\\n\u001b[39;00m\u001b[38;5;124mAccelergy ART with TernaryMAC estimations. Reported numbers in um$^2$:\u001b[39m\u001b[38;5;124m'\u001b[39m)\n\u001b[1;32m      5\u001b[0m \u001b[38;5;28mprint\u001b[39m(yaml_section(\u001b[38;5;124m'\u001b[39m\u001b[38;5;124m./out_dir/ART.yaml\u001b[39m\u001b[38;5;124m'\u001b[39m, [\u001b[38;5;124m'\u001b[39m\u001b[38;5;124mART\u001b[39m\u001b[38;5;124m'\u001b[39m, \u001b[38;5;124m'\u001b[39m\u001b[38;5;124mtables\u001b[39m\u001b[38;5;124m'\u001b[39m, \u001b[38;5;241m-\u001b[39m\u001b[38;5;241m1\u001b[39m]))\n",
      "File \u001b[0;32m~/research/cimloop/infrastructure/timeloop-accelergy-exercises/workspace/exercises/04_creating_accelergy_plug_ins/creating_first_plug_in/helper_functions.py:58\u001b[0m, in \u001b[0;36myaml_section\u001b[0;34m(file, keys, only_include_base_keys)\u001b[0m\n\u001b[1;32m     50\u001b[0m \u001b[38;5;28;01mdef\u001b[39;00m \u001b[38;5;21myaml_section\u001b[39m(\n\u001b[1;32m     51\u001b[0m     file: \u001b[38;5;28mstr\u001b[39m, keys: List[\u001b[38;5;28mstr\u001b[39m] \u001b[38;5;241m=\u001b[39m (), only_include_base_keys: List[\u001b[38;5;28mstr\u001b[39m] \u001b[38;5;241m=\u001b[39m ()\n\u001b[1;32m     52\u001b[0m ) \u001b[38;5;241m-\u001b[39m\u001b[38;5;241m>\u001b[39m \u001b[38;5;28mstr\u001b[39m:\n\u001b[1;32m     53\u001b[0m \u001b[38;5;250m    \u001b[39m\u001b[38;5;124;03m\"\"\"\u001b[39;00m\n\u001b[1;32m     54\u001b[0m \u001b[38;5;124;03m    Prints a section of a YAML file. This is a helper function to make it\u001b[39;00m\n\u001b[1;32m     55\u001b[0m \u001b[38;5;124;03m    easier to see the contents of the YAML files we'll be using in this\u001b[39;00m\n\u001b[1;32m     56\u001b[0m \u001b[38;5;124;03m    tutorial.\u001b[39;00m\n\u001b[1;32m     57\u001b[0m \u001b[38;5;124;03m    \"\"\"\u001b[39;00m\n\u001b[0;32m---> 58\u001b[0m     content \u001b[38;5;241m=\u001b[39m \u001b[43myaml\u001b[49m\u001b[38;5;241;43m.\u001b[39;49m\u001b[43mload_yaml\u001b[49m\u001b[43m(\u001b[49m\u001b[43mfile\u001b[49m\u001b[43m)\u001b[49m\n\u001b[1;32m     59\u001b[0m     \u001b[38;5;28;01mfor\u001b[39;00m key \u001b[38;5;129;01min\u001b[39;00m keys:\n\u001b[1;32m     60\u001b[0m         content \u001b[38;5;241m=\u001b[39m content[key] \u001b[38;5;28;01mif\u001b[39;00m key \u001b[38;5;241m!=\u001b[39m \u001b[38;5;124m\"\u001b[39m\u001b[38;5;124msubtree\u001b[39m\u001b[38;5;124m\"\u001b[39m \u001b[38;5;28;01melse\u001b[39;00m content[key][\u001b[38;5;241m0\u001b[39m]\n",
      "File \u001b[0;32m~/research/cimloop/venv/lib/python3.12/site-packages/accelergy/utils/yaml.py:358\u001b[0m, in \u001b[0;36mload_yaml\u001b[0;34m(path, data, include_dirs)\u001b[0m\n\u001b[1;32m    354\u001b[0m     parsed, data, include_dirs \u001b[38;5;241m=\u001b[39m load_file_and_includes(\n\u001b[1;32m    355\u001b[0m         path, data, include_dirs\n\u001b[1;32m    356\u001b[0m     )\n\u001b[1;32m    357\u001b[0m \u001b[38;5;28;01mexcept\u001b[39;00m \u001b[38;5;167;01mException\u001b[39;00m \u001b[38;5;28;01mas\u001b[39;00m e:\n\u001b[0;32m--> 358\u001b[0m     \u001b[38;5;28;01mraise\u001b[39;00m \u001b[38;5;167;01mValueError\u001b[39;00m(\u001b[38;5;124mf\u001b[39m\u001b[38;5;124m\"\u001b[39m\u001b[38;5;124mError loading YAML file \u001b[39m\u001b[38;5;132;01m{\u001b[39;00mpath\u001b[38;5;132;01m}\u001b[39;00m\u001b[38;5;124m\"\u001b[39m) \u001b[38;5;28;01mfrom\u001b[39;00m \u001b[38;5;21;01me\u001b[39;00m\n\u001b[1;32m    359\u001b[0m \u001b[38;5;28;01mtry\u001b[39;00m:\n\u001b[1;32m    360\u001b[0m     result \u001b[38;5;241m=\u001b[39m merge_check(get_yaml(path, data)\u001b[38;5;241m.\u001b[39mload(parsed))\n",
      "\u001b[0;31mValueError\u001b[0m: Error loading YAML file /home/tanner/research/cimloop/infrastructure/timeloop-accelergy-exercises/workspace/exercises/04_creating_accelergy_plug_ins/out_dir/ERT.yaml"
     ]
    }
   ],
   "source": [
    "# Find the estimations in the output ERT\n",
    "print(f'\\nAccelergy ERT with TernaryMAC estimations. Reported numbers in pJ:')\n",
    "print(yaml_section('./out_dir/ERT.yaml', ['ERT', 'tables', -1]))\n",
    "print(f'\\nAccelergy ART with TernaryMAC estimations. Reported numbers in um$^2$:')\n",
    "print(yaml_section('./out_dir/ART.yaml', ['ART', 'tables', -1]))"
   ]
  },
  {
   "cell_type": "markdown",
   "metadata": {},
   "source": [
    "## **Instantiating Plug-Ins**\n",
    "When Accelergy parses architectures, it will generate a list of components and\n",
    "attributes. Additionally, each component will have associated actions.\n",
    "Accelergy searches for the plug-in with the highest accuracy to estimate the\n",
    "area of each component and the energy of each action.\n",
    "\n",
    "An instance the Estimator class is created for a component if the following\n",
    "conditions are met:\n",
    "- The `class` attribute of the component matches the `name` attribute of the\n",
    "  Estimator class\n",
    "- The attributes of the component match the arguments of the Estimator class's\n",
    "  \\_\\_init\\_\\_ function. Extra attributes are ignored, but missing attributes\n",
    "  will cause a failed match.\n",
    "- This is the highest-accuracy matching Estimator available to Accelergy.\n",
    "\n",
    "Let's try putting together a few plug-ins and see which ones Accelergy picks.\n",
    "We'll set up two plug-ins:\n",
    "- The AccurateButPicky Estimator has a very high accuracy, but only supports\n",
    "  signed operands for its MAC operation. It also does not have a reset\n",
    "  operation.\n",
    "- The InaccurateFlexible Estimator has a lower accuracy, but supports both\n",
    "  signed and unsigned operands. It also has a reset operation with an optional\n",
    "  argument make_expensive that makes the reset operation *very*\n",
    "  energy-intensive."
   ]
  },
  {
   "cell_type": "code",
   "execution_count": null,
   "metadata": {},
   "outputs": [],
   "source": [
    "class AccurateButPicky(Estimator):\n",
    "    name = 'ternary_mac'\n",
    "    percent_accuracy_0_to_100 = 99 # This plug-in is VERY confident\n",
    "\n",
    "    def __init__(self, accum_datawidth: int, tech_node: int):\n",
    "        self.accum_datawidth = accum_datawidth\n",
    "        self.tech_node = tech_node\n",
    "\n",
    "    @actionDynamicEnergy\n",
    "    def mac_random(self, unsigned: bool) -> float:\n",
    "        assert not unsigned, 'Sorry, I only support signed operands.'\n",
    "        return 0.002e-12 * (self.accum_datawidth + 0.25) * self.tech_node**1.1\n",
    "\n",
    "    def get_area(self) -> float:\n",
    "        return 2e-12 * (self.accum_datawidth + 0.3) * self.tech_node**1.3\n",
    "\n",
    "    def leak(self, global_cycle_seconds: float) -> float:\n",
    "        return 1e-3 * global_cycle_seconds # 1mW\n",
    "\n",
    "class InacurrateFlexible(Estimator):\n",
    "    name = 'ternary_mac'\n",
    "    percent_accuracy_0_to_100 = 50 # This plug-in is not very confident\n",
    "\n",
    "    def __init__(self, accum_datawidth: int, tech_node: int):\n",
    "        self.accum_datawidth = accum_datawidth\n",
    "        self.tech_node = tech_node\n",
    "\n",
    "    @actionDynamicEnergy\n",
    "    def mac_random(self, unsigned: bool) -> float:\n",
    "        energy = 0.002e-12 * (self.accum_datawidth + 0.25) * \\\n",
    "                 self.tech_node**1.1\n",
    "        if unsigned:\n",
    "            self.logger.info('Unsigned mac_random consuming half the energy.')\n",
    "            energy /= 2\n",
    "        return energy\n",
    "    \n",
    "    @actionDynamicEnergy\n",
    "    def reset(self, make_expensive: bool=False) -> float:\n",
    "        if make_expensive:\n",
    "            self.logger.info('InacurrateFlexible reset is expensive! '\n",
    "                             'Returning a high energy.')\n",
    "            return 1 # 1 Joule\n",
    "        return 2e-12 * self.tech_node ** 1.1\n",
    "    \n",
    "    def get_area(self) -> float:\n",
    "        return 2 * (self.accum_datawidth + 0.3) * self.tech_node ** 1.3 * 1e-12\n",
    "\n",
    "    def leak(self, global_cycle_seconds: float) -> float:\n",
    "        return 1e-3 * global_cycle_seconds # 1mW\n",
    "\n",
    "# Ignore this line. Moves the plug-in to the script.\n",
    "plugin_notebook2script([AccurateButPicky, InacurrateFlexible], PLUG_IN_SCRIPT)\n"
   ]
  },
  {
   "cell_type": "markdown",
   "metadata": {},
   "source": [
    "## **Plug-In Precedence and Function Calling Example**\n",
    "A new compound component is set up to query our two plug-ins. It has four\n",
    "actions:\n",
    "- mac_random_to_accurate_picky: This component+action is set up to fit the\n",
    "  AccurateButPicky Estimator.\n",
    "- mac_random_to_inaccurate_flexible: Accelergy first asks the AccurateButPicky\n",
    "  estimator, but the picky estimator raises an error. Accelergy queries the\n",
    "  InaccurateFlexible estimator.\n",
    "- reset_inexpensive_default_argument: Only the InaccurateFlexible estimator has\n",
    "  a reset action. The estimator has a make_expensive argument with a default of\n",
    "  0. The make_expensive argument is not specified in the YAML so is set to its\n",
    "  default of 0.\n",
    "- reset_expensive_specified_argument: The make_expensive argument is specified\n",
    "  in the YAML and overrides the default value from the InaccurateFlexible\n",
    "  Estimator. Reset is very expensive indeed."
   ]
  },
  {
   "cell_type": "code",
   "execution_count": null,
   "metadata": {},
   "outputs": [],
   "source": [
    "TARGET_YAML = os.path.join(CURRENT_DIR, 'creating_first_plug_in/design1.yaml')\n",
    "\n",
    "# Check the YAML file we'll be using to query our new plug-in\n",
    "print('YAML file to query our new plug-in:')\n",
    "print(yaml_section(TARGET_YAML, ['compound_components']))\n",
    "\n",
    "# Run Accelergy to generate the output directory\n",
    "print(f'\\nRunning Accelergy...')\n",
    "!accelergy {TARGET_YAML} -v -o out_dir > accelergy.log 2>&1\n",
    "\n",
    "# Find the estimations in the output ERT\n",
    "print(f'\\nAccelergy ERT with TernaryMAC estimations. Reported numbers in pJ:')\n",
    "print(yaml_section('./out_dir/ERT_summary_verbose.yaml', \n",
    "                   ['ERT_summary', 'table_summary', -1, 'primitive_estimation(s)'], \n",
    "                   ['name', 'action_name', 'arguments', 'energy', 'estimator']))"
   ]
  },
  {
   "cell_type": "markdown",
   "metadata": {},
   "source": [
    "## **Interpreting Estimator Logs**\n",
    "Estimator classes communicate with the user in two ways:\n",
    "- If an estimator class can not be instantiated or can not estimate something,\n",
    "  it should raise an error. The error message is shown in the Accelergy log\n",
    "  file if no other Estimator can be found.\n",
    "- Each Estimator class has a logger attribute. This is a Python logger that\n",
    "  includes info(message), warning(message), and error(message) functions. If an\n",
    "  estimator is used to estimate something, the logger's messages are shown in\n",
    "  the Accelergy log file depending on the verbosity level.\n",
    "\n",
    "By peeking at Accelergy's output, we can see the procedure by which Accelergy\n",
    "finds estimators. Let's see what Accelergy tells us about the\n",
    "ternary_mac.mac_random(unsigned=1) action:\n",
    "1. Accelergy found that both the InacurrateFlexible and AccurateButPicky\n",
    "   estimators have a matching name and action mac_random(unsigned).\n",
    "2. Accelergy asks the higher-accuracy plug-in AccurateButPicky to estimate the\n",
    "   energy.\n",
    "3. The AccurateButPicky plug-in raises an error because the unsigned argument\n",
    "   is not False.\n",
    "4. Accelergy asks the lower-accuracy plug-in InacurrateFlexible to estimate the\n",
    "   energy.\n",
    "5. The InacurrateFlexible plug-in estimates the energy and returns it to\n",
    "   Accelergy.\n",
    "\n",
    "Generally, Accelergy will report logs from the plug-in used to estimate\n",
    "energy/area. It will also report errors if a plug-in tried to estimate\n",
    "energy/area but failed. To see the logs from all installed plug-ins, we can run\n",
    "Accelergy with the -v flag. This will cause Accelergy to print the reason why\n",
    "each and every plug-in was or was not used to estimate energy/area."
   ]
  },
  {
   "cell_type": "code",
   "execution_count": null,
   "metadata": {},
   "outputs": [],
   "source": [
    "READ_LOGGED = ['ENERGY ESTIMATION', 'ternary_mac', 'mac_random']\n",
    "\n",
    "print(f'Running Accelergy with standard logging...')\n",
    "!accelergy {TARGET_YAML} -o out_dir > accelergy.log 2>&1\n",
    "print(get_log_lines(LOGFILE, READ_LOGGED))\n",
    "\n",
    "print(f'\\n\\nRunning Accelergy with verbose logging...')\n",
    "!accelergy {TARGET_YAML} -v -o out_dir > accelergy.log 2>&1\n",
    "print(get_log_lines(LOGFILE, READ_LOGGED))"
   ]
  },
  {
   "cell_type": "markdown",
   "metadata": {},
   "source": [
    "## **Cleaning Up**\n",
    "We're all done! Let's uninstall the plug-in and create a template for future plug-ins."
   ]
  },
  {
   "cell_type": "code",
   "execution_count": null,
   "metadata": {},
   "outputs": [],
   "source": [
    "remove_estimator_path(PLUG_IN_SCRIPT)"
   ]
  },
  {
   "cell_type": "markdown",
   "metadata": {},
   "source": [
    "## **Template for Future Plug-Ins**\n"
   ]
  },
  {
   "cell_type": "code",
   "execution_count": null,
   "metadata": {},
   "outputs": [],
   "source": [
    "import os\n",
    "from accelergy.plug_in_interface.estimator import (\n",
    "    Estimator, actionDynamicEnergy, add_estimator_path, remove_estimator_path\n",
    ")\n",
    "\n",
    "class PlugInTemplate(Estimator):\n",
    "    name = 'component_name or list of names'\n",
    "    percent_accuracy_0_to_100 = 50\n",
    "\n",
    "    def __init__(self, arg0: int, arg1: int=5):\n",
    "        self.logger.info('The __init__ function is called if the name and '\n",
    "                         'required arguments match.')\n",
    "        assert arg0 > 0, 'Raise an error if the arguments are not valid.'\n",
    "        self.arg0, self.arg1 = arg0, arg1\n",
    "\n",
    "    @actionDynamicEnergy\n",
    "    def action(self, arg0: int, arg1: int=5) -> float:\n",
    "        self.logger.info('@actionDynamicEnergy can decorate any number of actions.')\n",
    "        assert arg1 > 0, 'Raise an error if we can not estimate the energy.'\n",
    "        return arg0 * arg1 * 1e-12 # Return energy in Joules\n",
    "\n",
    "    def get_area(self) -> float:\n",
    "        self.logger.info('The get_area function is required.')\n",
    "        assert self.arg1 > 0, 'Raise an error if we can not estimate the area.'\n",
    "        return self.arg0 * self.arg1 * 1e-12 # Return area in m$^2$\n",
    "\n",
    "    @staticmethod\n",
    "    def install_this_file():\n",
    "        add_estimator_path(os.path.abspath(__file__))\n",
    "\n",
    "    @staticmethod\n",
    "    def uninstall_this_file():\n",
    "        remove_estimator_path(os.path.abspath(__file__))\n",
    "\n",
    "\n",
    "print(f'Thank you for completing the tutorial!')"
   ]
  }
 ],
 "metadata": {
  "kernelspec": {
   "display_name": "venv",
   "language": "python",
   "name": "python3"
  },
  "language_info": {
   "codemirror_mode": {
    "name": "ipython",
    "version": 3
   },
   "file_extension": ".py",
   "mimetype": "text/x-python",
   "name": "python",
   "nbconvert_exporter": "python",
   "pygments_lexer": "ipython3",
   "version": "3.12.1"
  },
  "pycharm": {
   "stem_cell": {
    "cell_type": "raw",
    "metadata": {
     "collapsed": false
    },
    "source": []
   }
  }
 },
 "nbformat": 4,
 "nbformat_minor": 2
}
