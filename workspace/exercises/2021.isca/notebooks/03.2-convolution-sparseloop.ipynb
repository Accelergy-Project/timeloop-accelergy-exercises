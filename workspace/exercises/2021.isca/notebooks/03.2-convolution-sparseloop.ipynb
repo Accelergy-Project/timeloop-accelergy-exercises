{
 "cells": [
  {
   "cell_type": "markdown",
   "metadata": {},
   "source": [
    "# Convolution\n"
   ]
  },
  {
   "cell_type": "markdown",
   "metadata": {},
   "source": [
    "## Exercise 03.2.1 1D Convolution\n",
    "\n",
    "$$ O_{q} = I_{(q+s)} \\times F_{s} $$\n",
    "\n",
    "<img align=\"center\" src=\"figures/03.2.1.conv1d_setup.png\" alt=\"conv1d_setup\" style=\"width:90%\">\n",
    "\n",
    "\n",
    "### Understanding the Inputs: Workload Specification\n"
   ]
  },
  {
   "cell_type": "code",
   "execution_count": null,
   "metadata": {},
   "outputs": [],
   "source": [
    "%%bash\n",
    "cd ../designs/03.2.1-conv1d/\n",
    "cat prob/*.yaml"
   ]
  },
  {
   "cell_type": "markdown",
   "metadata": {},
   "source": [
    "### Understanding Inputs: Architecture Specification"
   ]
  },
  {
   "cell_type": "code",
   "execution_count": null,
   "metadata": {},
   "outputs": [],
   "source": [
    "%%bash\n",
    "cd ../designs/03.2.1-conv1d/\n",
    "cat arch/*.yaml"
   ]
  },
  {
   "cell_type": "markdown",
   "metadata": {},
   "source": [
    "### Understanding the Inputs: Mapping Specification"
   ]
  },
  {
   "cell_type": "code",
   "execution_count": null,
   "metadata": {
    "scrolled": false
   },
   "outputs": [],
   "source": [
    "%%bash\n",
    "cd ../designs/03.2.1-conv1d/\n",
    "cat map/*.yaml"
   ]
  },
  {
   "cell_type": "markdown",
   "metadata": {},
   "source": [
    "### Understanding the Inputs: Sparse Optimziation Specification\n",
    "- Compressed representation format for Weights. Note we use run length encoding (RLE) this time.\n",
    "- Skip Inputs and Outputs based on Weights"
   ]
  },
  {
   "cell_type": "code",
   "execution_count": null,
   "metadata": {
    "scrolled": false
   },
   "outputs": [],
   "source": [
    "%%bash\n",
    "cd ../designs/03.2.1-conv1d/\n",
    "cat sparse-opt/*.yaml"
   ]
  },
  {
   "cell_type": "markdown",
   "metadata": {},
   "source": [
    "### Run Example"
   ]
  },
  {
   "cell_type": "code",
   "execution_count": null,
   "metadata": {},
   "outputs": [],
   "source": [
    "%%bash\n",
    "cd ../designs/03.2.1-conv1d/ \n",
    "timeloop-model arch/*.yaml components/* map/*.yaml prob/*.yaml sparse-opt/*.yaml -o output/"
   ]
  },
  {
   "cell_type": "markdown",
   "metadata": {},
   "source": [
    "### Examine Important Stats\n",
    "- Only Weights data has associated metadata (and thus the savings and overhead brought by metadata).\n",
    "- Inputs and Outputs are skipped according to Weight's sparsity.\n",
    "- Reduced number of computes due to skipping at the `Buffer`.\n",
    "- Overall similar behaviors compared to what we saw for the similar dot product example."
   ]
  },
  {
   "cell_type": "code",
   "execution_count": null,
   "metadata": {},
   "outputs": [],
   "source": [
    "%%bash\n",
    "chmod 755 ../scripts/03.2-conv-aggregated-stats.sh\n",
    "cd ../designs/03.2.1-conv1d/output/\n",
    "../../../scripts/03.2-conv-aggregated-stats.sh"
   ]
  },
  {
   "cell_type": "markdown",
   "metadata": {},
   "source": [
    "## Conv1D with Output Channels\n",
    "\n",
    "\n",
    "$$ O_{m,q} = I_{(q+s)} \\times F_{m,s} $$\n",
    "\n",
    "## Exercise 03.2.2 conv1D + Outputs Channels\n",
    "\n",
    "### Understanding the Inputs: Workload Specification"
   ]
  },
  {
   "cell_type": "code",
   "execution_count": null,
   "metadata": {},
   "outputs": [],
   "source": [
    "%%bash\n",
    "cd ../designs/03.2.2-conv1d+oc/\n",
    "cat prob/*.yaml"
   ]
  },
  {
   "cell_type": "markdown",
   "metadata": {},
   "source": [
    "### Understanding the Inputs: Mapping Specification for New Workload\n"
   ]
  },
  {
   "cell_type": "code",
   "execution_count": null,
   "metadata": {},
   "outputs": [],
   "source": [
    "%%bash\n",
    "cd ../designs/03.2.2-conv1d+oc/\n",
    "cat map/*.yaml"
   ]
  },
  {
   "cell_type": "markdown",
   "metadata": {},
   "source": [
    "### Understanding the Inputs: Sparse Optimization Specification\n",
    "The extra output channel dimension introduces an extra rank in data representation."
   ]
  },
  {
   "cell_type": "code",
   "execution_count": null,
   "metadata": {},
   "outputs": [],
   "source": [
    "%%bash\n",
    "cd ../designs/03.2.2-conv1d+oc/\n",
    "cat sparse-opt/*.yaml"
   ]
  },
  {
   "cell_type": "markdown",
   "metadata": {},
   "source": [
    "### Run Example"
   ]
  },
  {
   "cell_type": "code",
   "execution_count": null,
   "metadata": {
    "scrolled": true
   },
   "outputs": [],
   "source": [
    "%%bash\n",
    "cd ../designs/03.2.2-conv1d+oc/\n",
    "timeloop-model arch/*.yaml components/* map/*.yaml prob/*.yaml sparse-opt/*.yaml -o output/"
   ]
  },
  {
   "cell_type": "markdown",
   "metadata": {},
   "source": [
    "## Exercise 03.2.3 Conv1D + Output Channels- Spatial Tiling\n",
    "\n",
    "### Understanding the Inputs: Architecture Specification\n",
    "\n",
    "- Spatial fanout of the PEs for parallel processing\n",
    "- Reduced the per-PE buffer size\n",
    "\n",
    "<img align=\"center\" src=\"figures/03.2.3.spatial_arch.png\" alt=\"figures/03.2.3.spatial_arch.png\" style=\"width:60%\">"
   ]
  },
  {
   "cell_type": "code",
   "execution_count": null,
   "metadata": {},
   "outputs": [],
   "source": [
    "%%bash\n",
    "cd ../designs/03.2.3-conv1d+oc-spatial/\n",
    "cat arch/*.yaml"
   ]
  },
  {
   "cell_type": "markdown",
   "metadata": {},
   "source": [
    "### Understanding the Inputs: Mapping Specification"
   ]
  },
  {
   "cell_type": "code",
   "execution_count": null,
   "metadata": {},
   "outputs": [],
   "source": [
    "%%bash\n",
    "cd ../designs/03.2.3-conv1d+oc-spatial/\n",
    "cat map/*.yaml"
   ]
  },
  {
   "cell_type": "markdown",
   "metadata": {},
   "source": [
    "### Understanding the Inputs: Sparse Optimization Specification\n",
    "\n",
    "Because of the spatial tiling, we need to pretile the tensor before sending it out for processing. We now have more ranks for Filter."
   ]
  },
  {
   "cell_type": "code",
   "execution_count": null,
   "metadata": {},
   "outputs": [],
   "source": [
    "%%bash\n",
    "cd ../designs/03.2.3-conv1d+oc-spatial/\n",
    "cat sparse-opt/*.yaml"
   ]
  },
  {
   "cell_type": "markdown",
   "metadata": {},
   "source": [
    "### Run Example"
   ]
  },
  {
   "cell_type": "code",
   "execution_count": null,
   "metadata": {},
   "outputs": [],
   "source": [
    "%%bash\n",
    "cd ../designs/03.2.3-conv1d+oc-spatial/\n",
    "timeloop-model arch/*.yaml components/* map/*.yaml prob/*.yaml sparse-opt/*.yaml -o output/"
   ]
  },
  {
   "cell_type": "markdown",
   "metadata": {},
   "source": [
    "### Examine Important Stats\n",
    "- Pretiling overhead incurred by the temporal and spatial tiling.\n",
    "- Reduced tile size stored in `Buffer`.\n",
    "- Similar savings from explicit skipping as above."
   ]
  },
  {
   "cell_type": "code",
   "execution_count": null,
   "metadata": {},
   "outputs": [],
   "source": [
    "%%bash\n",
    "chmod 755 ../scripts/03.2-conv-aggregated-stats.sh\n",
    "cd ../designs/03.2.3-conv1d+oc-spatial/output/\n",
    "../../../scripts/03.2-conv-aggregated-stats.sh"
   ]
  },
  {
   "cell_type": "markdown",
   "metadata": {},
   "source": [
    "### Compare Untiled Example and  Tiled Example\n",
    "\n",
    "- Untiled exampled consumes more energy and has a slower processing speed\n",
    "- Spatially tiled example consumes more area but has lower energy consumption and faster processing speed"
   ]
  },
  {
   "cell_type": "code",
   "execution_count": null,
   "metadata": {},
   "outputs": [],
   "source": [
    "%%bash\n",
    "echo \"========================================\"\n",
    "echo \"             Untiled Example            \"\n",
    "echo \"========================================\"\n",
    "chmod 755 ../scripts/03.2-conv-summary-stats.sh\n",
    "cd ../designs/03.2.2-conv1d+oc/output/\n",
    "../../../scripts/03.2-conv-summary-stats.sh\n",
    "\n",
    "echo \"========================================\"\n",
    "echo \"         Tiled Example        \"\n",
    "echo \"========================================\"\n",
    "cd ../../03.2.3-conv1d+oc-spatial/output/\n",
    "../../../scripts/03.2-conv-summary-stats.sh"
   ]
  }
 ],
 "metadata": {
  "kernelspec": {
   "display_name": "Python 3",
   "language": "python",
   "name": "python3"
  },
  "language_info": {
   "codemirror_mode": {
    "name": "ipython",
    "version": 3
   },
   "file_extension": ".py",
   "mimetype": "text/x-python",
   "name": "python",
   "nbconvert_exporter": "python",
   "pygments_lexer": "ipython3",
   "version": "3.8.8"
  },
  "pycharm": {
   "stem_cell": {
    "cell_type": "raw",
    "metadata": {
     "collapsed": false
    },
    "source": []
   }
  }
 },
 "nbformat": 4,
 "nbformat_minor": 2
}
