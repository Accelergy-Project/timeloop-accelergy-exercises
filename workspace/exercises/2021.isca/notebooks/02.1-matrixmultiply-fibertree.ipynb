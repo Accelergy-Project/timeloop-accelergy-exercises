{
 "cells": [
  {
   "cell_type": "markdown",
   "metadata": {
    "slideshow": {
     "slide_type": "-"
    }
   },
   "source": [
    "# Sparseloop Tutorial\n",
    "\n",
    "\n",
    "First, include some libraries"
   ]
  },
  {
   "cell_type": "code",
   "execution_count": null,
   "metadata": {
    "slideshow": {
     "slide_type": "-"
    }
   },
   "outputs": [],
   "source": [
    "# Run boilerplate code to set up environment\n",
    "\n",
    "%run ./prelude.py --style=tree --animation=movie"
   ]
  },
  {
   "cell_type": "markdown",
   "metadata": {},
   "source": [
    "# Matrix Multiply"
   ]
  },
  {
   "cell_type": "markdown",
   "metadata": {},
   "source": [
    "## Traverse a rank-2 tensor (dense, sparse)"
   ]
  },
  {
   "cell_type": "markdown",
   "metadata": {},
   "source": [
    "## Configure rank-2 tensors"
   ]
  },
  {
   "cell_type": "code",
   "execution_count": null,
   "metadata": {},
   "outputs": [],
   "source": [
    "K = 8\n",
    "M = 6\n",
    "N = 6\n",
    "\n",
    "tm2 = TensorMaker(\"sparseloop-matrix-multiply\", autoload=True)\n",
    "\n",
    "tm2.addTensor(\"A\", rank_ids=[\"M\", \"K\"], shape=[M, K], density=0.4, color=\"blue\")\n",
    "tm2.addTensor(\"B\", rank_ids=[\"K\", \"N\"], shape=[K, N], density=0.5, color=\"green\")\n",
    "\n",
    "tm2.displayControls()\n"
   ]
  },
  {
   "cell_type": "markdown",
   "metadata": {},
   "source": [
    "## Create and display rank-2 tensors"
   ]
  },
  {
   "cell_type": "code",
   "execution_count": null,
   "metadata": {},
   "outputs": [],
   "source": [
    "A_MK = tm2.makeTensor(\"A\")\n",
    "B_KN = tm2.makeTensor(\"B\")\n",
    "\n",
    "displayTensor(A_MK)\n",
    "displayTensor(B_KN)"
   ]
  },
  {
   "cell_type": "markdown",
   "metadata": {},
   "source": [
    "# Traverse a rank-2 tensor"
   ]
  },
  {
   "cell_type": "code",
   "execution_count": null,
   "metadata": {},
   "outputs": [],
   "source": [
    "#\n",
    "# Create a rank-2 tensor\n",
    "#\n",
    "A_MK = tm2.makeTensor(\"A\")\n",
    "\n",
    "#\n",
    "# Get root of tensor\n",
    "#\n",
    "a_m = A_MK.getRoot()\n",
    "\n",
    "#\n",
    "# Animation bookkeeeping\n",
    "#\n",
    "canvas = createCanvas(A_MK)\n",
    "\n",
    "cycle = 0\n",
    "\n",
    "#\n",
    "# Traverse non-empty elements of top rank\n",
    "#\n",
    "for m, a_k in a_m:\n",
    "    #\n",
    "    # Traverse non-empty element of bottom rank\n",
    "    #\n",
    "    for k, a_val in a_k:\n",
    "        \n",
    "        print(f\"{a_val} \", end='')\n",
    "            \n",
    "        #\n",
    "        # Animation bookkeeping\n",
    "        #\n",
    "        canvas.addActivity((m,k), spacetime=(0,cycle))\n",
    "        cycle += 1\n",
    "            \n",
    "displayCanvas(canvas)"
   ]
  },
  {
   "cell_type": "markdown",
   "metadata": {},
   "source": [
    "# Matrix multiply\n",
    "\n",
    "$$ Z_{m,n} = A_{m,k} \\times B_{k,n} $$"
   ]
  },
  {
   "cell_type": "code",
   "execution_count": null,
   "metadata": {
    "scrolled": false
   },
   "outputs": [],
   "source": [
    "#\n",
    "# Create tensors\n",
    "#\n",
    "A_MK = tm2.makeTensor(\"A\")\n",
    "B_KN = tm2.makeTensor(\"B\")\n",
    "\n",
    "M = A_MK.getShape(\"M\")\n",
    "K = A_MK.getShape(\"K\")\n",
    "N = B_KN.getShape(\"N\")\n",
    "\n",
    "Z_MN = Tensor(name=\"Z\", rank_ids=[\"M\", \"N\"], shape=[M, N])\n",
    "\n",
    "uncompressTensor(Z_MN)\n",
    "\n",
    "#\n",
    "# Display the tensors\n",
    "#\n",
    "print(f\"M: {M}\")\n",
    "print(f\"K: {K}\")\n",
    "print(f\"N: {N}\")\n",
    "\n",
    "displayTensor(A_MK)\n",
    "displayTensor(B_KN)\n",
    "displayTensor(Z_MN)\n",
    "\n",
    "#\n",
    "# Get the root fibers of each tensor\n",
    "#\n",
    "a_m = A_MK.getRoot()\n",
    "b_k = B_KN.getRoot()\n",
    "z_m = Z_MN.getRoot()\n",
    "\n",
    "#\n",
    "# Animation bookkeeping\n",
    "#\n",
    "canvas = createCanvas(A_MK, B_KN, Z_MN)\n",
    "\n",
    "cycle = 0\n",
    "\n",
    "#\n",
    "# Traverse non-empty elements of top rank of `A`\n",
    "# creating the corresponding output fiber in `Z`\n",
    "#\n",
    "for m, a_k in a_m:\n",
    "    #\n",
    "    # Traverse the K rank of `A` and `B` with matchings coordinates\n",
    "    #\n",
    "    for k, a_val in a_k:\n",
    "        #\n",
    "        # Obtain the matching fiber in `B`\n",
    "        #\n",
    "        b_n = b_k.getPayload(k)\n",
    "        \n",
    "        #\n",
    "        # Traverse the bottom rank of `B`\n",
    "        # creating an cooresponding output value in the bottom rank of `Z`\n",
    "        #\n",
    "        for n, b_val in b_n:\n",
    "            #\n",
    "            # Do the reduction\n",
    "            #\n",
    "            z_m[m][n] += a_val * b_val\n",
    "            \n",
    "            #\n",
    "            # Animation bookkeeping\n",
    "            #\n",
    "            canvas.addActivity((m,k), (k,n), (m, n), spacetime=(0,cycle))\n",
    "            cycle += 1\n",
    "            \n",
    "displayTensor(Z_MN)\n",
    "displayCanvas(canvas)"
   ]
  },
  {
   "cell_type": "markdown",
   "metadata": {},
   "source": [
    "# Tiled Matrix Multiply\n",
    "\n",
    "$$ Z_{n1,m,n0} = A_{m,k} \\times B_{n1,k,n0}$$"
   ]
  },
  {
   "cell_type": "markdown",
   "metadata": {},
   "source": [
    "## Splitting of B"
   ]
  },
  {
   "cell_type": "code",
   "execution_count": null,
   "metadata": {},
   "outputs": [],
   "source": [
    "#\n",
    "# Create tensors\n",
    "#\n",
    "\n",
    "N0 = 2\n",
    "\n",
    "B_KN = tm2.makeTensor(\"B\")\n",
    "displayTensor(B_KN)\n",
    "\n",
    "B_N1N0K = B_KN.splitUniform(N0, depth=1)\n",
    "B_N1N0K = B_N1N0K.updateCoords(lambda n, c, p: n, depth=1)\n",
    "displayTensor(B_N1N0K)\n",
    "\n",
    "B_N1KN0 = B_N1N0K.swapRanks()\n",
    "displayTensor(B_N1KN0)"
   ]
  },
  {
   "cell_type": "markdown",
   "metadata": {},
   "source": [
    "## Tiled Matrix Multiply"
   ]
  },
  {
   "cell_type": "code",
   "execution_count": null,
   "metadata": {
    "scrolled": false
   },
   "outputs": [],
   "source": [
    "#\n",
    "# Create tensors\n",
    "#\n",
    "\n",
    "A_MK = tm2.makeTensor(\"A\")\n",
    "B_KN = tm2.makeTensor(\"B\")\n",
    "\n",
    "M = A_MK.getShape(\"M\")\n",
    "K = A_MK.getShape(\"K\")\n",
    "N = B_KN.getShape(\"N\")\n",
    "\n",
    "N1 = 2\n",
    "N0 = (N+1)//2\n",
    "\n",
    "B_N1KN0 = B_KN.splitUniform(N0, depth=1).swapRanks()\n",
    "B_N1KN0 = B_N1KN0.updateCoords(lambda n, c, p: n)\n",
    "\n",
    "Z_MN = Tensor(name=\"Z\",\n",
    "              rank_ids=[\"M\", \"N\"],\n",
    "                 shape=[M, N])\n",
    "uncompressTensor(Z_MN)\n",
    "\n",
    "Z_N1MN0 = Z_MN.splitUniform(N0, depth=1).swapRanks()\n",
    "Z_N1MN0 = Z_N1MN0.updateCoords(lambda n, c, p: n)\n",
    "Z_N1MN0.setMutable(True)\n",
    "\n",
    "\n",
    "#\n",
    "# Display Tensors\n",
    "#\n",
    "print(f\"M: {M}\")\n",
    "print(f\"K: {K}\")\n",
    "print(f\"N1: {N1}\")\n",
    "print(f\"N0: {N0}\")\n",
    "\n",
    "displayTensor(A_MK)\n",
    "displayTensor(B_N1KN0)\n",
    "displayTensor(Z_N1MN0)\n",
    "\n",
    "#\n",
    "# Get the root fibers of each tensor\n",
    "#\n",
    "a_m = A_MK.getRoot()\n",
    "b_n1 = B_N1KN0.getRoot()\n",
    "z_n1 = Z_N1MN0.getRoot()\n",
    "\n",
    "#\n",
    "# Animation bookkeeping\n",
    "#\n",
    "canvas = createCanvas(A_MK, B_N1KN0, Z_N1MN0)\n",
    "\n",
    "cycle = 0\n",
    "\n",
    "#\n",
    "# Traverse non-empty elements of top rank of `A`\n",
    "# creating the corresponding output fiber in `Z`\n",
    "#\n",
    "for n1, b_k in b_n1:\n",
    "    for m, a_k in a_m:\n",
    "        #\n",
    "        # Traverse the K rank of `A` and `B` with matchings coordinates\n",
    "        #\n",
    "        for k, a_val in a_k:\n",
    "            #\n",
    "            # Obtain the matching fiber in `B`\n",
    "            #\n",
    "            b_n0 = b_k.getPayload(k)\n",
    "        \n",
    "            #\n",
    "            # Traverse the bottom rank of `B`\n",
    "            # creating an cooresponding output value in the bottom rank of `Z`\n",
    "            #\n",
    "            for n0, b_val in b_n0:\n",
    "                #\n",
    "                # Do the reduction\n",
    "                #\n",
    "                # Note hack to get right position in N0 rank\n",
    "                #\n",
    "                z_n1[n1][m][n0%N0] += a_val * b_val\n",
    "            \n",
    "                #\n",
    "                # Animation bookkeeping\n",
    "                #\n",
    "                canvas.addActivity([(m,k)], [(n1,k,n0)], [(n1, m, n0)], \n",
    "                                   spacetime=(0,cycle))\n",
    "                cycle += 1\n",
    "            \n",
    "displayTensor(Z_N1MN0)\n",
    "displayCanvas(canvas)"
   ]
  },
  {
   "cell_type": "markdown",
   "metadata": {},
   "source": [
    "## Testing area\n",
    "\n",
    "For running alternative algorithms"
   ]
  },
  {
   "cell_type": "code",
   "execution_count": null,
   "metadata": {},
   "outputs": [],
   "source": []
  },
  {
   "cell_type": "code",
   "execution_count": null,
   "metadata": {},
   "outputs": [],
   "source": []
  },
  {
   "cell_type": "code",
   "execution_count": null,
   "metadata": {},
   "outputs": [],
   "source": []
  }
 ],
 "metadata": {
  "kernelspec": {
   "display_name": "Python 3",
   "language": "python",
   "name": "python3"
  },
  "language_info": {
   "codemirror_mode": {
    "name": "ipython",
    "version": 3
   },
   "file_extension": ".py",
   "mimetype": "text/x-python",
   "name": "python",
   "nbconvert_exporter": "python",
   "pygments_lexer": "ipython3",
   "version": "3.8.8"
  }
 },
 "nbformat": 4,
 "nbformat_minor": 2
}
