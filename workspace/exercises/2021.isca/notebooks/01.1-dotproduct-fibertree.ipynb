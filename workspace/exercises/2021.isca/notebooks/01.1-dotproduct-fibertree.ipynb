{
 "cells": [
  {
   "cell_type": "markdown",
   "metadata": {
    "slideshow": {
     "slide_type": "-"
    }
   },
   "source": [
    "# Sparseloop Tutorial\n",
    "\n",
    "\n",
    "First, include some libraries"
   ]
  },
  {
   "cell_type": "code",
   "execution_count": null,
   "metadata": {
    "slideshow": {
     "slide_type": "-"
    }
   },
   "outputs": [],
   "source": [
    "# Run boilerplate code to set up environment\n",
    "\n",
    "%run ./prelude.py --style=tree --animation=movie"
   ]
  },
  {
   "cell_type": "markdown",
   "metadata": {},
   "source": [
    "# Dot product\n",
    "\n",
    "The following sequence of cells illustrate a dot product computation of:\n",
    "\n",
    "$$ Z_m = A_k \\times B_k $$"
   ]
  },
  {
   "cell_type": "markdown",
   "metadata": {},
   "source": [
    "## Configure two rank-1 tensors\n"
   ]
  },
  {
   "cell_type": "code",
   "execution_count": null,
   "metadata": {},
   "outputs": [],
   "source": [
    "#\n",
    "# Set default shape\n",
    "#\n",
    "K = 10\n",
    "M = 1\n",
    "\n",
    "#\n",
    "# Create controls to configure the tensors\n",
    "#\n",
    "tm = TensorMaker(\"sparseloop-dot-product\", autoload=True)\n",
    "\n",
    "tm.addTensor(\"A\", rank_ids=[\"K\"], shape=[K], density=0.4, color=\"blue\")\n",
    "tm.addTensor(\"B\", rank_ids=[\"K\"], shape=[K], density=1.0, color=\"green\")\n",
    "\n",
    "tm.displayControls()\n"
   ]
  },
  {
   "cell_type": "markdown",
   "metadata": {},
   "source": [
    "## Create and display the tensors"
   ]
  },
  {
   "cell_type": "code",
   "execution_count": null,
   "metadata": {
    "scrolled": false
   },
   "outputs": [],
   "source": [
    "A_K = tm.makeTensor(\"A\")\n",
    "B_K = tm.makeTensor(\"B\")\n",
    "\n",
    "displayTensor(A_K)\n",
    "displayTensor(B_K)\n"
   ]
  },
  {
   "cell_type": "markdown",
   "metadata": {},
   "source": [
    "# Dot product - A, B uncompressed "
   ]
  },
  {
   "cell_type": "code",
   "execution_count": null,
   "metadata": {
    "scrolled": false
   },
   "outputs": [],
   "source": [
    "#\n",
    "# Create the input/output tensors\n",
    "#\n",
    "K = getShape(tm, \"K\")\n",
    "M = 1\n",
    "\n",
    "A_K = tm.makeTensor(\"A\")\n",
    "B_K = tm.makeTensor(\"B\")\n",
    "Z_M = Tensor(name=\"Z\", rank_ids=[\"M\"], shape=[M])\n",
    "\n",
    "uncompressTensor(A_K)\n",
    "uncompressTensor(Z_M)\n",
    "\n",
    "#\n",
    "# Display the input tensors\n",
    "#\n",
    "print(f\"K: {K}\")\n",
    "print(f\"M: {M}\")\n",
    "\n",
    "displayTensor(A_K)\n",
    "displayTensor(B_K)\n",
    "displayTensor(Z_M)\n",
    "\n",
    "#\n",
    "# Get the root fibers of each tensor\n",
    "#\n",
    "a_k = A_K.getRoot()\n",
    "b_k = B_K.getRoot()\n",
    "z_m = Z_M.getRoot()\n",
    "#\n",
    "# Get a reference to the output scalar\n",
    "#\n",
    "\n",
    "#\n",
    "# Animation bookkeeping\n",
    "#\n",
    "canvas = createCanvas(A_K, B_K, Z_M)\n",
    "\n",
    "#\n",
    "# Traverse all coordinates of shape `K`\n",
    "#\n",
    "for m in range(M):\n",
    "\n",
    "    for k in range(K):\n",
    "        #\n",
    "        # The the values at coordinate `k`\n",
    "        #\n",
    "        a_val = a_k.getPayload(k)\n",
    "        b_val = b_k.getPayload(k)\n",
    "    \n",
    "        #\n",
    "        # Do the reduction\n",
    "        #\n",
    "        z_m[m] += a_val * b_val\n",
    "    \n",
    "        #\n",
    "        # Animation bookkeeping\n",
    "        #\n",
    "        canvas.addActivity([(k,)], [(k,)], [(m,)],\n",
    "                           spacetime=(0, k))\n",
    "    \n",
    "    \n",
    "\n",
    "displayTensor(Z_M)\n",
    "displayCanvas(canvas)"
   ]
  },
  {
   "cell_type": "markdown",
   "metadata": {},
   "source": [
    "# Dot Product - Gating Unneeded Reads"
   ]
  },
  {
   "cell_type": "code",
   "execution_count": null,
   "metadata": {
    "scrolled": false
   },
   "outputs": [],
   "source": [
    "#\n",
    "# Create the input/output tensors\n",
    "#\n",
    "K = getShape(tm, \"K\")\n",
    "M = 1\n",
    "\n",
    "A_K = tm.makeTensor(\"A\")\n",
    "B_K = tm.makeTensor(\"B\")\n",
    "Z_M = Tensor(name=\"Z\", rank_ids=[\"M\"], shape=[M])\n",
    "\n",
    "uncompressTensor(A_K)\n",
    "uncompressTensor(Z_M)\n",
    "\n",
    "#\n",
    "# Display the input tensors\n",
    "#\n",
    "print(f\"K: {K}\")\n",
    "print(f\"M: {M}\")\n",
    "\n",
    "displayTensor(A_K)\n",
    "displayTensor(B_K)\n",
    "displayTensor(Z_M)\n",
    "\n",
    "#\n",
    "# Get the root fibers of each tensor\n",
    "#\n",
    "a_k = A_K.getRoot()\n",
    "b_k = B_K.getRoot()\n",
    "z_m = Z_M.getRoot()\n",
    "\n",
    "#\n",
    "# Animation bookkeeping\n",
    "#\n",
    "canvas = createCanvas(A_K, B_K, Z_M)\n",
    "\n",
    "#\n",
    "# Traverse the single element of the output shape\n",
    "#\n",
    "for m in range(M):\n",
    "    #\n",
    "    # Traverse all coordinates of shape `K`\n",
    "    #\n",
    "    for k in range(K):\n",
    "        #\n",
    "        # Get the value of `A` at coordinate `k`\n",
    "        #\n",
    "        a_val = a_k.getPayload(k)\n",
    "    \n",
    "        #\n",
    "        # Gate the access to the value of `B`\n",
    "        # and computation\n",
    "        #\n",
    "        if a_val != 0:\n",
    "            b_val = b_k.getPayload(k)\n",
    "\n",
    "            z_m[m] += a_val * b_val\n",
    "\n",
    "        #\n",
    "        # Animation bookkeeping\n",
    "        #\n",
    "        if a_val == 0:\n",
    "            B_activity = []\n",
    "            Z_activity = []\n",
    "        else:\n",
    "            B_activity = [(k,)]\n",
    "            Z_activity = [(m,)]\n",
    "        \n",
    "        canvas.addActivity([(k,)], B_activity, Z_activity,\n",
    "                           spacetime=(0, k))\n",
    "    \n",
    "\n",
    "displayTensor(Z_M)\n",
    "displayCanvas(canvas)"
   ]
  },
  {
   "cell_type": "markdown",
   "metadata": {},
   "source": [
    "## Dot Product - Compressed A"
   ]
  },
  {
   "cell_type": "code",
   "execution_count": null,
   "metadata": {},
   "outputs": [],
   "source": [
    "#\n",
    "# Create the input/output tensors\n",
    "#\n",
    "K = getShape(tm, \"K\")\n",
    "M = 1\n",
    "\n",
    "A_K = tm.makeTensor(\"A\")\n",
    "B_K = tm.makeTensor(\"B\")\n",
    "Z_M = Tensor(name=\"Z\", rank_ids=[\"M\"], shape=[M])\n",
    "\n",
    "uncompressTensor(Z_M)\n",
    "\n",
    "#\n",
    "# Display the input tensors\n",
    "#\n",
    "print(f\"K: {K}\")\n",
    "print(f\"M: {M}\")\n",
    "\n",
    "displayTensor(A_K)\n",
    "displayTensor(B_K)\n",
    "displayTensor(Z_M)\n",
    "\n",
    "#\n",
    "# Get the root fibers of each tensor\n",
    "#\n",
    "a_k = A_K.getRoot()\n",
    "b_k = B_K.getRoot()\n",
    "z_m = Z_M.getRoot()\n",
    "\n",
    "\n",
    "#\n",
    "# Animation bookkeeping\n",
    "#\n",
    "canvas = createCanvas(A_K, B_K, Z_M)\n",
    "\n",
    "\n",
    "for m in range(M):\n",
    "    #\n",
    "    # Get a reference to the output scalar\n",
    "    #\n",
    "    z_ref = Z_M.getPayloadRef(0)\n",
    "\n",
    "    #\n",
    "    # Traverse compressed tensor `A`\n",
    "    #\n",
    "    for k, a_val in a_k:\n",
    "        #\n",
    "        # Get value of `B` at non-zero coordinates of `A`\n",
    "        #\n",
    "        b_val = b_k.getPayload(k)\n",
    "\n",
    "        z_ref += a_val * b_val\n",
    "\n",
    "        #\n",
    "        # Animation bookkeeping\n",
    "        #\n",
    "        canvas.addActivity([(k,)], [(k,)], [(m,)],\n",
    "                           spacetime=(0, k))\n",
    "\n",
    "\n",
    "displayTensor(Z_M)\n",
    "displayCanvas(canvas)"
   ]
  },
  {
   "cell_type": "markdown",
   "metadata": {},
   "source": [
    "## Testing area\n",
    "\n",
    "For running alternative algorithms"
   ]
  },
  {
   "cell_type": "code",
   "execution_count": null,
   "metadata": {},
   "outputs": [],
   "source": []
  },
  {
   "cell_type": "code",
   "execution_count": null,
   "metadata": {},
   "outputs": [],
   "source": []
  },
  {
   "cell_type": "code",
   "execution_count": null,
   "metadata": {},
   "outputs": [],
   "source": []
  }
 ],
 "metadata": {
  "kernelspec": {
   "display_name": "Python 3",
   "language": "python",
   "name": "python3"
  },
  "language_info": {
   "codemirror_mode": {
    "name": "ipython",
    "version": 3
   },
   "file_extension": ".py",
   "mimetype": "text/x-python",
   "name": "python",
   "nbconvert_exporter": "python",
   "pygments_lexer": "ipython3",
   "version": "3.8.8"
  }
 },
 "nbformat": 4,
 "nbformat_minor": 2
}
