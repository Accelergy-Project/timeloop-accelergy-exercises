{
 "cells": [
  {
   "cell_type": "markdown",
   "metadata": {},
   "source": [
    "# Matrix Multiply\n",
    "\n",
    "The following sequence of cells illustrate hardware processing of a matrix multiply computation:\n",
    "<div align=\"center\"  style=\"font-size:150%\">\n",
    "    <br>\n",
    "    <i> Z<sub>m,n</sub> = A<sub>m,k</sub> x B<sub>k,n</sub></i>\n",
    "</div>"
   ]
  },
  {
   "cell_type": "markdown",
   "metadata": {},
   "source": [
    "## Exercise 02.2.1 Sparse Matrix Multiplitcation\n",
    "<img align=\"center\" src=\"figures/02.2.1.spMspM_setup.png\" alt=\"spMspM_setup\" style=\"width:100%\">\n",
    "\n",
    "### Understanding the inputs: Problem Specification"
   ]
  },
  {
   "cell_type": "code",
   "execution_count": null,
   "metadata": {
    "scrolled": false
   },
   "outputs": [],
   "source": [
    "%%bash\n",
    "cd ../designs/02.2.1-spMspM/\n",
    "cat prob/*.yaml"
   ]
  },
  {
   "cell_type": "markdown",
   "metadata": {},
   "source": [
    "### Understanding the inputs: Architecture Specification\n",
    "We consider a more realistic architecture with a larger `BackingStorage` and a smaller local `Buffer`. We use small storages here for simplicity."
   ]
  },
  {
   "cell_type": "code",
   "execution_count": null,
   "metadata": {
    "scrolled": false
   },
   "outputs": [],
   "source": [
    "%%bash\n",
    "cd ../designs/02.2.1-spMspM/\n",
    "cat arch/*.yaml"
   ]
  },
  {
   "cell_type": "markdown",
   "metadata": {},
   "source": [
    "### Understanding the inputs: Mapping Specification\n",
    "We need to specify the loops for each storage unit. Since we are doing simple streaming from `BackingStorage` to `Buffer`, all the loops below the `BackingStorage` level have trivial bounds."
   ]
  },
  {
   "cell_type": "code",
   "execution_count": null,
   "metadata": {
    "scrolled": false
   },
   "outputs": [],
   "source": [
    "%%bash\n",
    "cd ../designs/02.2.1-spMspM/\n",
    "cat map/*.yaml"
   ]
  },
  {
   "cell_type": "markdown",
   "metadata": {},
   "source": [
    "### Understanding the inputs: Sparse Optimization Feature Specification\n",
    "As shown in the setup figure above, we need the following sparse optimizations to achieve the expected behaviors\n",
    "- compressed representation of tensors A and B at both storage levels\n",
    "- skipping optimization applied to all A, B, and Z with different skipping conditions"
   ]
  },
  {
   "cell_type": "code",
   "execution_count": null,
   "metadata": {
    "scrolled": false
   },
   "outputs": [],
   "source": [
    "%%bash\n",
    "cd ../designs/02.2.1-spMspM/\n",
    "cat sparse-opt/*.yaml"
   ]
  },
  {
   "cell_type": "markdown",
   "metadata": {},
   "source": [
    "### Run Example"
   ]
  },
  {
   "cell_type": "code",
   "execution_count": null,
   "metadata": {},
   "outputs": [],
   "source": [
    "%%bash\n",
    "cd ../designs/02.2.1-spMspM/\n",
    "timeloop-model arch/*.yaml components/*.yaml map/*.yaml prob/*.yaml sparse-opt/*.yaml -o output/"
   ]
  },
  {
   "cell_type": "markdown",
   "metadata": {},
   "source": [
    "### Examine Important Stats\n",
    "\n",
    "1. `A` Tensor Related: \n",
    "  - Reduced data storage capacity requirement due to its compressed data representation.\n",
    "  - There are skipped data accesses due to the explicit skipping optimization of A based on B, i.e., if B has an empty payload value, then it is not necessary to read out the corresponding A anymore.\n",
    "  - Reduced number of accesses actual data accesses because of compressed representation format as well as explicit skipping optimization.\n",
    "  - Metadata storage overhead and accesses. Note that # of metadata units > # of nonzero values in A. There are 25 units of metadata overhead because we have 16 coordinates in the lower rank and 8+1 offsets in the upper rank. Thus, the total number of metadata + number of data units < original tile shape.\n",
    "  - Some of the metadata accesses are also skipped.\n",
    "2. `B` Tensor Related\n",
    "  - Reduced data storage capacity requirement due to its compressed data representation.\n",
    "  - Skipped data accesses due to the explicit skipping optimization of B based on A, i.e., if A has an empty payload value, then it is not necessary to read out the corresponding B fiber.\n",
    "  - Reduced number of actual data accesses because of compressed representation format as well as explicit skipping optimization.\n",
    "  - Metadata storage overhead and accesses. Note the due to the higher density in B, total number of metadata + number of data units > original tile shape because of higher tensor density.\n",
    "3. `Z`: \n",
    "  - Capacity requirement == tile shape due to uncompressed representation.\n",
    "  - Reduced number of actual reads and actual updates, and skipped reads && skipped updates counts show up.\n",
    "4. `MAC`: reduced number of actual computes since the operands are skipped at the `Buffer` and  become `NOT_EXSIT` at the compute.\n",
    "6. Total number of cycles reduced as both computes and storage accesses are skipped. As a result, MAC has a full utilization fo 1.0.\n",
    "7. Total energy reduced due to reduced storage accesses and computes."
   ]
  },
  {
   "cell_type": "code",
   "execution_count": null,
   "metadata": {
    "scrolled": false
   },
   "outputs": [],
   "source": [
    "%%bash\n",
    "chmod 755 ../scripts/02.2.1-spMspM-aggregated-stats.sh\n",
    "cd ../designs/02.2.1-spMspM/output/\n",
    "../../../scripts/02.2.1-spMspM-aggregated-stats.sh"
   ]
  },
  {
   "cell_type": "markdown",
   "metadata": {},
   "source": [
    "## Exercise 02.2.2 Tiled Sparse Matrix Multiplitcation"
   ]
  },
  {
   "cell_type": "markdown",
   "metadata": {},
   "source": [
    "### Understanding  Inputs: Mapping Specification with Tiling on `N`"
   ]
  },
  {
   "cell_type": "code",
   "execution_count": null,
   "metadata": {
    "scrolled": true
   },
   "outputs": [],
   "source": [
    "%%bash\n",
    "cd ../designs/02.2.2-spMspM-tiled/\n",
    "cat map/*.yaml"
   ]
  },
  {
   "cell_type": "markdown",
   "metadata": {},
   "source": [
    "### Understanding Inputs: Architecture with A Smaller Buffer\n",
    "\n",
    "Tiling allows smaller `B` and `Z` tiles to be stored in the `Buffer`, so we can reduce the storage space in our architecture. In this specific example, we reduce the `depth` of the `Buffer` to half, i.e., 128 to 64."
   ]
  },
  {
   "cell_type": "code",
   "execution_count": null,
   "metadata": {},
   "outputs": [],
   "source": [
    "%%bash\n",
    "echo \"===========================================\"\n",
    "echo \"     Untiled Exampe Buffer Specification\"\n",
    "echo \"===========================================\"\n",
    "\n",
    "cd ../designs/02.2.1-spMspM/\n",
    "grep Buffer -A 9 arch/*.yaml\n",
    "\n",
    "printf \"\\n===========================================\\n\"\n",
    "printf \"    Tiled Exampe Buffer Specification\\n\"\n",
    "printf \"===========================================\\n\"\n",
    "\n",
    "cd ../02.2.2-spMspM-tiled/\n",
    "grep Buffer -A 9 arch/*.yaml"
   ]
  },
  {
   "cell_type": "markdown",
   "metadata": {},
   "source": [
    "### Understanding Inputs: Data Representaiton Format Specification for Pretiled Tensors\n",
    "\n",
    "#### Tiling introduces splitted rank(s) and thus additional ranks in tensor\n",
    "<img align=\"center\" src=\"figures/02.2.2.dense_tiled_mapping.png\" alt=\"tiled_mapping\" style=\"width:70%\">\n",
    "\n",
    "\n",
    "#### Pretiling \n",
    "Accelerator designs usually only support concordant traversal of compressed tensors, and thus when tiling is necessary, the input tensor to the accelerator is often **pre-tiled**.\n",
    "\n",
    "Thus the `B` tensor stored in `BackingStorage` needs to have three ranks, N1, K, N0 *(N/N1)*. Failing to specify enough ranks for the tensor representation will result in an error.\n",
    "\n",
    "In this example, the top `N1` rank is only useful in `BackingStroage` to identify the tiles (elements in the `N1` ranks) being transferred to `Buffer`, so the `N1` rank is not transferred to `Buffer` storage."
   ]
  },
  {
   "cell_type": "code",
   "execution_count": null,
   "metadata": {},
   "outputs": [],
   "source": [
    "%%bash\n",
    "cd ../designs/02.2.2-spMspM-tiled/\n",
    "grep sparse_optimizations -A 27 sparse-opt/*.yaml\n",
    "echo \"         ... \""
   ]
  },
  {
   "cell_type": "markdown",
   "metadata": {},
   "source": [
    "### Run Example"
   ]
  },
  {
   "cell_type": "code",
   "execution_count": null,
   "metadata": {},
   "outputs": [],
   "source": [
    "%%bash\n",
    "cd ../designs/02.2.2-spMspM-tiled/\n",
    "timeloop-model arch/*.yaml components/*.yaml map/*.yaml prob/*.yaml sparse-opt/*.yaml -o output/"
   ]
  },
  {
   "cell_type": "markdown",
   "metadata": {},
   "source": [
    "### Examine Important Stats: `B` Tensor - Centric View\n",
    "- `A` Tensor Related: \n",
    "  - All observations from the last part stay true, as `A` tensor is not tiled.\n",
    "- `B` Tensor Related\n",
    "  - `BackingStorage` has the tensor pre-tiled to 3 ranks. \n",
    "  - Metadata storage capacity overhead increased significantly in `BackingStorage`, and thus the number of metadata reads.\n",
    "  - Smaller tiles are stored in `Buffer`, each tile in `Buffer` is still in rank2 format.\n",
    "- `Z` Tensor Related: \n",
    "  - Smaller tiles are stored in `Buffer` in uncompressed format.\n",
    "  - Other observations stay the same as the untiled case.\n",
    "- `MAC`: Same behaviors as untiled."
   ]
  },
  {
   "cell_type": "code",
   "execution_count": null,
   "metadata": {},
   "outputs": [],
   "source": [
    "%%bash\n",
    "chmod 755 ../scripts/02.2.2-spMspM-pretiling-stats.sh\n",
    "cd ../designs/02.2.2-spMspM-tiled/output/\n",
    "../../../scripts/02.2.2-spMspM-pretiling-stats.sh"
   ]
  },
  {
   "cell_type": "markdown",
   "metadata": {},
   "source": [
    "### Compare Untiled and Tiled Examples\n",
    "Tiled example consumes ~50% less energy per algorithmic compute."
   ]
  },
  {
   "cell_type": "code",
   "execution_count": null,
   "metadata": {},
   "outputs": [],
   "source": [
    "%%bash\n",
    "echo \"========================================\"\n",
    "echo \"             Untiled Run                \"\n",
    "echo \"========================================\"\n",
    "cd ../designs/02.2.1-spMspM/\n",
    "timeloop-model arch/*.yaml components/*.yaml map/*.yaml prob/*.yaml sparse-opt/*.yaml -o output/\n",
    "\n",
    "echo \"========================================\"\n",
    "echo \"               Tiled Run                \"\n",
    "echo \"========================================\"\n",
    "cd ../02.2.2-spMspM-tiled/\n",
    "timeloop-model arch/*.yaml components/*.yaml map/*.yaml prob/*.yaml sparse-opt/*.yaml -o output/"
   ]
  }
 ],
 "metadata": {
  "kernelspec": {
   "display_name": "Python 3",
   "language": "python",
   "name": "python3"
  },
  "language_info": {
   "codemirror_mode": {
    "name": "ipython",
    "version": 3
   },
   "file_extension": ".py",
   "mimetype": "text/x-python",
   "name": "python",
   "nbconvert_exporter": "python",
   "pygments_lexer": "ipython3",
   "version": "3.8.8"
  },
  "pycharm": {
   "stem_cell": {
    "cell_type": "raw",
    "metadata": {
     "collapsed": false
    },
    "source": []
   }
  }
 },
 "nbformat": 4,
 "nbformat_minor": 2
}
