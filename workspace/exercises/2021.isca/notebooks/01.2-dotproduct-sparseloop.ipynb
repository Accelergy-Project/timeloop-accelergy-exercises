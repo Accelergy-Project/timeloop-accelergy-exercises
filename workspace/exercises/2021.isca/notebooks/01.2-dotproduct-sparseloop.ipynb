{
 "cells": [
  {
   "cell_type": "markdown",
   "metadata": {},
   "source": [
    "# Dot Product\n",
    "\n",
    "The following sequence of cells illustrate hardware processing of a dot product computation:\n",
    "\n",
    "$$ Z_{m} = A_{k} \\times B_{k} $$"
   ]
  },
  {
   "cell_type": "markdown",
   "metadata": {},
   "source": [
    "<img align=\"center\" src=\"figures/01.2.1.DUDU_setup.png\" alt=\"DUDU_setup\" style=\"width:70%\">\n",
    "\n",
    "## Exercise 01.2.1 Uncompressed Dense Vectors \n",
    "\n",
    "### Understanding the inputs: Problem Specification"
   ]
  },
  {
   "cell_type": "code",
   "execution_count": null,
   "metadata": {},
   "outputs": [],
   "source": [
    "%%bash\n",
    "cd ../designs/01.2.1-DUDU-dot-product/\n",
    "cat prob/dot-product.prob.yaml"
   ]
  },
  {
   "cell_type": "markdown",
   "metadata": {},
   "source": [
    "### Understanding the inputs: Architecture Specification"
   ]
  },
  {
   "cell_type": "code",
   "execution_count": null,
   "metadata": {},
   "outputs": [],
   "source": [
    "%%bash\n",
    "cd ../designs/01.2.1-DUDU-dot-product/\n",
    "cat arch/*.yaml"
   ]
  },
  {
   "cell_type": "markdown",
   "metadata": {},
   "source": [
    "### Understanding the inputs: Mapping Specification"
   ]
  },
  {
   "cell_type": "code",
   "execution_count": null,
   "metadata": {},
   "outputs": [],
   "source": [
    "%%bash\n",
    "cd ../designs/01.2.1-DUDU-dot-product/\n",
    "cat map/*.yaml"
   ]
  },
  {
   "cell_type": "markdown",
   "metadata": {},
   "source": [
    "### Run Example"
   ]
  },
  {
   "cell_type": "code",
   "execution_count": null,
   "metadata": {},
   "outputs": [],
   "source": [
    "%%bash\n",
    "cd ../designs/01.2.1-DUDU-dot-product/\n",
    "timeloop-model arch/*.yaml map/*.yaml prob/*.yaml -o output/"
   ]
  },
  {
   "cell_type": "markdown",
   "metadata": {},
   "source": [
    "### Examine Important Stats: Storage Capacity & Accesses\n",
    "Different access types\n",
    "  - fills: initial writes of the data (zero for 1 level storage, so not shown)\n",
    "  - reads: streaming out data\n",
    "  - updates: writebacks of the updated data"
   ]
  },
  {
   "cell_type": "code",
   "execution_count": null,
   "metadata": {
    "scrolled": false
   },
   "outputs": [],
   "source": [
    "%%bash\n",
    "chmod 755 ../scripts/01.2.1-DUDU-dot-product-buffer-stats.sh\n",
    "cd ../designs/01.2.1-DUDU-dot-product/output\n",
    "../../../scripts/01.2.1-DUDU-dot-product-buffer-stats.sh"
   ]
  },
  {
   "cell_type": "markdown",
   "metadata": {},
   "source": [
    "### Examine Important Stats: Computes"
   ]
  },
  {
   "cell_type": "code",
   "execution_count": null,
   "metadata": {},
   "outputs": [],
   "source": [
    "%%bash\n",
    "chmod 755 ../scripts/01.2.1-DUDU-dot-product-compute-stats.sh\n",
    "cd ../designs/01.2.1-DUDU-dot-product/output\n",
    "../../../scripts/01.2.1-DUDU-dot-product-compute-stats.sh"
   ]
  },
  {
   "cell_type": "markdown",
   "metadata": {},
   "source": [
    "### Examine Important Stats: Summary"
   ]
  },
  {
   "cell_type": "code",
   "execution_count": null,
   "metadata": {},
   "outputs": [],
   "source": [
    "%%bash\n",
    "chmod 755 ../scripts/01.2.1-DUDU-dot-product-summary-stats.sh\n",
    "cd ../designs/01.2.1-DUDU-dot-product/output\n",
    "../../../scripts/01.2.1-DUDU-dot-product-summary-stats.sh"
   ]
  },
  {
   "cell_type": "markdown",
   "metadata": {},
   "source": [
    "## Sparse vector A\n",
    "\n",
    "<img align=\"center\" src=\"figures/01.2.2.SUDU_baseline_setup.png\" alt=\"SU_C_DU_setup\" style=\"width:70%\">\n"
   ]
  },
  {
   "cell_type": "markdown",
   "metadata": {},
   "source": [
    "## Exercise 01.2.2 Sparse Uncompressed  A and Uncompressed Dense B\n",
    "### Updated Inputs:  Problem Specification Now Reflects Sparsity"
   ]
  },
  {
   "cell_type": "code",
   "execution_count": null,
   "metadata": {},
   "outputs": [],
   "source": [
    "%%bash\n",
    "cd ../designs/01.2.2-SUDU-dot-product\n",
    "grep \"instance:\" prob/*.yaml -A 10"
   ]
  },
  {
   "cell_type": "markdown",
   "metadata": {},
   "source": [
    "### Run Example With All Other Inputs Stay the Same"
   ]
  },
  {
   "cell_type": "code",
   "execution_count": null,
   "metadata": {},
   "outputs": [],
   "source": [
    "%%bash\n",
    "cd ../designs/01.2.2-SUDU-dot-product\n",
    "timeloop-model arch/*.yaml map/*.yaml prob/*.yaml -o output/no-optimization"
   ]
  },
  {
   "cell_type": "markdown",
   "metadata": {},
   "source": [
    "### Examine Important Stats\n",
    "\n",
    "You should see **no changes** in runtime statistics. Although there are potential savings introduced by the A vector, with a default uncompressed representation and no sparse optimization applied, it is not possible to exploit such savings. Thus, the baseline architecture's behaviors will not change."
   ]
  },
  {
   "cell_type": "code",
   "execution_count": null,
   "metadata": {},
   "outputs": [],
   "source": [
    "%%bash\n",
    "chmod 755 ../scripts/01.2.2-SUDU-dot-product-aggregated-stats.sh\n",
    "cd ../designs/01.2.2-SUDU-dot-product/output/no-optimization\n",
    "../../../../scripts/01.2.2-SUDU-dot-product-aggregated-stats.sh"
   ]
  },
  {
   "cell_type": "markdown",
   "metadata": {},
   "source": [
    "\n",
    "### Additional Input:  Sparse Optimization Feature Specification To Enable Gating\n",
    "- Goal: Perform gating on B and Z based on the payloads in A\n",
    "\n",
    "<img align=\"center\" src=\"figures/01.2.2.SUDU_gating_setup.png\" alt=\"figures/01.2.2.SUDU_gating_setup.png\" style=\"width:80%\">\n"
   ]
  },
  {
   "cell_type": "code",
   "execution_count": null,
   "metadata": {},
   "outputs": [],
   "source": [
    "%%bash\n",
    "# sparse tensor instance\n",
    "cd ../designs/01.2.2-SUDU-dot-product\n",
    "cat sparse-opt/*.yaml "
   ]
  },
  {
   "cell_type": "markdown",
   "metadata": {},
   "source": [
    "### Run Example With Gating Applied\n",
    "Please note the additional `sparse-opt/*.yaml` input in the command"
   ]
  },
  {
   "cell_type": "code",
   "execution_count": null,
   "metadata": {},
   "outputs": [],
   "source": [
    "%%bash\n",
    "cd ../designs/01.2.2-SUDU-dot-product\n",
    "timeloop-model arch/*.yaml map/*.yaml prob/*.yaml sparse-opt/*.yaml -o output/gating"
   ]
  },
  {
   "cell_type": "markdown",
   "metadata": {},
   "source": [
    "### Examine Important Stats\n",
    "\n",
    "- `A`: no change, as A tensor is still represented in an uncompressed format and requires the same amount of storage capacity.\n",
    "- `B`: reduced number of actual reads and **gated reads** counts show up.\n",
    "- `Z`: reduced number of actual reads and actual updates, and **gated reads** && **gated updates** counts show up.\n",
    "- `MAC`: reduced number of actual computes. As a result of `gating` on `B`, no operands are sent to `MAC` unit when `A` is empty (i.e., `NOT_EXIST` for both operands). So the number of computes reduced by 75%.\n",
    "- lower utilization. The reduced number of computes make MAC stays idle for 75% of the cycles, during which there is still access to `A` stored in the `Buffer` (but no accesses to `B` and `Z`). \n",
    "- total number of cycles no change.\n",
    "- total energy reduced.  Reduced number of accesses to `B` and `Z`, and reduced number of computes both save energy "
   ]
  },
  {
   "cell_type": "code",
   "execution_count": null,
   "metadata": {},
   "outputs": [],
   "source": [
    "%%bash\n",
    "chmod 755 ../scripts/01.2.2-SUDU-dot-product-gating-aggregated-stats.sh\n",
    "cd ../designs/01.2.2-SUDU-dot-product/output/gating\n",
    "../../../../scripts/01.2.2-SUDU-dot-product-gating-aggregated-stats.sh"
   ]
  },
  {
   "cell_type": "markdown",
   "metadata": {},
   "source": [
    "## Exercise 01.2.3 Sparse Compressed A and Dense Uncompressed B\n",
    "\n",
    "\n",
    "<img align=\"center\" src=\"figures/01.2.3.SCDU_skipping_setup.png\" alt=\"figures/01.2.3.SCDU_skipping_setup.png\" style=\"width:80%\">\n",
    "\n",
    "\n",
    "\n",
    "### Updated Input: Sparse Optimization Specification\n",
    "- Represent sparse A in a compressed format: coordinate payload\n",
    "- Perform skipping based on the compressed A"
   ]
  },
  {
   "cell_type": "code",
   "execution_count": null,
   "metadata": {},
   "outputs": [],
   "source": [
    "%%bash\n",
    "# sparse tensor instance\n",
    "cd ../designs/01.2.3-SCDU-dot-product\n",
    "cat sparse-opt/*yaml"
   ]
  },
  {
   "cell_type": "markdown",
   "metadata": {},
   "source": [
    "### Updated Input: Architecture Sepcfication\n",
    "Extra metadata storage needed to store the *coordiantes* in the compressed representation format"
   ]
  },
  {
   "cell_type": "code",
   "execution_count": null,
   "metadata": {},
   "outputs": [],
   "source": [
    "%%bash\n",
    "cd ../designs/01.2.3-SCDU-dot-product\n",
    "cat arch/*.yaml"
   ]
  },
  {
   "cell_type": "markdown",
   "metadata": {},
   "source": [
    "### Run Example with Updated Sparse Optimization Specification and Architecture Specification"
   ]
  },
  {
   "cell_type": "code",
   "execution_count": null,
   "metadata": {},
   "outputs": [],
   "source": [
    "%%bash\n",
    "\n",
    "# Run example\n",
    "cd ../designs/01.2.3-SCDU-dot-product\n",
    "timeloop-model arch/*.yaml components/* map/*.yaml prob/*.yaml sparse-opt/*.yaml -o output/"
   ]
  },
  {
   "cell_type": "markdown",
   "metadata": {},
   "source": [
    "### Examine Important Stats\n",
    "\n",
    "- `A` related:\n",
    "  - Reduced capacity requirement and reduced number of accesses due to compressed data representation format.\n",
    "  - Extra metadata storage overhead, extra metadata access overhead. Note that # of metadata units equals to # of nonzero data in A.\n",
    "- `B`: Reduced number of actual reads and **skipped reads** counts show up due to explicit skipping optimization.\n",
    "- `Z`: Reduced number of actual reads and actual updates, and **skipped reads** && **skipped updates** counts show up due to explicit skipping optimization.\n",
    "- `MAC`: Reduced number of actual computes. As a result of `skipping` on `B`, no operands are sent to `MAC` unit when `A` is empty (i.e., `NOT_EXIST` for both operands). So the number of computes reduced by 75%.\n",
    "- Full utilization at 1.0. Since both computes and storage accesses are skipped, the utilization of the MAC unit is still full and the total number of cycles reduced as well.\n",
    "- Total number of cycles reduced.\n",
    "- Total energy reduced."
   ]
  },
  {
   "cell_type": "code",
   "execution_count": null,
   "metadata": {},
   "outputs": [],
   "source": [
    "%%bash\n",
    "chmod 755 ../scripts/01.2.3-SCDU-dot-product-aggregated-stats.sh\n",
    "cd ../designs/01.2.3-SCDU-dot-product/output/\n",
    "../../../scripts/01.2.3-SCDU-dot-product-aggregated-stats.sh"
   ]
  }
 ],
 "metadata": {
  "kernelspec": {
   "display_name": "Python 3",
   "language": "python",
   "name": "python3"
  },
  "language_info": {
   "codemirror_mode": {
    "name": "ipython",
    "version": 3
   },
   "file_extension": ".py",
   "mimetype": "text/x-python",
   "name": "python",
   "nbconvert_exporter": "python",
   "pygments_lexer": "ipython3",
   "version": "3.8.8"
  },
  "pycharm": {
   "stem_cell": {
    "cell_type": "raw",
    "metadata": {
     "collapsed": false
    },
    "source": []
   }
  }
 },
 "nbformat": 4,
 "nbformat_minor": 2
}
