{
 "cells": [
  {
   "cell_type": "markdown",
   "metadata": {
    "slideshow": {
     "slide_type": "-"
    }
   },
   "source": [
    "# Sparseloop Tutorial\n",
    "\n",
    "\n",
    "First, include some libraries"
   ]
  },
  {
   "cell_type": "code",
   "execution_count": null,
   "metadata": {
    "slideshow": {
     "slide_type": "-"
    }
   },
   "outputs": [],
   "source": [
    "# Run boilerplate code to set up environment\n",
    "\n",
    "%run ./prelude.py --style=tree --animation=movie"
   ]
  },
  {
   "cell_type": "markdown",
   "metadata": {},
   "source": [
    "# Convolution\n"
   ]
  },
  {
   "cell_type": "markdown",
   "metadata": {},
   "source": [
    "## Configure convolution tensors"
   ]
  },
  {
   "cell_type": "code",
   "execution_count": null,
   "metadata": {},
   "outputs": [],
   "source": [
    "W = 12\n",
    "S = 3\n",
    "\n",
    "\n",
    "tm3 = TensorMaker(\"sparseloop-convolution-1\", autoload=True)\n",
    "\n",
    "tm3.addTensor(\"F\", rank_ids=[\"S\"], shape=[S], density=0.5, color=\"green\")\n",
    "tm3.addTensor(\"I\", rank_ids=[\"W\"], shape=[W], density=1.0, color=\"blue\")\n",
    "\n",
    "tm3.displayControls()\n"
   ]
  },
  {
   "cell_type": "markdown",
   "metadata": {},
   "source": [
    "## Create and display convolution tensors"
   ]
  },
  {
   "cell_type": "code",
   "execution_count": null,
   "metadata": {},
   "outputs": [],
   "source": [
    "F_S = tm3.makeTensor(\"F\")\n",
    "I_W = tm3.makeTensor(\"I\")\n",
    "\n",
    "displayTensor(F_S)\n",
    "displayTensor(I_W)\n"
   ]
  },
  {
   "cell_type": "markdown",
   "metadata": {},
   "source": [
    "# Simple 1-D Convolution\n",
    "\n",
    "$$ O_{q} = I_{(q+s)} \\times F_{s} $$"
   ]
  },
  {
   "cell_type": "code",
   "execution_count": null,
   "metadata": {},
   "outputs": [],
   "source": [
    "#\n",
    "# Create a convolution tensors\n",
    "#\n",
    "S = getShape(tm3, \"S\")\n",
    "W = getShape(tm3, \"W\")\n",
    "Q = W-S+1\n",
    "\n",
    "F_S = tm3.makeTensor(\"F\")\n",
    "I_W = tm3.makeTensor(\"I\")\n",
    "\n",
    "O_Q = Tensor(name=\"O\", rank_ids=[\"Q\"], shape=[Q])\n",
    "uncompressTensor(O_Q)\n",
    "\n",
    "#\n",
    "# Display Tensors\n",
    "#\n",
    "print(f\"S: {S}\")\n",
    "print(f\"W: {W}\")\n",
    "print(f\"Q: {Q}\")\n",
    "\n",
    "displayTensor(F_S)\n",
    "displayTensor(I_W)\n",
    "displayTensor(O_Q)\n",
    "\n",
    "#\n",
    "# Get root of tensors\n",
    "#\n",
    "i_w = I_W.getRoot()\n",
    "f_s = F_S.getRoot()\n",
    "o_q = O_Q.getRoot()\n",
    "\n",
    "#\n",
    "# Animation bookkeeeping\n",
    "#\n",
    "canvas = createCanvas(F_S, I_W, O_Q)\n",
    "\n",
    "cycle = 0\n",
    "\n",
    "#\n",
    "# Traverse non-empty elements `input`\n",
    "#\n",
    "for q in range(Q):\n",
    "    for s, f_val in f_s:\n",
    "        w = q + s\n",
    "        i_val = i_w.getPayload(w)\n",
    "        \n",
    "        o_q[q] += i_val * f_val\n",
    "        \n",
    "        #\n",
    "        # Animation bookkeeping\n",
    "        #\n",
    "        canvas.addActivity((s,), (w,), (q,), spacetime=(0,cycle))\n",
    "        cycle += 1\n",
    "            \n",
    "displayTensor(O_Q)\n",
    "displayCanvas(canvas)"
   ]
  },
  {
   "cell_type": "markdown",
   "metadata": {},
   "source": [
    "# Convolution - 1D - with output channels\n",
    "\n",
    "$$ O_{m,q} = I_{(q+s)} \\times F_{m,s} $$"
   ]
  },
  {
   "cell_type": "markdown",
   "metadata": {},
   "source": [
    "## Configure convolution tensors"
   ]
  },
  {
   "cell_type": "code",
   "execution_count": null,
   "metadata": {},
   "outputs": [],
   "source": [
    "M = 4\n",
    "W = 12\n",
    "S = 4\n",
    "\n",
    "tm4 = TensorMaker(\"sparseloop-convolution-2\", autoload=True)\n",
    "\n",
    "tm4.addTensor(\"F\", rank_ids=[\"M\", \"S\"], shape=[M, S], density=0.5, color=\"green\")\n",
    "tm4.addTensor(\"I\", rank_ids=[\"W\"], shape=[W], density=1.0, color=\"blue\")\n",
    "\n",
    "tm4.displayControls()\n"
   ]
  },
  {
   "cell_type": "markdown",
   "metadata": {},
   "source": [
    "## Create and display convolution tensors"
   ]
  },
  {
   "cell_type": "code",
   "execution_count": null,
   "metadata": {},
   "outputs": [],
   "source": [
    "F_MS = tm4.makeTensor(\"F\")\n",
    "I_W = tm4.makeTensor(\"I\")\n",
    "\n",
    "displayTensor(F_MS)\n",
    "displayTensor(I_W)\n"
   ]
  },
  {
   "cell_type": "markdown",
   "metadata": {},
   "source": [
    "## Convolution"
   ]
  },
  {
   "cell_type": "code",
   "execution_count": null,
   "metadata": {
    "scrolled": false
   },
   "outputs": [],
   "source": [
    "#\n",
    "# Create a convolution tensors\n",
    "#\n",
    "\n",
    "M = getShape(tm4, \"M\")\n",
    "S = getShape(tm4, \"S\")\n",
    "W = getShape(tm4, \"W\")\n",
    "Q = W - S + 1\n",
    "\n",
    "F_MS = tm4.makeTensor(\"F\")\n",
    "I_W = tm4.makeTensor(\"I\")\n",
    "\n",
    "O_MQ = Tensor(name=\"O\", rank_ids=[\"M\", \"Q\"], shape=[M, Q])\n",
    "uncompressTensor(O_MQ)\n",
    "\n",
    "#\n",
    "# Display Tensors\n",
    "#\n",
    "print(f\"M: {M}\")\n",
    "print(f\"S: {S}\")\n",
    "print(f\"W: {W}\")\n",
    "print(f\"Q: {Q}\")\n",
    "\n",
    "displayTensor(F_MS)\n",
    "displayTensor(I_W)\n",
    "displayTensor(O_MQ)\n",
    "\n",
    "#\n",
    "# Get root of tensors\n",
    "#\n",
    "i_w = I_W.getRoot()\n",
    "f_m = F_MS.getRoot()\n",
    "o_m = O_MQ.getRoot()\n",
    "\n",
    "#\n",
    "# Animation bookkeeeping\n",
    "#\n",
    "canvas = createCanvas(F_MS, I_W, O_MQ)\n",
    "\n",
    "cycle = 0\n",
    "\n",
    "#\n",
    "# Traverse non-empty elements `input`\n",
    "#\n",
    "for m, f_s in f_m:    \n",
    "    for q in range(Q):\n",
    "        for s, f_val in f_s:\n",
    "        #\n",
    "        # Traverse all output locations\n",
    "        #\n",
    "            w = q + s\n",
    "            i_val = i_w.getPayload(w)\n",
    "\n",
    "            o_m[m][q] += i_val * f_val\n",
    "            #\n",
    "            # Animation bookkeeping\n",
    "            #\n",
    "            canvas.addActivity((m,s), (w,), (m,q), spacetime=(0,cycle))\n",
    "            cycle += 1\n",
    "            \n",
    "displayTensor(O_MQ)\n",
    "displayCanvas(canvas)"
   ]
  },
  {
   "cell_type": "markdown",
   "metadata": {},
   "source": [
    "## Convolution - spatial output channels"
   ]
  },
  {
   "cell_type": "code",
   "execution_count": null,
   "metadata": {},
   "outputs": [],
   "source": [
    "#\n",
    "# Create a convolution tensors\n",
    "#\n",
    "\n",
    "split = 2\n",
    "\n",
    "F_MS = tm4.makeTensor(\"F\")\n",
    "F_M1M0S = F_MS.splitUniform(split)\n",
    "I_W = tm4.makeTensor(\"I\")\n",
    "\n",
    "W = I_W.getShape(\"W\")\n",
    "S = F_MS.getShape(\"S\")\n",
    "Q = W-S+1\n",
    "\n",
    "M = F_MS.getShape(\"M\")\n",
    "M0 = split\n",
    "M1 = (M+split-1)//split\n",
    "\n",
    "O_MQ = Tensor(name=\"O\", rank_ids=[\"M\", \"Q\"], shape=[M, Q])\n",
    "uncompressTensor(O_MQ)\n",
    "O_M1M0Q = O_MQ.splitUniform(split)\n",
    "\n",
    "#\n",
    "# Display tensors\n",
    "#\n",
    "\n",
    "print(f\"M1: {M1}\")\n",
    "print(f\"M0: {M0}\")\n",
    "print(f\"W:  {W}\")\n",
    "print(f\"Q:  {Q}\")\n",
    "print(f\"S:  {S}\")\n",
    "\n",
    "displayTensor(F_M1M0S)\n",
    "displayTensor(I_W)\n",
    "displayTensor(O_M1M0Q)\n",
    "\n",
    "#\n",
    "# Get root of tensors\n",
    "#\n",
    "i_w = I_W.getRoot()\n",
    "f_m1 = F_M1M0S.getRoot()\n",
    "o_m1 = O_M1M0Q.getRoot()\n",
    "\n",
    "#\n",
    "# Animation bookkeeeping\n",
    "#\n",
    "canvas = createCanvas(F_M1M0S, I_W, O_M1M0Q)\n",
    "\n",
    "#\n",
    "# Traverse non-empty elements `input`\n",
    "#\n",
    "for m1, f_m0 in f_m1:\n",
    "    o_m0 = o_m1.getPayloadRef(m1)\n",
    "\n",
    "    for m0, f_s in f_m0:\n",
    "        o_q = o_m0.getPayloadRef(m0)\n",
    "        for q, o_ref in o_q:\n",
    "            \n",
    "            for s, f_val in f_s:\n",
    "                #\n",
    "                # Traverse all output locations\n",
    "                #\n",
    "\n",
    "                w = q + s\n",
    "                i_val = i_w.getPayload(w)\n",
    "\n",
    "                o_ref += i_val * f_val\n",
    "                #\n",
    "                # Animation bookkeeping\n",
    "                #\n",
    "                spacestamp = m0\n",
    "                \n",
    "                # TBD: Time should be counted in position not coordinates!\n",
    "                timestamp = m1*W*S + q*S + s \n",
    "                \n",
    "                canvas.addActivity((m1,m0,s), (w,), (m1,m0,q),\n",
    "                                   spacetime=(spacestamp, timestamp))\n",
    "\n",
    "\n",
    "displayTensor(O_M1M0Q)\n",
    "displayCanvas(canvas)\n"
   ]
  },
  {
   "cell_type": "markdown",
   "metadata": {},
   "source": [
    "## Testing area\n",
    "\n",
    "For running alternative algorithms"
   ]
  },
  {
   "cell_type": "code",
   "execution_count": null,
   "metadata": {},
   "outputs": [],
   "source": []
  },
  {
   "cell_type": "code",
   "execution_count": null,
   "metadata": {},
   "outputs": [],
   "source": []
  },
  {
   "cell_type": "code",
   "execution_count": null,
   "metadata": {},
   "outputs": [],
   "source": []
  }
 ],
 "metadata": {
  "kernelspec": {
   "display_name": "Python 3",
   "language": "python",
   "name": "python3"
  },
  "language_info": {
   "codemirror_mode": {
    "name": "ipython",
    "version": 3
   },
   "file_extension": ".py",
   "mimetype": "text/x-python",
   "name": "python",
   "nbconvert_exporter": "python",
   "pygments_lexer": "ipython3",
   "version": "3.8.8"
  }
 },
 "nbformat": 4,
 "nbformat_minor": 2
}
