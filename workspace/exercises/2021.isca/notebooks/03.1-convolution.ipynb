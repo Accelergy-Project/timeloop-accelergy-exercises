{
 "cells": [
  {
   "cell_type": "markdown",
   "metadata": {
    "slideshow": {
     "slide_type": "-"
    }
   },
   "source": [
    "# Sparseloop Tutorial - 03 - Convolution\n",
    "\n",
    "This notebook contains a series of examples of a DNN **convolution** computation. The **fibertree** emulator is used to illustrate the impact of a set of optimizations to exploit sparsity. The basic computation for a 1-D convolution with one input channel and one output channel is represented by the Einsum:\n",
    "\n",
    "$$ O_{q} = I_{(q+s)} \\times F_{s} $$\n",
    "\n",
    "Note that while the output is possibly a sparse rank-1 tensor, in this notebook the output is assumed to be in an uncompressed format and is directly referenced by **coordinate** since **position** == **coordinate** in an uncompressed format.\n",
    "\n",
    "First, include some libraries"
   ]
  },
  {
   "cell_type": "code",
   "execution_count": null,
   "metadata": {
    "slideshow": {
     "slide_type": "-"
    }
   },
   "outputs": [],
   "source": [
    "# Run boilerplate code to set up environment\n",
    "\n",
    "%run ./prelude.py --style=tree --animation=movie"
   ]
  },
  {
   "cell_type": "markdown",
   "metadata": {},
   "source": [
    "## Configure convolution tensors input tensors\n",
    "\n",
    "The following cell sets up the control sliders to specify the attributes of the 1-D `I` (input activations) and `F` (filter weight) input tensors. Those attributes include their **shape**, which specifies the allowable range of **coordinates** of elements of the tensor and their **density**.\n",
    "\n",
    "The empty 1-D 'O' (output activations) tensors are declared when used in later cells.  \n",
    "\n",
    "The rank names use the following convention:\n",
    "\n",
    "- `W` - The width of the input activation tensor (`I`)\n",
    "- `S` - The width of the filter weight tensor (`F`)\n",
    "- `Q` - The width of the output activation tensor (`O`)\n",
    "- `M` - The number of output channels in `F` and `O` (used in later cells).\n"
   ]
  },
  {
   "cell_type": "code",
   "execution_count": null,
   "metadata": {},
   "outputs": [],
   "source": [
    "#\n",
    "# Set default problem instance attributes (i.e., the shape of the tensors)\n",
    "#\n",
    "W = 12\n",
    "S = 3\n",
    "\n",
    "\n",
    "#\n",
    "# Create controls to configure the `I` and `F` tensors\n",
    "#\n",
    "tm3 = TensorMaker(\"sparseloop-convolution-1\", autoload=True)\n",
    "\n",
    "tm3.addTensor(\"F\", rank_ids=[\"S\"], shape=[S], density=0.5, color=\"green\")\n",
    "tm3.addTensor(\"I\", rank_ids=[\"W\"], shape=[W], density=1.0, color=\"blue\")\n",
    "\n",
    "tm3.displayControls()\n"
   ]
  },
  {
   "cell_type": "markdown",
   "metadata": {},
   "source": [
    "## Create and display convolution tensors"
   ]
  },
  {
   "cell_type": "code",
   "execution_count": null,
   "metadata": {},
   "outputs": [],
   "source": [
    "F_S = tm3.makeTensor(\"F\")\n",
    "I_W = tm3.makeTensor(\"I\")\n",
    "\n",
    "displayTensor(F_S)\n",
    "displayTensor(I_W)\n"
   ]
  },
  {
   "cell_type": "markdown",
   "metadata": {},
   "source": [
    "# Simple 1-D Convolution\n",
    "\n",
    "$$ O_{q} = I_{(q+s)} \\times F_{s} $$"
   ]
  },
  {
   "cell_type": "code",
   "execution_count": null,
   "metadata": {},
   "outputs": [],
   "source": [
    "#\n",
    "# Create input convolution tensors\n",
    "#\n",
    "S = getShape(tm3, \"S\")\n",
    "W = getShape(tm3, \"W\")\n",
    "Q = W-S+1\n",
    "\n",
    "F_S = tm3.makeTensor(\"F\")\n",
    "I_W = tm3.makeTensor(\"I\")\n",
    "\n",
    "O_Q = Tensor(name=\"O\", rank_ids=[\"Q\"], shape=[Q])\n",
    "uncompressTensor(O_Q)\n",
    "\n",
    "#\n",
    "# Display Tensors\n",
    "#\n",
    "print(\"Problem Instance:\")\n",
    "print(f\"S: {S}\")\n",
    "print(f\"W: {W}\")\n",
    "print(f\"Q: {Q}\")\n",
    "print(\"\")\n",
    "\n",
    "print(\"Filter weight tensor F\")\n",
    "displayTensor(F_S)\n",
    "print(\"Input activation tensor I\")\n",
    "displayTensor(I_W)\n",
    "print(\"Output activation tensor O (initial)\")\n",
    "displayTensor(O_Q)\n",
    "\n",
    "#\n",
    "# Get root of tensors\n",
    "#\n",
    "i_w = I_W.getRoot()\n",
    "f_s = F_S.getRoot()\n",
    "o_q = O_Q.getRoot()\n",
    "\n",
    "#\n",
    "# Animation bookkeeeping\n",
    "#\n",
    "canvas = createCanvas(F_S, I_W, O_Q)\n",
    "\n",
    "cycle = 0\n",
    "\n",
    "#\n",
    "# Traverse all `Q` coordinates of the output tensor\n",
    "#\n",
    "for q in range(Q):\n",
    "    #\n",
    "    # Traverse the non-empty coordinates of the filter weights\n",
    "    #\n",
    "    for s, f_val in f_s:\n",
    "        #\n",
    "        # Compute and fetch the required input activation coordinate\n",
    "        #\n",
    "        w = q + s\n",
    "        i_val = i_w.getPayload(w)\n",
    "        \n",
    "        #\n",
    "        # Compute value to contribute to partial output sum\n",
    "        #\n",
    "        o_q[q] += i_val * f_val\n",
    "        \n",
    "        #\n",
    "        # Animation bookkeeping\n",
    "        #\n",
    "        canvas.addActivity((s,), (w,), (q,), spacetime=(0,cycle))\n",
    "        cycle += 1\n",
    "            \n",
    "#\n",
    "# Display results\n",
    "#\n",
    "print(\"Output activation tensor O (final)\")\n",
    "displayTensor(O_Q)\n",
    "\n",
    "displayCanvas(canvas)"
   ]
  },
  {
   "cell_type": "markdown",
   "metadata": {},
   "source": [
    "# Convolution - 1D - with output channels\n",
    "\n",
    "$$ O_{m,q} = I_{(q+s)} \\times F_{m,s} $$"
   ]
  },
  {
   "cell_type": "markdown",
   "metadata": {},
   "source": [
    "## Configure convolution tensors"
   ]
  },
  {
   "cell_type": "code",
   "execution_count": null,
   "metadata": {},
   "outputs": [],
   "source": [
    "#\n",
    "# Set default problem instance attributes (i.e., the shape of the tensors)\n",
    "#\n",
    "M = 4\n",
    "W = 12\n",
    "S = 4\n",
    "\n",
    "#\n",
    "# Create controls to configure the `I` and `F` tensors\n",
    "#\n",
    "tm4 = TensorMaker(\"sparseloop-convolution-2\", autoload=True)\n",
    "\n",
    "tm4.addTensor(\"F\", rank_ids=[\"M\", \"S\"], shape=[M, S], density=0.5, color=\"green\")\n",
    "tm4.addTensor(\"I\", rank_ids=[\"W\"], shape=[W], density=1.0, color=\"blue\")\n",
    "\n",
    "tm4.displayControls()\n"
   ]
  },
  {
   "cell_type": "markdown",
   "metadata": {},
   "source": [
    "## Create and display convolution tensors"
   ]
  },
  {
   "cell_type": "code",
   "execution_count": null,
   "metadata": {},
   "outputs": [],
   "source": [
    "F_MS = tm4.makeTensor(\"F\")\n",
    "I_W = tm4.makeTensor(\"I\")\n",
    "\n",
    "displayTensor(F_MS)\n",
    "displayTensor(I_W)\n"
   ]
  },
  {
   "cell_type": "markdown",
   "metadata": {},
   "source": [
    "## Convolution with multiple output channels"
   ]
  },
  {
   "cell_type": "code",
   "execution_count": null,
   "metadata": {
    "scrolled": false
   },
   "outputs": [],
   "source": [
    "#\n",
    "# Create input convolution tensors\n",
    "#\n",
    "M = getShape(tm4, \"M\")\n",
    "S = getShape(tm4, \"S\")\n",
    "W = getShape(tm4, \"W\")\n",
    "Q = W - S + 1\n",
    "\n",
    "F_MS = tm4.makeTensor(\"F\")\n",
    "I_W = tm4.makeTensor(\"I\")\n",
    "\n",
    "O_MQ = Tensor(name=\"O\", rank_ids=[\"M\", \"Q\"], shape=[M, Q])\n",
    "uncompressTensor(O_MQ)\n",
    "\n",
    "#\n",
    "# Display Tensors\n",
    "#\n",
    "print(\"Problem Instance:\")\n",
    "print(f\"M: {M}\")\n",
    "print(f\"S: {S}\")\n",
    "print(f\"W: {W}\")\n",
    "print(f\"Q: {Q}\")\n",
    "print(\"\")\n",
    "\n",
    "print(\"Filter weight tensor F\")\n",
    "displayTensor(F_MS)\n",
    "print(\"Input activation tensor I\")\n",
    "displayTensor(I_W)\n",
    "print(\"Output activation tensor O (initial)\")\n",
    "displayTensor(O_MQ)\n",
    "\n",
    "#\n",
    "# Get root of tensors\n",
    "#\n",
    "i_w = I_W.getRoot()\n",
    "f_m = F_MS.getRoot()\n",
    "o_m = O_MQ.getRoot()\n",
    "\n",
    "#\n",
    "# Animation bookkeeeping\n",
    "#\n",
    "canvas = createCanvas(F_MS, I_W, O_MQ)\n",
    "\n",
    "cycle = 0\n",
    "\n",
    "#\n",
    "# Traverse filter weight output channels\n",
    "#\n",
    "for m, f_s in f_m:    \n",
    "    #\n",
    "    # Traverse all `Q` coordinates of the output tensor\n",
    "    #\n",
    "    for q in range(Q):\n",
    "        #\n",
    "        # Traverse all non-empty filter weights for this output channel\n",
    "        #\n",
    "        for s, f_val in f_s:\n",
    "            #\n",
    "            # Compute and fetch the required input activation coordinate\n",
    "            #\n",
    "            w = q + s\n",
    "            i_val = i_w.getPayload(w)\n",
    "\n",
    "            #\n",
    "            # Compute value to contribute to partial output sum\n",
    "            #\n",
    "            o_m[m][q] += i_val * f_val\n",
    "\n",
    "            #\n",
    "            # Animation bookkeeping\n",
    "            #\n",
    "            canvas.addActivity((m,s), (w,), (m,q), spacetime=(0,cycle))\n",
    "            cycle += 1\n",
    "\n",
    "#\n",
    "# Display results\n",
    "#\n",
    "print(\"Output activation tensor O (initial)\")\n",
    "displayTensor(O_MQ)\n",
    "\n",
    "displayCanvas(canvas)"
   ]
  },
  {
   "cell_type": "markdown",
   "metadata": {},
   "source": [
    "## Convolution - spatial output channels"
   ]
  },
  {
   "cell_type": "code",
   "execution_count": null,
   "metadata": {
    "scrolled": false
   },
   "outputs": [],
   "source": [
    "#\n",
    "# Create input convolution tensors\n",
    "#\n",
    "\n",
    "split = 2\n",
    "\n",
    "F_MS = tm4.makeTensor(\"F\")\n",
    "F_M1M0S = F_MS.splitUniform(split)\n",
    "F_M1M0S = F_M1M0S.updateCoords(lambda n, c, p: n)\n",
    "\n",
    "I_W = tm4.makeTensor(\"I\")\n",
    "\n",
    "W = I_W.getShape(\"W\")\n",
    "S = F_MS.getShape(\"S\")\n",
    "Q = W-S+1\n",
    "\n",
    "M = F_MS.getShape(\"M\")\n",
    "M0 = split\n",
    "M1 = (M+split-1)//split\n",
    "\n",
    "O_MQ = Tensor(name=\"O\", rank_ids=[\"M\", \"Q\"], shape=[M, Q])\n",
    "uncompressTensor(O_MQ)\n",
    "O_M1M0Q = O_MQ.splitUniform(split)\n",
    "\n",
    "#\n",
    "# Display Tensors\n",
    "#\n",
    "print(\"Problem Instance:\")\n",
    "print(f\"M1: {M1}\")\n",
    "print(f\"M0: {M0}\")\n",
    "print(f\"W:  {W}\")\n",
    "print(f\"Q:  {Q}\")\n",
    "print(f\"S:  {S}\")\n",
    "\n",
    "displayTensor(F_M1M0S)\n",
    "displayTensor(I_W)\n",
    "displayTensor(O_M1M0Q)\n",
    "\n",
    "#\n",
    "# Get root of tensors\n",
    "#\n",
    "i_w = I_W.getRoot()\n",
    "f_m1 = F_M1M0S.getRoot()\n",
    "o_m1 = O_M1M0Q.getRoot()\n",
    "\n",
    "#\n",
    "# Animation bookkeeeping\n",
    "#\n",
    "canvas = createCanvas(F_M1M0S, I_W, O_M1M0Q)\n",
    "\n",
    "#\n",
    "# Traverse group of filter weight output channels\n",
    "#\n",
    "for m1, f_m0 in f_m1:\n",
    "    #\n",
    "    # Traverse filter weight output channels in this group\n",
    "    #\n",
    "    for m0, f_s in f_m0:        \n",
    "        #\n",
    "        # Traverse all output locations for this output channel\n",
    "        #\n",
    "        for q in range(Q):\n",
    "            #\n",
    "            # Traverse all output locations\n",
    "            #\n",
    "            for s, f_val in f_s:\n",
    "                #\n",
    "                # Compute and fetch the required input activation coordinate\n",
    "                #\n",
    "                w = q + s\n",
    "                i_val = i_w.getPayload(w)\n",
    "\n",
    "                #\n",
    "                # Compute value to contribute to partial output sum\n",
    "                #\n",
    "                o_m1[m1][m0%M0][q] += i_val * f_val\n",
    "                #\n",
    "                # Animation bookkeeping\n",
    "                #\n",
    "                spacestamp = m0\n",
    "                \n",
    "                # TBD: Time should be counted in position not coordinates!\n",
    "                timestamp = m1*W*S + q*S + s \n",
    "                \n",
    "                canvas.addActivity((m1,m0,s), (w,), (m1,m0,q),\n",
    "                                   spacetime=(spacestamp, timestamp))\n",
    "\n",
    "\n",
    "displayTensor(O_M1M0Q)\n",
    "displayCanvas(canvas)\n"
   ]
  },
  {
   "cell_type": "markdown",
   "metadata": {},
   "source": [
    "## Testing area\n",
    "\n",
    "For running alternative algorithms"
   ]
  },
  {
   "cell_type": "code",
   "execution_count": null,
   "metadata": {},
   "outputs": [],
   "source": []
  },
  {
   "cell_type": "code",
   "execution_count": null,
   "metadata": {},
   "outputs": [],
   "source": []
  },
  {
   "cell_type": "code",
   "execution_count": null,
   "metadata": {},
   "outputs": [],
   "source": []
  }
 ],
 "metadata": {
  "kernelspec": {
   "display_name": "Python 3",
   "language": "python",
   "name": "python3"
  },
  "language_info": {
   "codemirror_mode": {
    "name": "ipython",
    "version": 3
   },
   "file_extension": ".py",
   "mimetype": "text/x-python",
   "name": "python",
   "nbconvert_exporter": "python",
   "pygments_lexer": "ipython3",
   "version": "3.8.8"
  }
 },
 "nbformat": 4,
 "nbformat_minor": 2
}
